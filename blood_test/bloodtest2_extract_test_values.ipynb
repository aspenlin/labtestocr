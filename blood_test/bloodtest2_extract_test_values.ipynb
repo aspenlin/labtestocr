{
 "cells": [
  {
   "cell_type": "code",
   "execution_count": 1,
   "metadata": {},
   "outputs": [],
   "source": [
    "import re"
   ]
  },
  {
   "cell_type": "code",
   "execution_count": 2,
   "metadata": {},
   "outputs": [],
   "source": [
    "#read in tesseract result with whitelist.txt as configs\n",
    "with open('bloodtest2_whitelist_ubuntu.txt', 'r') as f:\n",
    "    text = f.read()"
   ]
  },
  {
   "cell_type": "code",
   "execution_count": 3,
   "metadata": {
    "collapsed": true
   },
   "outputs": [
    {
     "data": {
      "text/plain": [
       "'om\\n1534233600/ID40679465  J二  L量I蛋量氢中 酶 粒素 密度血度单\\n 谷       40619465    积血       嗜草对g氢葡草 \\n性分       草  肌   L氯r甘     直间201904192105 ll嗜l度甘尿i 量i接三 直萄草 90419G0191415\\n半3     板二性性0      0\\n               压z\\nR     丁      值单体      丁      3\\n1血蛋白A27.02   f010.0   mg/L   13嗜酸性粒细胞40.04\\n2CL    8      f8      mg/Ll4 嗜葡量量氢蛋素  5 OOO    1 8二35lg.30 X109/L\\n3肌体IgM性      性    /     15红细胞计数    4 30      3     X10.9/\\n4白细胞计数   4.00     4.015.0X109/i白1       .705.80X1012/L\\n5淋巴细胞%   52.0    f20.040.0%    0   18.0    110160g/L\\n1    7.5      0     17红细胞比35.9     33.047.3%\\n7中性粒细胞%39.5    150057050     19 平均红细胞体积83.5     76.591.9f1\\n8酸性粒细胞W1        D     20 平均红细胞Hb量27.4     5\\n9嗜碱性粒细胞%0.0      D       丁均红细胞Hb浓度329      320.0.355.0g/L\\n10淋巴细胞4     2.08      1.23.4X1079/L21红细胞体积分布W12.3       11.613.7\\n11单体细胞4     0.30      0.10.6X109/L22血小板计数    187       100550X1079/L\\n12中性粒细胞4158     12440X1079/L23平均血小板体积10.4      6.5 llOf1\\n肌                                     24血I4布LL6       10.015.0%\\n直间201904192105间201904192105直间2019041921.31          D\\n.          8      .        0     31核宽\\n油对核中压a\\nl               0\\n\\x0c'"
      ]
     },
     "execution_count": 3,
     "metadata": {},
     "output_type": "execute_result"
    }
   ],
   "source": [
    "text"
   ]
  },
  {
   "cell_type": "code",
   "execution_count": 4,
   "metadata": {},
   "outputs": [],
   "source": [
    "#convert to a list\n",
    "text = text.split()"
   ]
  },
  {
   "cell_type": "code",
   "execution_count": 5,
   "metadata": {},
   "outputs": [],
   "source": [
    "test_names = ['血淀粉样蛋白','反应蛋白','肺炎支原体Igm胶%','白细胞计数','单核细胞%','淋巴细胞%','中性粒细胞%','嗜酸性粒细胞%',\n",
    "             '嗜碱性粒细胞%','淋巴细胞#','嗜酸性粒细胞#','单核细胞#','中性粒细胞#','嗜碱性粒细胞#','红细胞计数','血红蛋白测定',\n",
    "             '红细胞比容测定','平均红细胞体积','平均红细胞Hb含量','平均红细胞Hb浓度','红细胞体积分布-W','血小板计数',\n",
    "             '平均血小板体积','血小板体积分布-W']\n"
   ]
  },
  {
   "cell_type": "code",
   "execution_count": 6,
   "metadata": {},
   "outputs": [
    {
     "name": "stdout",
     "output_type": "stream",
     "text": [
      "{'血淀粉样蛋白': 0, '反应蛋白': 0, '肺炎支原体Igm胶%': 0, '白细胞计数': 0, '单核细胞%': 0, '淋巴细胞%': 0, '中性粒细胞%': 0, '嗜酸性粒细胞%': 0, '嗜碱性粒细胞%': 0, '淋巴细胞#': 0, '嗜酸性粒细胞#': 0, '单核细胞#': 0, '中性粒细胞#': 0, '嗜碱性粒细胞#': 0, '红细胞计数': 0, '血红蛋白测定': 0, '红细胞比容测定': 0, '平均红细胞体积': 0, '平均红细胞Hb含量': 0, '平均红细胞Hb浓度': 0, '红细胞体积分布-W': 0, '血小板计数': 0, '平均血小板体积': 0, '血小板体积分布-W': 0}\n"
     ]
    }
   ],
   "source": [
    "#make a dict of test_names and set default value to 0\n",
    "dic_names = {}\n",
    "[dic_names.setdefault(name, 0) for name in test_names]\n",
    "print(dic_names)"
   ]
  },
  {
   "cell_type": "code",
   "execution_count": 7,
   "metadata": {},
   "outputs": [],
   "source": [
    "#map dict_names with not necessarily correct names from tesseract\n",
    "for i in range(len(test_names)):\n",
    "    found = False\n",
    "    max_count, index = 0, 0\n",
    "    for j in range(len(text)):\n",
    "        count = 0\n",
    "        if test_names[i] in text[j]:\n",
    "            dic_names[test_names[i]] = text[j]\n",
    "            found = True\n",
    "            break\n",
    "        else:\n",
    "            for c in test_names[i]:\n",
    "                if c in text[j]:\n",
    "                    count += 1\n",
    "            if count > max_count:\n",
    "                max_count, index = count, j\n",
    "    if not found:\n",
    "        dic_names[test_names[i]] = text[index]     "
   ]
  },
  {
   "cell_type": "code",
   "execution_count": 8,
   "metadata": {},
   "outputs": [
    {
     "data": {
      "text/plain": [
       "{'中性粒细胞#': '7中性粒细胞%39.5',\n",
       " '中性粒细胞%': '7中性粒细胞%39.5',\n",
       " '单核细胞#': '11单体细胞4',\n",
       " '单核细胞%': '5淋巴细胞%',\n",
       " '反应蛋白': '1血蛋白A27.02',\n",
       " '嗜碱性粒细胞#': '9嗜碱性粒细胞%0.0',\n",
       " '嗜碱性粒细胞%': '9嗜碱性粒细胞%0.0',\n",
       " '嗜酸性粒细胞#': '13嗜酸性粒细胞40.04',\n",
       " '嗜酸性粒细胞%': '13嗜酸性粒细胞40.04',\n",
       " '平均红细胞Hb含量': '平均红细胞Hb量27.4',\n",
       " '平均红细胞Hb浓度': '丁均红细胞Hb浓度329',\n",
       " '平均红细胞体积': '平均红细胞体积83.5',\n",
       " '平均血小板体积': '12440X1079/L23平均血小板体积10.4',\n",
       " '淋巴细胞#': '5淋巴细胞%',\n",
       " '淋巴细胞%': '5淋巴细胞%',\n",
       " '白细胞计数': '4白细胞计数',\n",
       " '红细胞体积分布-W': '1.23.4X1079/L21红细胞体积分布W12.3',\n",
       " '红细胞比容测定': '17红细胞比35.9',\n",
       " '红细胞计数': '15红细胞计数',\n",
       " '肺炎支原体Igm胶%': '3肌体IgM性',\n",
       " '血小板体积分布-W': '1.23.4X1079/L21红细胞体积分布W12.3',\n",
       " '血小板计数': '0.10.6X109/L22血小板计数',\n",
       " '血淀粉样蛋白': '1血蛋白A27.02',\n",
       " '血红蛋白测定': '1血蛋白A27.02'}"
      ]
     },
     "execution_count": 8,
     "metadata": {},
     "output_type": "execute_result"
    }
   ],
   "source": [
    "dic_names"
   ]
  },
  {
   "cell_type": "code",
   "execution_count": 9,
   "metadata": {},
   "outputs": [],
   "source": [
    "#convert text (list) back to a string with space\n",
    "text_string = ' '.join(text)"
   ]
  },
  {
   "cell_type": "code",
   "execution_count": 10,
   "metadata": {},
   "outputs": [
    {
     "data": {
      "text/plain": [
       "'om 1534233600/ID40679465 J二 L量I蛋量氢中 酶 粒素 密度血度单 谷 40619465 积血 嗜草对g氢葡草 性分 草 肌 L氯r甘 直间201904192105 ll嗜l度甘尿i 量i接三 直萄草 90419G0191415 半3 板二性性0 0 压z R 丁 值单体 丁 3 1血蛋白A27.02 f010.0 mg/L 13嗜酸性粒细胞40.04 2CL 8 f8 mg/Ll4 嗜葡量量氢蛋素 5 OOO 1 8二35lg.30 X109/L 3肌体IgM性 性 / 15红细胞计数 4 30 3 X10.9/ 4白细胞计数 4.00 4.015.0X109/i白1 .705.80X1012/L 5淋巴细胞% 52.0 f20.040.0% 0 18.0 110160g/L 1 7.5 0 17红细胞比35.9 33.047.3% 7中性粒细胞%39.5 150057050 19 平均红细胞体积83.5 76.591.9f1 8酸性粒细胞W1 D 20 平均红细胞Hb量27.4 5 9嗜碱性粒细胞%0.0 D 丁均红细胞Hb浓度329 320.0.355.0g/L 10淋巴细胞4 2.08 1.23.4X1079/L21红细胞体积分布W12.3 11.613.7 11单体细胞4 0.30 0.10.6X109/L22血小板计数 187 100550X1079/L 12中性粒细胞4158 12440X1079/L23平均血小板体积10.4 6.5 llOf1 肌 24血I4布LL6 10.015.0% 直间201904192105间201904192105直间2019041921.31 D . 8 . 0 31核宽 油对核中压a l 0'"
      ]
     },
     "execution_count": 10,
     "metadata": {},
     "output_type": "execute_result"
    }
   ],
   "source": [
    "text_string"
   ]
  },
  {
   "cell_type": "code",
   "execution_count": 11,
   "metadata": {},
   "outputs": [
    {
     "name": "stdout",
     "output_type": "stream",
     "text": [
      "{'血淀粉样蛋白': 0, '反应蛋白': 0, '肺炎支原体Igm胶%': 0, '白细胞计数': 0, '单核细胞%': 0, '淋巴细胞%': 0, '中性粒细胞%': 0, '嗜酸性粒细胞%': 0, '嗜碱性粒细胞%': 0, '淋巴细胞#': 0, '嗜酸性粒细胞#': 0, '单核细胞#': 0, '中性粒细胞#': 0, '嗜碱性粒细胞#': 0, '红细胞计数': 0, '血红蛋白测定': 0, '红细胞比容测定': 0, '平均红细胞体积': 0, '平均红细胞Hb含量': 0, '平均红细胞Hb浓度': 0, '红细胞体积分布-W': 0, '血小板计数': 0, '平均血小板体积': 0, '血小板体积分布-W': 0}\n"
     ]
    }
   ],
   "source": [
    "#initialize a dict for values with test_names as keys\n",
    "dic_values = {}\n",
    "[dic_values.setdefault(name, 0) for name in test_names]\n",
    "print(dic_values)"
   ]
  },
  {
   "cell_type": "code",
   "execution_count": 12,
   "metadata": {},
   "outputs": [],
   "source": [
    "#find the values for test_names, here suppose the values are all float\n",
    "for k, v in dic_names.items():\n",
    "    value = re.findall('\\d+\\.\\s?\\d+', text_string[text_string.find(v):text_string.find(v)+20])\n",
    "    if value:\n",
    "        dic_values[k] = value[0]"
   ]
  },
  {
   "cell_type": "code",
   "execution_count": 13,
   "metadata": {},
   "outputs": [
    {
     "data": {
      "text/plain": [
       "{'中性粒细胞#': '39.5',\n",
       " '中性粒细胞%': '39.5',\n",
       " '单核细胞#': '0.30',\n",
       " '单核细胞%': '52.0',\n",
       " '反应蛋白': '27.02',\n",
       " '嗜碱性粒细胞#': '0.0',\n",
       " '嗜碱性粒细胞%': '0.0',\n",
       " '嗜酸性粒细胞#': '40.04',\n",
       " '嗜酸性粒细胞%': '40.04',\n",
       " '平均红细胞Hb含量': '27.4',\n",
       " '平均红细胞Hb浓度': '320.0',\n",
       " '平均红细胞体积': '83.5',\n",
       " '平均血小板体积': 0,\n",
       " '淋巴细胞#': '52.0',\n",
       " '淋巴细胞%': '52.0',\n",
       " '白细胞计数': '4.00',\n",
       " '红细胞体积分布-W': '1.23',\n",
       " '红细胞比容测定': '35.9',\n",
       " '红细胞计数': '10.9',\n",
       " '肺炎支原体Igm胶%': 0,\n",
       " '血小板体积分布-W': '1.23',\n",
       " '血小板计数': '0.10',\n",
       " '血淀粉样蛋白': '27.02',\n",
       " '血红蛋白测定': '27.02'}"
      ]
     },
     "execution_count": 13,
     "metadata": {},
     "output_type": "execute_result"
    }
   ],
   "source": [
    "dic_values"
   ]
  },
  {
   "cell_type": "code",
   "execution_count": 14,
   "metadata": {},
   "outputs": [
    {
     "data": {
      "text/plain": [
       "0.2916666666666667"
      ]
     },
     "execution_count": 14,
     "metadata": {},
     "output_type": "execute_result"
    }
   ],
   "source": [
    "7/len(test_names)"
   ]
  },
  {
   "cell_type": "code",
   "execution_count": null,
   "metadata": {},
   "outputs": [],
   "source": []
  }
 ],
 "metadata": {
  "kernelspec": {
   "display_name": "Python 3",
   "language": "python",
   "name": "python3"
  },
  "language_info": {
   "codemirror_mode": {
    "name": "ipython",
    "version": 3
   },
   "file_extension": ".py",
   "mimetype": "text/x-python",
   "name": "python",
   "nbconvert_exporter": "python",
   "pygments_lexer": "ipython3",
   "version": "3.6.8"
  }
 },
 "nbformat": 4,
 "nbformat_minor": 2
}
