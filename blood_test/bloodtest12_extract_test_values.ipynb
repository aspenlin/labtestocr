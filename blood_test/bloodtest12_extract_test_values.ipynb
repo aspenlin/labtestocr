{
 "cells": [
  {
   "cell_type": "code",
   "execution_count": 1,
   "metadata": {},
   "outputs": [],
   "source": [
    "import re"
   ]
  },
  {
   "cell_type": "code",
   "execution_count": 2,
   "metadata": {},
   "outputs": [],
   "source": [
    "#read in tesseract result with whitelist.txt as configs\n",
    "with open('bloodtest12_border.txt', 'r') as f:\n",
    "    text = f.read()"
   ]
  },
  {
   "cell_type": "code",
   "execution_count": 5,
   "metadata": {
    "collapsed": true
   },
   "outputs": [
    {
     "data": {
      "text/plain": [
       "['中',\n",
       " '单',\n",
       " '小',\n",
       " '中',\n",
       " '单',\n",
       " '蛋嗜油固',\n",
       " 'E',\n",
       " 's',\n",
       " '-',\n",
       " '8',\n",
       " '<10AI2L4.00-5.50',\n",
       " 'RETW网织红细胞百分比',\n",
       " '1.59%',\n",
       " '0.8-2.015RBC细胞',\n",
       " '白2',\n",
       " 'g素Iu',\n",
       " 'n',\n",
       " '素板g',\n",
       " '-160',\n",
       " '2Clz网织红细胞血红量白84-6pg',\n",
       " '29.0-35.016HGB血红蛋白',\n",
       " '186数-',\n",
       " '35.0-50.0',\n",
       " '3WBC白细',\n",
       " '47.24xi0ryL3.50-9.5017NCT4细胞压积',\n",
       " '0',\n",
       " '82.0-97.0',\n",
       " 'UYS淋巴细胆百分i',\n",
       " '78.91%',\n",
       " '20.0-40.018CY4中均红细胞体积96.3',\n",
       " '82.',\n",
       " '标',\n",
       " '5MONO8单核细胆分比',\n",
       " '2.0',\n",
       " '1',\n",
       " '3.0-8.0193CHC4平均红细胞血红白340',\n",
       " '8L',\n",
       " '320',\n",
       " '醇O',\n",
       " '6NEUTN中性粒细胞百分比8.8',\n",
       " '50.0-75.020CH平均红细胞血红白32.81pg',\n",
       " '27.0-320',\n",
       " '7E0S8酸性粒细胆百分t0.2%',\n",
       " '0.5-5.021CHGL单细胞血红蛋白浓度338',\n",
       " '8ML',\n",
       " '320-360',\n",
       " '8BASO8碱性粒细胆百分化171%',\n",
       " '0.01.022CH单细胞血红白',\n",
       " '32.41pg',\n",
       " '27.0-32.0',\n",
       " '9LCW标大细胆百分比8.41%',\n",
       " '0.0-4.023RDW红细胞体积分布密度14.6%',\n",
       " '0.0-15.0',\n",
       " '10Ls巴细细对值',\n",
       " '3725xl0r9E0.80-4.0024HDOW血红白分布宽度',\n",
       " '2',\n",
       " '20.0-30.0',\n",
       " '11MONOs',\n",
       " '激i素标氢',\n",
       " '酶g量量草g钾量葡rI',\n",
       " '0.98txl0WL0.12-0.8025FLT血小板',\n",
       " '222',\n",
       " '109/L100-350',\n",
       " '12NEUTg中性粒细胞细',\n",
       " '4.15<i09L2.00-7.5026PCT血小板压积',\n",
       " '4',\n",
       " '%',\n",
       " '-0.',\n",
       " '13E0S2胞细胞绝对值0.10',\n",
       " '<109L0.02-0.5027PDf血',\n",
       " '4',\n",
       " '板f4二素压l/',\n",
       " '布宽',\n",
       " '宽密H',\n",
       " '标',\n",
       " '0.110.28',\n",
       " 'S08性粒细胞细对值0.8211091',\n",
       " '4',\n",
       " 'F',\n",
       " 'l',\n",
       " '/\"',\n",
       " '36.078',\n",
       " '14.BRS08碳性粒细胞细对值0.82',\n",
       " '0.00-0.1028MPY平均血小板体积',\n",
       " '6.20',\n",
       " '7.0',\n",
       " '130']"
      ]
     },
     "execution_count": 5,
     "metadata": {},
     "output_type": "execute_result"
    }
   ],
   "source": [
    "text"
   ]
  },
  {
   "cell_type": "code",
   "execution_count": 4,
   "metadata": {},
   "outputs": [],
   "source": [
    "#convert to a list\n",
    "text = text.split()"
   ]
  },
  {
   "cell_type": "code",
   "execution_count": 6,
   "metadata": {},
   "outputs": [],
   "source": [
    "test_names = ['网织红细胞百分比','网织红细胞血红蛋白含量','白细胞','单核细胞百分比','淋巴细胞百分比','嗜碱性粒细胞百分比','中性粒细胞百分比',\n",
    "             '嗜酸性粒细胞百分比','未染色大细胞百分比','淋巴细胞绝对值','单核细胞绝对值','中性粒细胞绝对值','嗜酸性粒细胞绝对值','嗜碱性粒细胞绝对值','平均红细胞体积',\n",
    "             '红细胞','血红蛋白','红细胞压积','平均红细胞体积','平均红细胞血红蛋白浓度','平均红细胞血红蛋白','单个细胞血红蛋白浓度',\n",
    "             '单个细胞血红蛋白','红细胞体积分布宽度','血红蛋白分布宽度','血小板','血小板压积','血小板体积分布宽度','平均血小板体积']\n"
   ]
  },
  {
   "cell_type": "code",
   "execution_count": 7,
   "metadata": {},
   "outputs": [
    {
     "name": "stdout",
     "output_type": "stream",
     "text": [
      "{'网织红细胞百分比': 0, '网织红细胞血红蛋白含量': 0, '白细胞': 0, '单核细胞百分比': 0, '淋巴细胞百分比': 0, '嗜碱性粒细胞百分比': 0, '中性粒细胞百分比': 0, '嗜酸性粒细胞百分比': 0, '未染色大细胞百分比': 0, '淋巴细胞绝对值': 0, '单核细胞绝对值': 0, '中性粒细胞绝对值': 0, '嗜酸性粒细胞绝对值': 0, '嗜碱性粒细胞绝对值': 0, '平均红细胞体积': 0, '红细胞': 0, '血红蛋白': 0, '红细胞压积': 0, '平均红细胞血红蛋白浓度': 0, '平均红细胞血红蛋白': 0, '单个细胞血红蛋白浓度': 0, '单个细胞血红蛋白': 0, '红细胞体积分布宽度': 0, '血红蛋白分布宽度': 0, '血小板': 0, '血小板压积': 0, '血小板体积分布宽度': 0, '平均血小板体积': 0}\n"
     ]
    }
   ],
   "source": [
    "#make a dict of test_names and set default value to 0\n",
    "dic_names = {}\n",
    "[dic_names.setdefault(name, 0) for name in test_names]\n",
    "print(dic_names)"
   ]
  },
  {
   "cell_type": "code",
   "execution_count": 8,
   "metadata": {},
   "outputs": [],
   "source": [
    "#map dict_names with not necessarily correct names from tesseract\n",
    "for i in range(len(test_names)):\n",
    "    found = False\n",
    "    max_count, index = 0, 0\n",
    "    for j in range(len(text)):\n",
    "        count = 0\n",
    "        if test_names[i] in text[j]:\n",
    "            dic_names[test_names[i]] = text[j]\n",
    "            found = True\n",
    "            break\n",
    "        else:\n",
    "            for c in test_names[i]:\n",
    "                if c in text[j]:\n",
    "                    count += 1\n",
    "            if count > max_count:\n",
    "                max_count, index = count, j\n",
    "    if not found:\n",
    "        dic_names[test_names[i]] = text[index]     "
   ]
  },
  {
   "cell_type": "code",
   "execution_count": 9,
   "metadata": {},
   "outputs": [
    {
     "data": {
      "text/plain": [
       "{'中性粒细胞百分比': '6NEUTN中性粒细胞百分比8.8',\n",
       " '中性粒细胞绝对值': 'S08性粒细胞细对值0.8211091',\n",
       " '单个细胞血红蛋白': '0.5-5.021CHGL单细胞血红蛋白浓度338',\n",
       " '单个细胞血红蛋白浓度': '0.5-5.021CHGL单细胞血红蛋白浓度338',\n",
       " '单核细胞百分比': 'RETW网织红细胞百分比',\n",
       " '单核细胞绝对值': '13E0S2胞细胞绝对值0.10',\n",
       " '嗜碱性粒细胞百分比': '6NEUTN中性粒细胞百分比8.8',\n",
       " '嗜碱性粒细胞绝对值': 'S08性粒细胞细对值0.8211091',\n",
       " '嗜酸性粒细胞百分比': '6NEUTN中性粒细胞百分比8.8',\n",
       " '嗜酸性粒细胞绝对值': 'S08性粒细胞细对值0.8211091',\n",
       " '平均红细胞体积': '20.0-40.018CY4中均红细胞体积96.3',\n",
       " '平均红细胞血红蛋白': '3.0-8.0193CHC4平均红细胞血红白340',\n",
       " '平均红细胞血红蛋白浓度': '0.5-5.021CHGL单细胞血红蛋白浓度338',\n",
       " '平均血小板体积': '0.00-0.1028MPY平均血小板体积',\n",
       " '未染色大细胞百分比': 'RETW网织红细胞百分比',\n",
       " '淋巴细胞百分比': 'RETW网织红细胞百分比',\n",
       " '淋巴细胞绝对值': '13E0S2胞细胞绝对值0.10',\n",
       " '白细胞': '2Clz网织红细胞血红量白84-6pg',\n",
       " '红细胞': 'RETW网织红细胞百分比',\n",
       " '红细胞体积分布宽度': '0.0-4.023RDW红细胞体积分布密度14.6%',\n",
       " '红细胞压积': '47.24xi0ryL3.50-9.5017NCT4细胞压积',\n",
       " '网织红细胞百分比': 'RETW网织红细胞百分比',\n",
       " '网织红细胞血红蛋白含量': '2Clz网织红细胞血红量白84-6pg',\n",
       " '血小板': '0.98txl0WL0.12-0.8025FLT血小板',\n",
       " '血小板体积分布宽度': '0.0-4.023RDW红细胞体积分布密度14.6%',\n",
       " '血小板压积': '4.15<i09L2.00-7.5026PCT血小板压积',\n",
       " '血红蛋白': '29.0-35.016HGB血红蛋白',\n",
       " '血红蛋白分布宽度': '3725xl0r9E0.80-4.0024HDOW血红白分布宽度'}"
      ]
     },
     "execution_count": 9,
     "metadata": {},
     "output_type": "execute_result"
    }
   ],
   "source": [
    "dic_names"
   ]
  },
  {
   "cell_type": "code",
   "execution_count": 10,
   "metadata": {},
   "outputs": [],
   "source": [
    "#convert text (list) back to a string with space\n",
    "text_string = ' '.join(text)"
   ]
  },
  {
   "cell_type": "code",
   "execution_count": 11,
   "metadata": {},
   "outputs": [
    {
     "data": {
      "text/plain": [
       "'中 单 小 中 单 蛋嗜油固 E s - 8 <10AI2L4.00-5.50 RETW网织红细胞百分比 1.59% 0.8-2.015RBC细胞 白2 g素Iu n 素板g -160 2Clz网织红细胞血红量白84-6pg 29.0-35.016HGB血红蛋白 186数- 35.0-50.0 3WBC白细 47.24xi0ryL3.50-9.5017NCT4细胞压积 0 82.0-97.0 UYS淋巴细胆百分i 78.91% 20.0-40.018CY4中均红细胞体积96.3 82. 标 5MONO8单核细胆分比 2.0 1 3.0-8.0193CHC4平均红细胞血红白340 8L 320 醇O 6NEUTN中性粒细胞百分比8.8 50.0-75.020CH平均红细胞血红白32.81pg 27.0-320 7E0S8酸性粒细胆百分t0.2% 0.5-5.021CHGL单细胞血红蛋白浓度338 8ML 320-360 8BASO8碱性粒细胆百分化171% 0.01.022CH单细胞血红白 32.41pg 27.0-32.0 9LCW标大细胆百分比8.41% 0.0-4.023RDW红细胞体积分布密度14.6% 0.0-15.0 10Ls巴细细对值 3725xl0r9E0.80-4.0024HDOW血红白分布宽度 2 20.0-30.0 11MONOs 激i素标氢 酶g量量草g钾量葡rI 0.98txl0WL0.12-0.8025FLT血小板 222 109/L100-350 12NEUTg中性粒细胞细 4.15<i09L2.00-7.5026PCT血小板压积 4 % -0. 13E0S2胞细胞绝对值0.10 <109L0.02-0.5027PDf血 4 板f4二素压l/ 布宽 宽密H 标 0.110.28 S08性粒细胞细对值0.8211091 4 F l /\" 36.078 14.BRS08碳性粒细胞细对值0.82 0.00-0.1028MPY平均血小板体积 6.20 7.0 130'"
      ]
     },
     "execution_count": 11,
     "metadata": {},
     "output_type": "execute_result"
    }
   ],
   "source": [
    "text_string"
   ]
  },
  {
   "cell_type": "code",
   "execution_count": 12,
   "metadata": {},
   "outputs": [
    {
     "name": "stdout",
     "output_type": "stream",
     "text": [
      "{'网织红细胞百分比': 0, '网织红细胞血红蛋白含量': 0, '白细胞': 0, '单核细胞百分比': 0, '淋巴细胞百分比': 0, '嗜碱性粒细胞百分比': 0, '中性粒细胞百分比': 0, '嗜酸性粒细胞百分比': 0, '未染色大细胞百分比': 0, '淋巴细胞绝对值': 0, '单核细胞绝对值': 0, '中性粒细胞绝对值': 0, '嗜酸性粒细胞绝对值': 0, '嗜碱性粒细胞绝对值': 0, '平均红细胞体积': 0, '红细胞': 0, '血红蛋白': 0, '红细胞压积': 0, '平均红细胞血红蛋白浓度': 0, '平均红细胞血红蛋白': 0, '单个细胞血红蛋白浓度': 0, '单个细胞血红蛋白': 0, '红细胞体积分布宽度': 0, '血红蛋白分布宽度': 0, '血小板': 0, '血小板压积': 0, '血小板体积分布宽度': 0, '平均血小板体积': 0}\n"
     ]
    }
   ],
   "source": [
    "#initialize a dict for values with test_names as keys\n",
    "dic_values = {}\n",
    "[dic_values.setdefault(name, 0) for name in test_names]\n",
    "print(dic_values)"
   ]
  },
  {
   "cell_type": "code",
   "execution_count": 13,
   "metadata": {},
   "outputs": [],
   "source": [
    "#find the values for test_names, here suppose the values are all float\n",
    "for k, v in dic_names.items():\n",
    "    value = re.findall('\\d+\\.?\\d+', text_string[text_string.find(re.findall(r'[\\u4e00-\\u9fff]+', v)[0]):text_string.find(re.findall(r'[\\u4e00-\\u9fff]+', v)[0])+30])\n",
    "    if value:\n",
    "        dic_values[k] = value[0]"
   ]
  },
  {
   "cell_type": "code",
   "execution_count": 14,
   "metadata": {},
   "outputs": [
    {
     "data": {
      "text/plain": [
       "{'中性粒细胞百分比': '8.8',\n",
       " '中性粒细胞绝对值': '0.8211091',\n",
       " '单个细胞血红蛋白': '338',\n",
       " '单个细胞血红蛋白浓度': '338',\n",
       " '单核细胞百分比': '1.59',\n",
       " '单核细胞绝对值': '0.10',\n",
       " '嗜碱性粒细胞百分比': '8.8',\n",
       " '嗜碱性粒细胞绝对值': '0.8211091',\n",
       " '嗜酸性粒细胞百分比': '8.8',\n",
       " '嗜酸性粒细胞绝对值': '0.8211091',\n",
       " '平均红细胞体积': '96.3',\n",
       " '平均红细胞血红蛋白': '340',\n",
       " '平均红细胞血红蛋白浓度': '338',\n",
       " '平均血小板体积': '6.20',\n",
       " '未染色大细胞百分比': '1.59',\n",
       " '淋巴细胞百分比': '1.59',\n",
       " '淋巴细胞绝对值': '0.10',\n",
       " '白细胞': '84',\n",
       " '红细胞': '1.59',\n",
       " '红细胞体积分布宽度': '14.6',\n",
       " '红细胞压积': '82.0',\n",
       " '网织红细胞百分比': '1.59',\n",
       " '网织红细胞血红蛋白含量': '84',\n",
       " '血小板': '222',\n",
       " '血小板体积分布宽度': '14.6',\n",
       " '血小板压积': '13',\n",
       " '血红蛋白': '186',\n",
       " '血红蛋白分布宽度': '20.0'}"
      ]
     },
     "execution_count": 14,
     "metadata": {},
     "output_type": "execute_result"
    }
   ],
   "source": [
    "dic_values"
   ]
  },
  {
   "cell_type": "code",
   "execution_count": 15,
   "metadata": {},
   "outputs": [
    {
     "data": {
      "text/plain": [
       "0.27586206896551724"
      ]
     },
     "execution_count": 15,
     "metadata": {},
     "output_type": "execute_result"
    }
   ],
   "source": [
    "8/len(test_names)"
   ]
  },
  {
   "cell_type": "code",
   "execution_count": null,
   "metadata": {},
   "outputs": [],
   "source": []
  }
 ],
 "metadata": {
  "kernelspec": {
   "display_name": "Python 3",
   "language": "python",
   "name": "python3"
  },
  "language_info": {
   "codemirror_mode": {
    "name": "ipython",
    "version": 3
   },
   "file_extension": ".py",
   "mimetype": "text/x-python",
   "name": "python",
   "nbconvert_exporter": "python",
   "pygments_lexer": "ipython3",
   "version": "3.6.8"
  }
 },
 "nbformat": 4,
 "nbformat_minor": 2
}
