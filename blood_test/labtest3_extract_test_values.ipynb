{
 "cells": [
  {
   "cell_type": "code",
   "execution_count": 1,
   "metadata": {},
   "outputs": [],
   "source": [
    "import re"
   ]
  },
  {
   "cell_type": "code",
   "execution_count": 2,
   "metadata": {},
   "outputs": [],
   "source": [
    "#read in tesseract result with whitelist.txt as configs\n",
    "with open('labtest3_whitelist_ubuntu.txt', 'r') as f:\n",
    "    text = f.read()"
   ]
  },
  {
   "cell_type": "code",
   "execution_count": 14,
   "metadata": {},
   "outputs": [
    {
     "data": {
      "text/plain": [
       "['I宽',\n",
       " '直',\n",
       " '红',\n",
       " '绝素',\n",
       " '单',\n",
       " '值',\n",
       " 'I宽',\n",
       " '直',\n",
       " '红',\n",
       " '单',\n",
       " '值',\n",
       " '白细胞',\n",
       " 'WBC9.57109/L3.5.9.5红细胞压积',\n",
       " 'HCT30.00%',\n",
       " '35.45',\n",
       " '中性粒细胞比NEU%83.001%',\n",
       " '40.75平均红细胞体积MCV100.3',\n",
       " '82.100',\n",
       " '淋巴细胞比LYM%9.501%',\n",
       " '20.50平均血红蛋白量MCH30.8',\n",
       " 'pg',\n",
       " '27.34',\n",
       " '比单MONX%6.00',\n",
       " '%',\n",
       " '3.10',\n",
       " '平均血红蛋白浓度MCHC307.01gL',\n",
       " '31635',\n",
       " '嗜酸性粒细胞比EOS%1.00',\n",
       " '%',\n",
       " '0.48.0血小板压积',\n",
       " 'PpcT0',\n",
       " '%',\n",
       " '0',\n",
       " '红板比半84S%0.50',\n",
       " '%',\n",
       " 'l',\n",
       " '平均血小板体积MPV9.70',\n",
       " '化',\n",
       " '6.14',\n",
       " '中性粒细胞计数NEUY7.94f109L1.86.3小板计数',\n",
       " 'P',\n",
       " '1',\n",
       " '淋巴细胞计数LYMY40.911109/L1.1.3.2',\n",
       " '.',\n",
       " '单核细胞计数MON40.57',\n",
       " '109L0.1.0.6',\n",
       " 'j钙小核平均宽度',\n",
       " 'P',\n",
       " 'fL',\n",
       " '蛋',\n",
       " '总',\n",
       " '酸性粒细胞计数EOSf0.10',\n",
       " '109L0.020.52红细胞分布宽度%RDIWCh20.7l',\n",
       " '1',\n",
       " '直',\n",
       " '嗜碱性粒细胞计数BASY0.05',\n",
       " '1oxeL0.0.06红细胞分布宽度f4RDWSC75.2化',\n",
       " '量量量',\n",
       " '血红蛋白',\n",
       " 'HGBg20giL',\n",
       " '115150型血小板比PttCpuolcss',\n",
       " '红细胞',\n",
       " 'RBC2.9911012/L3.8.5.1',\n",
       " 'c']"
      ]
     },
     "execution_count": 14,
     "metadata": {},
     "output_type": "execute_result"
    }
   ],
   "source": [
    "text"
   ]
  },
  {
   "cell_type": "code",
   "execution_count": 4,
   "metadata": {},
   "outputs": [],
   "source": [
    "#convert to a list\n",
    "text = text.split()"
   ]
  },
  {
   "cell_type": "code",
   "execution_count": 5,
   "metadata": {},
   "outputs": [],
   "source": [
    "test_names = ['白细胞','中性粒细胞比率','淋巴细胞比率','单核细胞比率','嗜酸性粒细胞比率','嗜碱性粒细胞比率','中性粒细胞计数','淋巴细胞计数',\n",
    "             '单核细胞计数','嗜酸性粒细胞计数','嗜碱性粒细胞计数','血红蛋白','红细胞','红细胞压积','平均红细胞体积','平均血红蛋白含量',\n",
    "             '平均血红蛋白浓度','血小板压积','平均血小板体积','血小板计数','血小板平均宽度','红细胞分布宽度%','红细胞分布宽度#',\n",
    "             '大型血小板比率']\n"
   ]
  },
  {
   "cell_type": "code",
   "execution_count": 6,
   "metadata": {},
   "outputs": [
    {
     "name": "stdout",
     "output_type": "stream",
     "text": [
      "{'白细胞': 0, '中性粒细胞比率': 0, '淋巴细胞比率': 0, '单核细胞比率': 0, '嗜酸性粒细胞比率': 0, '嗜碱性粒细胞比率': 0, '中性粒细胞计数': 0, '淋巴细胞计数': 0, '单核细胞计数': 0, '嗜酸性粒细胞计数': 0, '嗜碱性粒细胞计数': 0, '血红蛋白': 0, '红细胞': 0, '红细胞压积': 0, '平均红细胞体积': 0, '平均血红蛋白含量': 0, '平均血红蛋白浓度': 0, '血小板压积': 0, '平均血小板体积': 0, '血小板计数': 0, '血小板平均宽度': 0, '红细胞分布宽度%': 0, '红细胞分布宽度#': 0, '大型血小板比率': 0}\n"
     ]
    }
   ],
   "source": [
    "#make a dict of test_names and set default value to 0\n",
    "dic_names = {}\n",
    "[dic_names.setdefault(name, 0) for name in test_names]\n",
    "print(dic_names)"
   ]
  },
  {
   "cell_type": "code",
   "execution_count": 7,
   "metadata": {},
   "outputs": [],
   "source": [
    "#map dict_names with not necessarily correct names from tesseract\n",
    "for i in range(len(test_names)):\n",
    "    found = False\n",
    "    max_count, index = 0, 0\n",
    "    for j in range(len(text)):\n",
    "        count = 0\n",
    "        if test_names[i] in text[j]:\n",
    "            dic_names[test_names[i]] = text[j]\n",
    "            found = True\n",
    "            break\n",
    "        else:\n",
    "            for c in test_names[i]:\n",
    "                if c in text[j]:\n",
    "                    count += 1\n",
    "            if count > max_count:\n",
    "                max_count, index = count, j\n",
    "    if not found:\n",
    "        dic_names[test_names[i]] = text[index]     "
   ]
  },
  {
   "cell_type": "code",
   "execution_count": 8,
   "metadata": {
    "collapsed": true
   },
   "outputs": [
    {
     "data": {
      "text/plain": [
       "{'中性粒细胞比率': '中性粒细胞比NEU%83.001%',\n",
       " '中性粒细胞计数': '中性粒细胞计数NEUY7.94f109L1.86.3小板计数',\n",
       " '单核细胞比率': '单核细胞计数MON40.57',\n",
       " '单核细胞计数': '单核细胞计数MON40.57',\n",
       " '嗜碱性粒细胞比率': '嗜酸性粒细胞比EOS%1.00',\n",
       " '嗜碱性粒细胞计数': '嗜碱性粒细胞计数BASY0.05',\n",
       " '嗜酸性粒细胞比率': '嗜酸性粒细胞比EOS%1.00',\n",
       " '嗜酸性粒细胞计数': '酸性粒细胞计数EOSf0.10',\n",
       " '大型血小板比率': '115150型血小板比PttCpuolcss',\n",
       " '平均红细胞体积': '40.75平均红细胞体积MCV100.3',\n",
       " '平均血小板体积': '平均血小板体积MPV9.70',\n",
       " '平均血红蛋白含量': '20.50平均血红蛋白量MCH30.8',\n",
       " '平均血红蛋白浓度': '平均血红蛋白浓度MCHC307.01gL',\n",
       " '淋巴细胞比率': '淋巴细胞比LYM%9.501%',\n",
       " '淋巴细胞计数': '淋巴细胞计数LYMY40.911109/L1.1.3.2',\n",
       " '白细胞': '白细胞',\n",
       " '红细胞': 'WBC9.57109/L3.5.9.5红细胞压积',\n",
       " '红细胞分布宽度#': '109L0.020.52红细胞分布宽度%RDIWCh20.7l',\n",
       " '红细胞分布宽度%': '109L0.020.52红细胞分布宽度%RDIWCh20.7l',\n",
       " '红细胞压积': 'WBC9.57109/L3.5.9.5红细胞压积',\n",
       " '血小板压积': '0.48.0血小板压积',\n",
       " '血小板平均宽度': '平均血小板体积MPV9.70',\n",
       " '血小板计数': '中性粒细胞计数NEUY7.94f109L1.86.3小板计数',\n",
       " '血红蛋白': '20.50平均血红蛋白量MCH30.8'}"
      ]
     },
     "execution_count": 8,
     "metadata": {},
     "output_type": "execute_result"
    }
   ],
   "source": [
    "dic_names"
   ]
  },
  {
   "cell_type": "code",
   "execution_count": 9,
   "metadata": {},
   "outputs": [],
   "source": [
    "#convert text (list) back to a string with space\n",
    "text_string = ' '.join(text)"
   ]
  },
  {
   "cell_type": "code",
   "execution_count": 10,
   "metadata": {},
   "outputs": [
    {
     "data": {
      "text/plain": [
       "'I宽 直 红 绝素 单 值 I宽 直 红 单 值 白细胞 WBC9.57109/L3.5.9.5红细胞压积 HCT30.00% 35.45 中性粒细胞比NEU%83.001% 40.75平均红细胞体积MCV100.3 82.100 淋巴细胞比LYM%9.501% 20.50平均血红蛋白量MCH30.8 pg 27.34 比单MONX%6.00 % 3.10 平均血红蛋白浓度MCHC307.01gL 31635 嗜酸性粒细胞比EOS%1.00 % 0.48.0血小板压积 PpcT0 % 0 红板比半84S%0.50 % l 平均血小板体积MPV9.70 化 6.14 中性粒细胞计数NEUY7.94f109L1.86.3小板计数 P 1 淋巴细胞计数LYMY40.911109/L1.1.3.2 . 单核细胞计数MON40.57 109L0.1.0.6 j钙小核平均宽度 P fL 蛋 总 酸性粒细胞计数EOSf0.10 109L0.020.52红细胞分布宽度%RDIWCh20.7l 1 直 嗜碱性粒细胞计数BASY0.05 1oxeL0.0.06红细胞分布宽度f4RDWSC75.2化 量量量 血红蛋白 HGBg20giL 115150型血小板比PttCpuolcss 红细胞 RBC2.9911012/L3.8.5.1 c'"
      ]
     },
     "execution_count": 10,
     "metadata": {},
     "output_type": "execute_result"
    }
   ],
   "source": [
    "text_string"
   ]
  },
  {
   "cell_type": "code",
   "execution_count": 11,
   "metadata": {},
   "outputs": [
    {
     "name": "stdout",
     "output_type": "stream",
     "text": [
      "{'白细胞': 0, '中性粒细胞比率': 0, '淋巴细胞比率': 0, '单核细胞比率': 0, '嗜酸性粒细胞比率': 0, '嗜碱性粒细胞比率': 0, '中性粒细胞计数': 0, '淋巴细胞计数': 0, '单核细胞计数': 0, '嗜酸性粒细胞计数': 0, '嗜碱性粒细胞计数': 0, '血红蛋白': 0, '红细胞': 0, '红细胞压积': 0, '平均红细胞体积': 0, '平均血红蛋白含量': 0, '平均血红蛋白浓度': 0, '血小板压积': 0, '平均血小板体积': 0, '血小板计数': 0, '血小板平均宽度': 0, '红细胞分布宽度%': 0, '红细胞分布宽度#': 0, '大型血小板比率': 0}\n"
     ]
    }
   ],
   "source": [
    "#initialize a dict for values with test_names as keys\n",
    "dic_values = {}\n",
    "[dic_values.setdefault(name, 0) for name in test_names]\n",
    "print(dic_values)"
   ]
  },
  {
   "cell_type": "code",
   "execution_count": 12,
   "metadata": {},
   "outputs": [],
   "source": [
    "#find the values for test_names, here suppose the values are all float\n",
    "for k, v in dic_names.items():\n",
    "    value = re.findall('\\d+\\.\\s?\\d+', text_string[text_string.find(v):text_string.find(v)+20])\n",
    "    if value:\n",
    "        dic_values[k] = value[0]"
   ]
  },
  {
   "cell_type": "code",
   "execution_count": 13,
   "metadata": {
    "collapsed": true
   },
   "outputs": [
    {
     "data": {
      "text/plain": [
       "{'中性粒细胞比率': '83.001',\n",
       " '中性粒细胞计数': '7.94',\n",
       " '单核细胞比率': '40.57',\n",
       " '单核细胞计数': '40.57',\n",
       " '嗜碱性粒细胞比率': '1.00',\n",
       " '嗜碱性粒细胞计数': '0.05',\n",
       " '嗜酸性粒细胞比率': '1.00',\n",
       " '嗜酸性粒细胞计数': '0.10',\n",
       " '大型血小板比率': 0,\n",
       " '平均红细胞体积': '40.75',\n",
       " '平均血小板体积': '9.70',\n",
       " '平均血红蛋白含量': '20.50',\n",
       " '平均血红蛋白浓度': '307.01',\n",
       " '淋巴细胞比率': '9.501',\n",
       " '淋巴细胞计数': '40.911109',\n",
       " '白细胞': '9.57109',\n",
       " '红细胞': '9.57109',\n",
       " '红细胞分布宽度#': '0.020',\n",
       " '红细胞分布宽度%': '0.020',\n",
       " '红细胞压积': '9.57109',\n",
       " '血小板压积': '0.48',\n",
       " '血小板平均宽度': '9.70',\n",
       " '血小板计数': '7.94',\n",
       " '血红蛋白': '20.50'}"
      ]
     },
     "execution_count": 13,
     "metadata": {},
     "output_type": "execute_result"
    }
   ],
   "source": [
    "dic_values"
   ]
  },
  {
   "cell_type": "code",
   "execution_count": null,
   "metadata": {},
   "outputs": [],
   "source": []
  }
 ],
 "metadata": {
  "kernelspec": {
   "display_name": "Python 3",
   "language": "python",
   "name": "python3"
  },
  "language_info": {
   "codemirror_mode": {
    "name": "ipython",
    "version": 3
   },
   "file_extension": ".py",
   "mimetype": "text/x-python",
   "name": "python",
   "nbconvert_exporter": "python",
   "pygments_lexer": "ipython3",
   "version": "3.6.8"
  }
 },
 "nbformat": 4,
 "nbformat_minor": 2
}
