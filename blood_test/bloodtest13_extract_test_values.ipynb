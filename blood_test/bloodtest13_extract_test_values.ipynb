{
 "cells": [
  {
   "cell_type": "code",
   "execution_count": 12,
   "metadata": {},
   "outputs": [],
   "source": [
    "import re"
   ]
  },
  {
   "cell_type": "code",
   "execution_count": 1,
   "metadata": {},
   "outputs": [],
   "source": [
    "#read in tesseract result with whitelist.txt as configs\n",
    "with open('bloodtest13_border.txt', 'r') as f:\n",
    "    text = f.read()"
   ]
  },
  {
   "cell_type": "code",
   "execution_count": 2,
   "metadata": {},
   "outputs": [
    {
     "data": {
      "text/plain": [
       "'核目       素宽密氯差蛋素       单    大\\n1.白细胞计数                6.30                     109/L       4.00-10.0\\n2中性粒细胞百分比         62.4                  %           50.0-70.0\\n3淋巴细胞百分比      93          %      20.0-40\\n4单核细胞百分比         4.5                %          3.0-10.0\\n5中性粒细胞计数            4.10                    109/L       200-0\\n6.淋巴细胞计数               2.0                       109           0.8-4.00\\n7单核细胞计数               0.20                      109/L        0.12-0.8\\n8 密碱型  J酶  红                 433                       1012/L       09-574\\n9血红                     117       E           120-172\\n10.红细胞压积                34.7             半       %            38.0-50.8\\n11.平均红细胞体积             80.0              1       fL            88.白99.1\\n12.平均血红蛋白量            27.1       pg           27.8-33.8\\n13.平均血红蛋白浓度         338                   8/          3920355\\n14红细胞分布宽度CY        13.1                 %        c\\n15.血小板              287.0              109/L     6or5303.0\\n16.血小板平均分布宽度    10.9   数      1.0.0\\n\\x0c'"
      ]
     },
     "execution_count": 2,
     "metadata": {},
     "output_type": "execute_result"
    }
   ],
   "source": [
    "text"
   ]
  },
  {
   "cell_type": "code",
   "execution_count": 3,
   "metadata": {},
   "outputs": [],
   "source": [
    "#convert to a list\n",
    "text = text.split()"
   ]
  },
  {
   "cell_type": "code",
   "execution_count": 4,
   "metadata": {},
   "outputs": [],
   "source": [
    "test_names = ['白细胞计数','中性粒细胞百分比','淋巴细胞百分比','单核细胞百分比','中性粒细胞计数',\n",
    "             '单核细胞计数','淋巴细胞计数','红细胞计数','血红蛋白','红细胞压积','平均红细胞体积',\n",
    "             '平均血红蛋白量','平均血红蛋白浓度','红细胞分布宽度CV','血小板','血小板平均分布宽度']\n"
   ]
  },
  {
   "cell_type": "code",
   "execution_count": 5,
   "metadata": {},
   "outputs": [
    {
     "name": "stdout",
     "output_type": "stream",
     "text": [
      "{'白细胞计数': 0, '中性粒细胞百分比': 0, '淋巴细胞百分比': 0, '单核细胞百分比': 0, '中性粒细胞计数': 0, '单核细胞计数': 0, '淋巴细胞计数': 0, '红细胞计数': 0, '血红蛋白': 0, '红细胞压积': 0, '平均红细胞体积': 0, '平均血红蛋白量': 0, '平均血红蛋白浓度': 0, '红细胞分布宽度CV': 0, '血小板': 0, '血小板平均分布宽度': 0}\n"
     ]
    }
   ],
   "source": [
    "#make a dict of test_names and set default value to 0\n",
    "dic_names = {}\n",
    "[dic_names.setdefault(name, 0) for name in test_names]\n",
    "print(dic_names)"
   ]
  },
  {
   "cell_type": "code",
   "execution_count": 6,
   "metadata": {},
   "outputs": [],
   "source": [
    "#map dict_names with not necessarily correct names from tesseract\n",
    "for i in range(len(test_names)):\n",
    "    found = False\n",
    "    max_count, index = 0, 0\n",
    "    for j in range(len(text)):\n",
    "        count = 0\n",
    "        if test_names[i] in text[j]:\n",
    "            dic_names[test_names[i]] = text[j]\n",
    "            found = True\n",
    "            break\n",
    "        else:\n",
    "            for c in test_names[i]:\n",
    "                if c in text[j]:\n",
    "                    count += 1\n",
    "            if count > max_count:\n",
    "                max_count, index = count, j\n",
    "    if not found:\n",
    "        dic_names[test_names[i]] = text[index]     "
   ]
  },
  {
   "cell_type": "code",
   "execution_count": 7,
   "metadata": {},
   "outputs": [
    {
     "data": {
      "text/plain": [
       "{'中性粒细胞百分比': '2中性粒细胞百分比',\n",
       " '中性粒细胞计数': '5中性粒细胞计数',\n",
       " '单核细胞百分比': '4单核细胞百分比',\n",
       " '单核细胞计数': '7单核细胞计数',\n",
       " '平均红细胞体积': '11.平均红细胞体积',\n",
       " '平均血红蛋白浓度': '13.平均血红蛋白浓度',\n",
       " '平均血红蛋白量': '12.平均血红蛋白量',\n",
       " '淋巴细胞百分比': '3淋巴细胞百分比',\n",
       " '淋巴细胞计数': '6.淋巴细胞计数',\n",
       " '白细胞计数': '1.白细胞计数',\n",
       " '红细胞分布宽度CV': '14红细胞分布宽度CY',\n",
       " '红细胞压积': '10.红细胞压积',\n",
       " '红细胞计数': '1.白细胞计数',\n",
       " '血小板': '15.血小板',\n",
       " '血小板平均分布宽度': '16.血小板平均分布宽度',\n",
       " '血红蛋白': '12.平均血红蛋白量'}"
      ]
     },
     "execution_count": 7,
     "metadata": {},
     "output_type": "execute_result"
    }
   ],
   "source": [
    "dic_names"
   ]
  },
  {
   "cell_type": "code",
   "execution_count": 8,
   "metadata": {},
   "outputs": [],
   "source": [
    "#convert text (list) back to a string with space\n",
    "text_string = ' '.join(text)"
   ]
  },
  {
   "cell_type": "code",
   "execution_count": 9,
   "metadata": {},
   "outputs": [
    {
     "data": {
      "text/plain": [
       "'核目 素宽密氯差蛋素 单 大 1.白细胞计数 6.30 109/L 4.00-10.0 2中性粒细胞百分比 62.4 % 50.0-70.0 3淋巴细胞百分比 93 % 20.0-40 4单核细胞百分比 4.5 % 3.0-10.0 5中性粒细胞计数 4.10 109/L 200-0 6.淋巴细胞计数 2.0 109 0.8-4.00 7单核细胞计数 0.20 109/L 0.12-0.8 8 密碱型 J酶 红 433 1012/L 09-574 9血红 117 E 120-172 10.红细胞压积 34.7 半 % 38.0-50.8 11.平均红细胞体积 80.0 1 fL 88.白99.1 12.平均血红蛋白量 27.1 pg 27.8-33.8 13.平均血红蛋白浓度 338 8/ 3920355 14红细胞分布宽度CY 13.1 % c 15.血小板 287.0 109/L 6or5303.0 16.血小板平均分布宽度 10.9 数 1.0.0'"
      ]
     },
     "execution_count": 9,
     "metadata": {},
     "output_type": "execute_result"
    }
   ],
   "source": [
    "text_string"
   ]
  },
  {
   "cell_type": "code",
   "execution_count": 10,
   "metadata": {},
   "outputs": [
    {
     "name": "stdout",
     "output_type": "stream",
     "text": [
      "{'白细胞计数': 0, '中性粒细胞百分比': 0, '淋巴细胞百分比': 0, '单核细胞百分比': 0, '中性粒细胞计数': 0, '单核细胞计数': 0, '淋巴细胞计数': 0, '红细胞计数': 0, '血红蛋白': 0, '红细胞压积': 0, '平均红细胞体积': 0, '平均血红蛋白量': 0, '平均血红蛋白浓度': 0, '红细胞分布宽度CV': 0, '血小板': 0, '血小板平均分布宽度': 0}\n"
     ]
    }
   ],
   "source": [
    "#initialize a dict for values with test_names as keys\n",
    "dic_values = {}\n",
    "[dic_values.setdefault(name, 0) for name in test_names]\n",
    "print(dic_values)"
   ]
  },
  {
   "cell_type": "code",
   "execution_count": 13,
   "metadata": {},
   "outputs": [],
   "source": [
    "#find the values for test_names, here suppose the values are all float\n",
    "for k, v in dic_names.items():\n",
    "    value = re.findall('\\d+\\.?\\d+', text_string[text_string.find(re.findall(r'[\\u4e00-\\u9fff]+', v)[0]):text_string.find(re.findall(r'[\\u4e00-\\u9fff]+', v)[0])+30])\n",
    "    if value:\n",
    "        dic_values[k] = value[0]"
   ]
  },
  {
   "cell_type": "code",
   "execution_count": 14,
   "metadata": {},
   "outputs": [
    {
     "data": {
      "text/plain": [
       "{'中性粒细胞百分比': '62.4',\n",
       " '中性粒细胞计数': '4.10',\n",
       " '单核细胞百分比': '4.5',\n",
       " '单核细胞计数': '0.20',\n",
       " '平均红细胞体积': '80.0',\n",
       " '平均血红蛋白浓度': '338',\n",
       " '平均血红蛋白量': '27.1',\n",
       " '淋巴细胞百分比': '93',\n",
       " '淋巴细胞计数': '2.0',\n",
       " '白细胞计数': '6.30',\n",
       " '红细胞分布宽度CV': '13.1',\n",
       " '红细胞压积': '34.7',\n",
       " '红细胞计数': '6.30',\n",
       " '血小板': '287.0',\n",
       " '血小板平均分布宽度': '10.9',\n",
       " '血红蛋白': '27.1'}"
      ]
     },
     "execution_count": 14,
     "metadata": {},
     "output_type": "execute_result"
    }
   ],
   "source": [
    "dic_values"
   ]
  },
  {
   "cell_type": "code",
   "execution_count": 15,
   "metadata": {},
   "outputs": [
    {
     "data": {
      "text/plain": [
       "0.8125"
      ]
     },
     "execution_count": 15,
     "metadata": {},
     "output_type": "execute_result"
    }
   ],
   "source": [
    "13/len(test_names)"
   ]
  },
  {
   "cell_type": "code",
   "execution_count": null,
   "metadata": {},
   "outputs": [],
   "source": []
  }
 ],
 "metadata": {
  "kernelspec": {
   "display_name": "Python 3",
   "language": "python",
   "name": "python3"
  },
  "language_info": {
   "codemirror_mode": {
    "name": "ipython",
    "version": 3
   },
   "file_extension": ".py",
   "mimetype": "text/x-python",
   "name": "python",
   "nbconvert_exporter": "python",
   "pygments_lexer": "ipython3",
   "version": "3.6.8"
  }
 },
 "nbformat": 4,
 "nbformat_minor": 2
}
