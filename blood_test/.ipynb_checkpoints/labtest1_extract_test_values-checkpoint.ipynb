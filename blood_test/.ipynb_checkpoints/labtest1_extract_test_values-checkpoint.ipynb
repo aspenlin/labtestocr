{
 "cells": [
  {
   "cell_type": "code",
   "execution_count": 1,
   "metadata": {},
   "outputs": [],
   "source": [
    "import re"
   ]
  },
  {
   "cell_type": "code",
   "execution_count": 17,
   "metadata": {},
   "outputs": [],
   "source": [
    "#read in tesseract result with whitelist.txt as configs\n",
    "with open('labtest1_whitelist_ubuntu.txt', 'r') as f:\n",
    "    text = f.read()"
   ]
  },
  {
   "cell_type": "code",
   "execution_count": 5,
   "metadata": {
    "collapsed": true
   },
   "outputs": [
    {
     "data": {
      "text/plain": [
       "['j化单Ws',\n",
       " '红性萄',\n",
       " '白',\n",
       " '移总',\n",
       " '积血',\n",
       " '1000027797',\n",
       " '性分',\n",
       " '性接密甘嗜g',\n",
       " '性',\n",
       " '2014081116.',\n",
       " '半31',\n",
       " '度度',\n",
       " '嗜g',\n",
       " '度',\n",
       " '接2014081209',\n",
       " '积',\n",
       " '嗜宽',\n",
       " '接直草',\n",
       " '间',\n",
       " '葡',\n",
       " '蛋直j',\n",
       " '积',\n",
       " '素宽',\n",
       " '绝',\n",
       " '间',\n",
       " '1TBIL总胆红素',\n",
       " '30.805.1019.00umol/',\n",
       " '2',\n",
       " '氯',\n",
       " '100.80',\n",
       " '96.00丁108.00mmoli',\n",
       " '2DBIL直接胆红素',\n",
       " '7.9007.00umol/L',\n",
       " '22C4',\n",
       " '2.45',\n",
       " '2.002.80m',\n",
       " '3BIL间接胆红素',\n",
       " '22.90015.00umol/L',\n",
       " '23C02二氧化碳',\n",
       " '26.6220.00',\n",
       " '4TP总蛋白',\n",
       " '71.5060.0082.00g/L',\n",
       " '24TG甘油三醇',\n",
       " '0.60',\n",
       " '0.',\n",
       " 'alh',\n",
       " '5ALB白蛋白',\n",
       " '42.0035.0055.00g/L',\n",
       " '25TCHO总胆固醇',\n",
       " '4.60',\n",
       " '氢',\n",
       " '二',\n",
       " '66',\n",
       " '球蛋白',\n",
       " '29.5020.0035.00g/L',\n",
       " '26HDLC密度脂蛋白',\n",
       " '1.60',\n",
       " '110out',\n",
       " '7A/G',\n",
       " '球比',\n",
       " '.42',\n",
       " '1s202.30',\n",
       " '27LDLC',\n",
       " '体度脂蛋白',\n",
       " '23',\n",
       " '2.70丁3.60mmoly.',\n",
       " '8ALT谷丙转氨酶',\n",
       " '46.40040.00U/L',\n",
       " '28APOA载脂蛋白Al',\n",
       " '1.20',\n",
       " '1.201.60g/L',\n",
       " '9AST谷草转氨酶',\n",
       " '16.10040.00U/L',\n",
       " '29APOB载脂蛋白8',\n",
       " '0.5810.801.05g/L',\n",
       " '10AST/ALT谷草/谷丙',\n",
       " '0.35',\n",
       " '30TBA总胆酸',\n",
       " '3.43',\n",
       " '015.00umol/L',\n",
       " '11ALP碱性磷酸酶',\n",
       " '54.3040.00150.00U/L31HCY同型半胱氨酸8.80',\n",
       " '010.00umol/L',\n",
       " '12GGT',\n",
       " '谷氨酰氨转移酶8.20',\n",
       " '050.00U/',\n",
       " '32HBDH',\n",
       " 'a丁酸氨酶',\n",
       " '99.60',\n",
       " '72.00丁182.00U/L',\n",
       " '13LDH乳酸氢酶',\n",
       " '131.80109.00245.00U/L',\n",
       " '14CK肌酸激酶',\n",
       " '91.3024.00195.00U/L',\n",
       " '15GLU葡萄糖',\n",
       " '5.30',\n",
       " '3.806.10mmolyL',\n",
       " 'r',\n",
       " '16CREA肌酰',\n",
       " '107.50',\n",
       " '40.00133.00umol/',\n",
       " '3',\n",
       " '17UA尿酸',\n",
       " '301.00142.00420.00umol/L',\n",
       " '18BUN尿素',\n",
       " '6.70',\n",
       " '2.808.20mmol/',\n",
       " '1丁',\n",
       " '钾',\n",
       " '4.40',\n",
       " '3.505.30mmol/',\n",
       " 'j',\n",
       " '20NA钠',\n",
       " '142.20136.00144.00mmol/L',\n",
       " 'i',\n",
       " '量直嗜',\n",
       " '蛋',\n",
       " '粒k酸蛋萄',\n",
       " '201408121116',\n",
       " '半',\n",
       " '核肌',\n",
       " 'ADVIA1800化分板对度计移素1']"
      ]
     },
     "execution_count": 5,
     "metadata": {},
     "output_type": "execute_result"
    }
   ],
   "source": [
    "text"
   ]
  },
  {
   "cell_type": "code",
   "execution_count": 18,
   "metadata": {},
   "outputs": [],
   "source": [
    "#convert to a list\n",
    "text = text.split()"
   ]
  },
  {
   "cell_type": "code",
   "execution_count": 19,
   "metadata": {},
   "outputs": [],
   "source": [
    "test_names = ['总胆红素','直接胆红素','间接胆红素','总蛋白','白蛋白','球蛋白','谷丙转氨酶','谷草转氨酶',\n",
    "             '谷草/谷丙','碱性磷酸酶','谷氨酰氨基转移酶','乳酸脱氢酶','肌酸激酶','葡萄糖','肌酐','尿酸',\n",
    "             '尿素','钾','钠','氯','钙','二氧化碳','甘油三酯','总胆固醇','高密度脂蛋白','低密度脂蛋白',\n",
    "             '载脂蛋白Al','载脂蛋白B','总胆汁酸','同型半胱氨酸','羟丁酸脱氢酶']"
   ]
  },
  {
   "cell_type": "code",
   "execution_count": 20,
   "metadata": {},
   "outputs": [
    {
     "name": "stdout",
     "output_type": "stream",
     "text": [
      "{'总胆红素': 0, '直接胆红素': 0, '间接胆红素': 0, '总蛋白': 0, '白蛋白': 0, '球蛋白': 0, '谷丙转氨酶': 0, '谷草转氨酶': 0, '谷草/谷丙': 0, '碱性磷酸酶': 0, '谷氨酰氨基转移酶': 0, '乳酸脱氢酶': 0, '肌酸激酶': 0, '葡萄糖': 0, '肌酐': 0, '尿酸': 0, '尿素': 0, '钾': 0, '钠': 0, '氯': 0, '钙': 0, '二氧化碳': 0, '甘油三酯': 0, '总胆固醇': 0, '高密度脂蛋白': 0, '低密度脂蛋白': 0, '载脂蛋白Al': 0, '载脂蛋白B': 0, '总胆汁酸': 0, '同型半胱氨酸': 0, '羟丁酸脱氢酶': 0}\n"
     ]
    }
   ],
   "source": [
    "#make a dict of test_names and set default value to 0\n",
    "dic_names = {}\n",
    "[dic_names.setdefault(name, 0) for name in test_names]\n",
    "print(dic_names)"
   ]
  },
  {
   "cell_type": "code",
   "execution_count": 21,
   "metadata": {},
   "outputs": [],
   "source": [
    "#map dict_names with not necessarily correct names from tesseract\n",
    "for i in range(len(test_names)):\n",
    "    found = False\n",
    "    max_count, index = 0, 0\n",
    "    for j in range(len(text)):\n",
    "        count = 0\n",
    "        if test_names[i] in text[j]:\n",
    "            dic_names[test_names[i]] = text[j]\n",
    "            found = True\n",
    "            break\n",
    "        else:\n",
    "            for c in test_names[i]:\n",
    "                if c in text[j]:\n",
    "                    count += 1\n",
    "            if count > max_count:\n",
    "                max_count, index = count, j\n",
    "    if not found:\n",
    "        dic_names[test_names[i]] = text[index]     "
   ]
  },
  {
   "cell_type": "code",
   "execution_count": 22,
   "metadata": {
    "collapsed": true
   },
   "outputs": [
    {
     "data": {
      "text/plain": [
       "{'乳酸脱氢酶': '13LDH乳酸氢酶',\n",
       " '二氧化碳': '23C02二氧化碳',\n",
       " '低密度脂蛋白': '26HDLC密度脂蛋白',\n",
       " '同型半胱氨酸': '54.3040.00150.00U/L31HCY同型半胱氨酸8.80',\n",
       " '尿素': '18BUN尿素',\n",
       " '尿酸': '17UA尿酸',\n",
       " '总胆固醇': '25TCHO总胆固醇',\n",
       " '总胆汁酸': '30TBA总胆酸',\n",
       " '总胆红素': '1TBIL总胆红素',\n",
       " '总蛋白': '4TP总蛋白',\n",
       " '氯': '氯',\n",
       " '球蛋白': '球蛋白',\n",
       " '甘油三酯': '24TG甘油三醇',\n",
       " '白蛋白': '5ALB白蛋白',\n",
       " '直接胆红素': '2DBIL直接胆红素',\n",
       " '碱性磷酸酶': '11ALP碱性磷酸酶',\n",
       " '羟丁酸脱氢酶': 'a丁酸氨酶',\n",
       " '肌酐': '14CK肌酸激酶',\n",
       " '肌酸激酶': '14CK肌酸激酶',\n",
       " '葡萄糖': '15GLU葡萄糖',\n",
       " '谷丙转氨酶': '8ALT谷丙转氨酶',\n",
       " '谷氨酰氨基转移酶': '谷氨酰氨转移酶8.20',\n",
       " '谷草/谷丙': '10AST/ALT谷草/谷丙',\n",
       " '谷草转氨酶': '9AST谷草转氨酶',\n",
       " '载脂蛋白Al': '28APOA载脂蛋白Al',\n",
       " '载脂蛋白B': '29APOB载脂蛋白8',\n",
       " '钙': 'j化单Ws',\n",
       " '钠': '20NA钠',\n",
       " '钾': '钾',\n",
       " '间接胆红素': '3BIL间接胆红素',\n",
       " '高密度脂蛋白': '26HDLC密度脂蛋白'}"
      ]
     },
     "execution_count": 22,
     "metadata": {},
     "output_type": "execute_result"
    }
   ],
   "source": [
    "dic_names"
   ]
  },
  {
   "cell_type": "code",
   "execution_count": 23,
   "metadata": {},
   "outputs": [],
   "source": [
    "#convert text (list) back to a string with space\n",
    "text_string = ' '.join(text)"
   ]
  },
  {
   "cell_type": "code",
   "execution_count": 24,
   "metadata": {
    "collapsed": true
   },
   "outputs": [
    {
     "data": {
      "text/plain": [
       "'j化单Ws 红性萄 白 移总 积血 1000027797 性分 性接密甘嗜g 性 2014081116. 半31 度度 嗜g 度 接2014081209 积 嗜宽 接直草 间 葡 蛋直j 积 素宽 绝 间 1TBIL总胆红素 30.805.1019.00umol/ 2 氯 100.80 96.00丁108.00mmoli 2DBIL直接胆红素 7.9007.00umol/L 22C4 2.45 2.002.80m 3BIL间接胆红素 22.90015.00umol/L 23C02二氧化碳 26.6220.00 4TP总蛋白 71.5060.0082.00g/L 24TG甘油三醇 0.60 0. alh 5ALB白蛋白 42.0035.0055.00g/L 25TCHO总胆固醇 4.60 氢 二 66 球蛋白 29.5020.0035.00g/L 26HDLC密度脂蛋白 1.60 110out 7A/G 球比 .42 1s202.30 27LDLC 体度脂蛋白 23 2.70丁3.60mmoly. 8ALT谷丙转氨酶 46.40040.00U/L 28APOA载脂蛋白Al 1.20 1.201.60g/L 9AST谷草转氨酶 16.10040.00U/L 29APOB载脂蛋白8 0.5810.801.05g/L 10AST/ALT谷草/谷丙 0.35 30TBA总胆酸 3.43 015.00umol/L 11ALP碱性磷酸酶 54.3040.00150.00U/L31HCY同型半胱氨酸8.80 010.00umol/L 12GGT 谷氨酰氨转移酶8.20 050.00U/ 32HBDH a丁酸氨酶 99.60 72.00丁182.00U/L 13LDH乳酸氢酶 131.80109.00245.00U/L 14CK肌酸激酶 91.3024.00195.00U/L 15GLU葡萄糖 5.30 3.806.10mmolyL r 16CREA肌酰 107.50 40.00133.00umol/ 3 17UA尿酸 301.00142.00420.00umol/L 18BUN尿素 6.70 2.808.20mmol/ 1丁 钾 4.40 3.505.30mmol/ j 20NA钠 142.20136.00144.00mmol/L i 量直嗜 蛋 粒k酸蛋萄 201408121116 半 核肌 ADVIA1800化分板对度计移素1'"
      ]
     },
     "execution_count": 24,
     "metadata": {},
     "output_type": "execute_result"
    }
   ],
   "source": [
    "text_string"
   ]
  },
  {
   "cell_type": "code",
   "execution_count": 25,
   "metadata": {},
   "outputs": [
    {
     "name": "stdout",
     "output_type": "stream",
     "text": [
      "{'总胆红素': 0, '直接胆红素': 0, '间接胆红素': 0, '总蛋白': 0, '白蛋白': 0, '球蛋白': 0, '谷丙转氨酶': 0, '谷草转氨酶': 0, '谷草/谷丙': 0, '碱性磷酸酶': 0, '谷氨酰氨基转移酶': 0, '乳酸脱氢酶': 0, '肌酸激酶': 0, '葡萄糖': 0, '肌酐': 0, '尿酸': 0, '尿素': 0, '钾': 0, '钠': 0, '氯': 0, '钙': 0, '二氧化碳': 0, '甘油三酯': 0, '总胆固醇': 0, '高密度脂蛋白': 0, '低密度脂蛋白': 0, '载脂蛋白Al': 0, '载脂蛋白B': 0, '总胆汁酸': 0, '同型半胱氨酸': 0, '羟丁酸脱氢酶': 0}\n"
     ]
    }
   ],
   "source": [
    "#initialize a dict for values with test_names as keys\n",
    "dic_values = {}\n",
    "[dic_values.setdefault(name, 0) for name in test_names]\n",
    "print(dic_values)"
   ]
  },
  {
   "cell_type": "code",
   "execution_count": 26,
   "metadata": {},
   "outputs": [],
   "source": [
    "#find the values for test_names, here suppose the values are all float\n",
    "for k, v in dic_names.items():\n",
    "    value = re.findall('\\d+\\.\\s?\\d+', text_string[text_string.find(v):text_string.find(v)+20])\n",
    "    if value:\n",
    "        dic_values[k] = value[0]"
   ]
  },
  {
   "cell_type": "code",
   "execution_count": 27,
   "metadata": {},
   "outputs": [
    {
     "data": {
      "text/plain": [
       "{'乳酸脱氢酶': '131.80109',\n",
       " '二氧化碳': '26.6220',\n",
       " '低密度脂蛋白': '1.60',\n",
       " '同型半胱氨酸': '54.3040',\n",
       " '尿素': '6.70',\n",
       " '尿酸': '301.00142',\n",
       " '总胆固醇': '4.60',\n",
       " '总胆汁酸': '3.43',\n",
       " '总胆红素': '30.805',\n",
       " '总蛋白': '71.5060',\n",
       " '氯': '100.80',\n",
       " '球蛋白': '29.5020',\n",
       " '甘油三酯': '0.60',\n",
       " '白蛋白': '42.0035',\n",
       " '直接胆红素': '7.9007',\n",
       " '碱性磷酸酶': '54.3040',\n",
       " '羟丁酸脱氢酶': '99.60',\n",
       " '肌酐': '91.3024',\n",
       " '肌酸激酶': '91.3024',\n",
       " '葡萄糖': '5.30',\n",
       " '谷丙转氨酶': '46.40040',\n",
       " '谷氨酰氨基转移酶': '8.20',\n",
       " '谷草/谷丙': '0.35',\n",
       " '谷草转氨酶': '16.10040',\n",
       " '载脂蛋白Al': '1.20',\n",
       " '载脂蛋白B': '0.5810',\n",
       " '钙': 0,\n",
       " '钠': '142.20136',\n",
       " '钾': '4.40',\n",
       " '间接胆红素': '22.90015',\n",
       " '高密度脂蛋白': '1.60'}"
      ]
     },
     "execution_count": 27,
     "metadata": {},
     "output_type": "execute_result"
    }
   ],
   "source": [
    "dic_values"
   ]
  },
  {
   "cell_type": "code",
   "execution_count": null,
   "metadata": {},
   "outputs": [],
   "source": []
  }
 ],
 "metadata": {
  "kernelspec": {
   "display_name": "Python 3",
   "language": "python",
   "name": "python3"
  },
  "language_info": {
   "codemirror_mode": {
    "name": "ipython",
    "version": 3
   },
   "file_extension": ".py",
   "mimetype": "text/x-python",
   "name": "python",
   "nbconvert_exporter": "python",
   "pygments_lexer": "ipython3",
   "version": "3.6.8"
  }
 },
 "nbformat": 4,
 "nbformat_minor": 2
}
