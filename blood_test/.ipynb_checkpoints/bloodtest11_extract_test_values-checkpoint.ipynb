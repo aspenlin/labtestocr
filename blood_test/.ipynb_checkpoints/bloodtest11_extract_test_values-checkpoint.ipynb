{
 "cells": [
  {
   "cell_type": "code",
   "execution_count": 1,
   "metadata": {},
   "outputs": [],
   "source": [
    "import re"
   ]
  },
  {
   "cell_type": "code",
   "execution_count": 2,
   "metadata": {},
   "outputs": [],
   "source": [
    "#read in tesseract result with whitelist.txt as configs\n",
    "with open('bloodtest_whitelist_ubuntu.txt', 'r') as f:\n",
    "    text = f.read()"
   ]
  },
  {
   "cell_type": "code",
   "execution_count": 5,
   "metadata": {
    "collapsed": true
   },
   "outputs": [
    {
     "data": {
      "text/plain": [
       "['j二',\n",
       " '氧',\n",
       " 'j直',\n",
       " '度',\n",
       " '4I蛋草',\n",
       " '酶量丙',\n",
       " '氨葡',\n",
       " '酶量布量',\n",
       " '素',\n",
       " '油二单',\n",
       " '013446116500',\n",
       " '胱体葡葡',\n",
       " '75588961',\n",
       " '积血',\n",
       " '丁20190528G0103113',\n",
       " '性分',\n",
       " '移',\n",
       " '肌',\n",
       " '20190528',\n",
       " '度总性三核',\n",
       " '平3',\n",
       " '对',\n",
       " '糖度中总钙',\n",
       " '碳',\n",
       " '嗜蛋性z',\n",
       " 'No',\n",
       " '丁',\n",
       " '粒',\n",
       " '值单No',\n",
       " 'U',\n",
       " '量碳',\n",
       " '二丁',\n",
       " '1CRP',\n",
       " 'K8',\n",
       " '8',\n",
       " 'nmg/L13红胞计数',\n",
       " '43',\n",
       " '475.5',\n",
       " '1012',\n",
       " '2白细胞计数',\n",
       " '5.26',\n",
       " '410',\n",
       " '1079/L14直红蛋白',\n",
       " '120',\n",
       " '120160g/L',\n",
       " '3中性粒细胞%',\n",
       " '53.4',\n",
       " '5070',\n",
       " '%',\n",
       " '15细胞压积',\n",
       " '5',\n",
       " '%',\n",
       " '4淋巴细胞%',\n",
       " '32.90',\n",
       " '2040',\n",
       " '%',\n",
       " '16平均红细胞体积77.98295',\n",
       " 'f1',\n",
       " '5单核细胞%',\n",
       " '0',\n",
       " 'R',\n",
       " '%',\n",
       " '17平均血红蛋白量',\n",
       " '2',\n",
       " '1',\n",
       " 'pg',\n",
       " '6酸粒细胞%',\n",
       " '1.50',\n",
       " '0.5.5',\n",
       " '%',\n",
       " '18平均血红蛋白浓度348',\n",
       " '320360g/L',\n",
       " '7碱粒细%',\n",
       " '0.20',\n",
       " '0',\n",
       " '%',\n",
       " '19红细胞分布宽度',\n",
       " 'T',\n",
       " '55',\n",
       " '%',\n",
       " '8中体粒细胞绝对2.81',\n",
       " '46.5',\n",
       " '20血小板计数',\n",
       " '233.00',\n",
       " '100300',\n",
       " '109/',\n",
       " '9单核细胞绝对值',\n",
       " '0.63',\n",
       " '00.7',\n",
       " '21血小板压积',\n",
       " '0.24',\n",
       " '0.10.27%',\n",
       " '10淋巴细胞绝对值',\n",
       " '75',\n",
       " '25',\n",
       " '22平均二小板体积10.40',\n",
       " '7.812.5',\n",
       " 'L酸粒细胞绝对值0.08',\n",
       " '00.7',\n",
       " '109/L23血小板分布宽度10.6',\n",
       " '917',\n",
       " 'fL',\n",
       " '12碱粒细胞绝对0.01',\n",
       " '00.2',\n",
       " '20190528',\n",
       " '201905281035',\n",
       " '板',\n",
       " '核.',\n",
       " '油.度',\n",
       " '1']"
      ]
     },
     "execution_count": 5,
     "metadata": {},
     "output_type": "execute_result"
    }
   ],
   "source": [
    "text"
   ]
  },
  {
   "cell_type": "code",
   "execution_count": 4,
   "metadata": {},
   "outputs": [],
   "source": [
    "#convert to a list\n",
    "text = text.split()"
   ]
  },
  {
   "cell_type": "code",
   "execution_count": 7,
   "metadata": {},
   "outputs": [],
   "source": [
    "test_names = ['CRP','白细胞计数','中性粒细胞%','淋巴细胞%','单核细胞%','嗜酸粒细胞%','嗜碱粒细胞%','中性粒细胞绝对值',\n",
    "             '单核细胞绝对值','淋巴细胞绝对值','嗜酸粒细胞绝对值','嗜碱粒细胞绝对值','红细胞计数','血红蛋白','红细胞压积','平均红细胞体积',\n",
    "             '平均血红蛋白量','平均血红蛋白浓度','红细胞分布宽度','血小板计数','血小板压积','平均血小板体积',\n",
    "             '血小板分布宽度']\n"
   ]
  },
  {
   "cell_type": "code",
   "execution_count": 8,
   "metadata": {},
   "outputs": [
    {
     "name": "stdout",
     "output_type": "stream",
     "text": [
      "{'CRP': 0, '白细胞计数': 0, '中性粒细胞%': 0, '淋巴细胞%': 0, '单核细胞%': 0, '嗜酸粒细胞%': 0, '嗜碱粒细胞%': 0, '中性粒细胞绝对值': 0, '单核细胞绝对值': 0, '淋巴细胞绝对值': 0, '嗜酸粒细胞绝对值': 0, '嗜碱粒细胞绝对值': 0, '红细胞计数': 0, '血红蛋白': 0, '红细胞压积': 0, '平均红细胞体积': 0, '平均血红蛋白量': 0, '平均血红蛋白浓度': 0, '红细胞分布宽度': 0, '血小板计数': 0, '血小板压积': 0, '平均血小板体积': 0, '血小板分布宽度': 0}\n"
     ]
    }
   ],
   "source": [
    "#make a dict of test_names and set default value to 0\n",
    "dic_names = {}\n",
    "[dic_names.setdefault(name, 0) for name in test_names]\n",
    "print(dic_names)"
   ]
  },
  {
   "cell_type": "code",
   "execution_count": 9,
   "metadata": {},
   "outputs": [],
   "source": [
    "#map dict_names with not necessarily correct names from tesseract\n",
    "for i in range(len(test_names)):\n",
    "    found = False\n",
    "    max_count, index = 0, 0\n",
    "    for j in range(len(text)):\n",
    "        count = 0\n",
    "        if test_names[i] in text[j]:\n",
    "            dic_names[test_names[i]] = text[j]\n",
    "            found = True\n",
    "            break\n",
    "        else:\n",
    "            for c in test_names[i]:\n",
    "                if c in text[j]:\n",
    "                    count += 1\n",
    "            if count > max_count:\n",
    "                max_count, index = count, j\n",
    "    if not found:\n",
    "        dic_names[test_names[i]] = text[index]     "
   ]
  },
  {
   "cell_type": "code",
   "execution_count": 10,
   "metadata": {},
   "outputs": [
    {
     "data": {
      "text/plain": [
       "{'CRP': '1CRP',\n",
       " '中性粒细胞%': '3中性粒细胞%',\n",
       " '中性粒细胞绝对值': '8中体粒细胞绝对2.81',\n",
       " '单核细胞%': '5单核细胞%',\n",
       " '单核细胞绝对值': '9单核细胞绝对值',\n",
       " '嗜碱粒细胞%': '3中性粒细胞%',\n",
       " '嗜碱粒细胞绝对值': 'L酸粒细胞绝对值0.08',\n",
       " '嗜酸粒细胞%': '6酸粒细胞%',\n",
       " '嗜酸粒细胞绝对值': 'L酸粒细胞绝对值0.08',\n",
       " '平均红细胞体积': '16平均红细胞体积77.98295',\n",
       " '平均血小板体积': '22平均二小板体积10.40',\n",
       " '平均血红蛋白浓度': '18平均血红蛋白浓度348',\n",
       " '平均血红蛋白量': '17平均血红蛋白量',\n",
       " '淋巴细胞%': '4淋巴细胞%',\n",
       " '淋巴细胞绝对值': '10淋巴细胞绝对值',\n",
       " '白细胞计数': '2白细胞计数',\n",
       " '红细胞分布宽度': '19红细胞分布宽度',\n",
       " '红细胞压积': '15细胞压积',\n",
       " '红细胞计数': 'nmg/L13红胞计数',\n",
       " '血小板分布宽度': '109/L23血小板分布宽度10.6',\n",
       " '血小板压积': '21血小板压积',\n",
       " '血小板计数': '20血小板计数',\n",
       " '血红蛋白': '17平均血红蛋白量'}"
      ]
     },
     "execution_count": 10,
     "metadata": {},
     "output_type": "execute_result"
    }
   ],
   "source": [
    "dic_names"
   ]
  },
  {
   "cell_type": "code",
   "execution_count": 11,
   "metadata": {},
   "outputs": [],
   "source": [
    "#convert text (list) back to a string with space\n",
    "text_string = ' '.join(text)"
   ]
  },
  {
   "cell_type": "code",
   "execution_count": 12,
   "metadata": {},
   "outputs": [
    {
     "data": {
      "text/plain": [
       "'j二 氧 j直 度 4I蛋草 酶量丙 氨葡 酶量布量 素 油二单 013446116500 胱体葡葡 75588961 积血 丁20190528G0103113 性分 移 肌 20190528 度总性三核 平3 对 糖度中总钙 碳 嗜蛋性z No 丁 粒 值单No U 量碳 二丁 1CRP K8 8 nmg/L13红胞计数 43 475.5 1012 2白细胞计数 5.26 410 1079/L14直红蛋白 120 120160g/L 3中性粒细胞% 53.4 5070 % 15细胞压积 5 % 4淋巴细胞% 32.90 2040 % 16平均红细胞体积77.98295 f1 5单核细胞% 0 R % 17平均血红蛋白量 2 1 pg 6酸粒细胞% 1.50 0.5.5 % 18平均血红蛋白浓度348 320360g/L 7碱粒细% 0.20 0 % 19红细胞分布宽度 T 55 % 8中体粒细胞绝对2.81 46.5 20血小板计数 233.00 100300 109/ 9单核细胞绝对值 0.63 00.7 21血小板压积 0.24 0.10.27% 10淋巴细胞绝对值 75 25 22平均二小板体积10.40 7.812.5 L酸粒细胞绝对值0.08 00.7 109/L23血小板分布宽度10.6 917 fL 12碱粒细胞绝对0.01 00.2 20190528 201905281035 板 核. 油.度 1'"
      ]
     },
     "execution_count": 12,
     "metadata": {},
     "output_type": "execute_result"
    }
   ],
   "source": [
    "text_string"
   ]
  },
  {
   "cell_type": "code",
   "execution_count": 13,
   "metadata": {},
   "outputs": [
    {
     "name": "stdout",
     "output_type": "stream",
     "text": [
      "{'CRP': 0, '白细胞计数': 0, '中性粒细胞%': 0, '淋巴细胞%': 0, '单核细胞%': 0, '嗜酸粒细胞%': 0, '嗜碱粒细胞%': 0, '中性粒细胞绝对值': 0, '单核细胞绝对值': 0, '淋巴细胞绝对值': 0, '嗜酸粒细胞绝对值': 0, '嗜碱粒细胞绝对值': 0, '红细胞计数': 0, '血红蛋白': 0, '红细胞压积': 0, '平均红细胞体积': 0, '平均血红蛋白量': 0, '平均血红蛋白浓度': 0, '红细胞分布宽度': 0, '血小板计数': 0, '血小板压积': 0, '平均血小板体积': 0, '血小板分布宽度': 0}\n"
     ]
    }
   ],
   "source": [
    "#initialize a dict for values with test_names as keys\n",
    "dic_values = {}\n",
    "[dic_values.setdefault(name, 0) for name in test_names]\n",
    "print(dic_values)"
   ]
  },
  {
   "cell_type": "code",
   "execution_count": 14,
   "metadata": {},
   "outputs": [],
   "source": [
    "#find the values for test_names, here suppose the values are all float\n",
    "for k, v in dic_names.items():\n",
    "    value = re.findall('\\d+\\.\\s?\\d+', text_string[text_string.find(v):text_string.find(v)+20])\n",
    "    if value:\n",
    "        dic_values[k] = value[0]"
   ]
  },
  {
   "cell_type": "code",
   "execution_count": 15,
   "metadata": {
    "collapsed": true
   },
   "outputs": [
    {
     "data": {
      "text/plain": [
       "{'CRP': 0,\n",
       " '中性粒细胞%': '53.4',\n",
       " '中性粒细胞绝对值': '2.81',\n",
       " '单核细胞%': 0,\n",
       " '单核细胞绝对值': '0.63',\n",
       " '嗜碱粒细胞%': '53.4',\n",
       " '嗜碱粒细胞绝对值': '0.08',\n",
       " '嗜酸粒细胞%': '1.50',\n",
       " '嗜酸粒细胞绝对值': '0.08',\n",
       " '平均红细胞体积': '77.98295',\n",
       " '平均血小板体积': '10.40',\n",
       " '平均血红蛋白浓度': 0,\n",
       " '平均血红蛋白量': 0,\n",
       " '淋巴细胞%': '32.90',\n",
       " '淋巴细胞绝对值': 0,\n",
       " '白细胞计数': '5.26',\n",
       " '红细胞分布宽度': 0,\n",
       " '红细胞压积': 0,\n",
       " '红细胞计数': '475.5',\n",
       " '血小板分布宽度': '10.6',\n",
       " '血小板压积': '0.24',\n",
       " '血小板计数': '233.00',\n",
       " '血红蛋白': 0}"
      ]
     },
     "execution_count": 15,
     "metadata": {},
     "output_type": "execute_result"
    }
   ],
   "source": [
    "dic_values"
   ]
  },
  {
   "cell_type": "code",
   "execution_count": 16,
   "metadata": {},
   "outputs": [
    {
     "data": {
      "text/plain": [
       "0.5652173913043478"
      ]
     },
     "execution_count": 16,
     "metadata": {},
     "output_type": "execute_result"
    }
   ],
   "source": [
    "13/len(test_names)"
   ]
  }
 ],
 "metadata": {
  "kernelspec": {
   "display_name": "Python 3",
   "language": "python",
   "name": "python3"
  },
  "language_info": {
   "codemirror_mode": {
    "name": "ipython",
    "version": 3
   },
   "file_extension": ".py",
   "mimetype": "text/x-python",
   "name": "python",
   "nbconvert_exporter": "python",
   "pygments_lexer": "ipython3",
   "version": "3.6.8"
  }
 },
 "nbformat": 4,
 "nbformat_minor": 2
}
