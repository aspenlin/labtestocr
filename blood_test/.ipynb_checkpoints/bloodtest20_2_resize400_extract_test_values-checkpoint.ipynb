{
 "cells": [
  {
   "cell_type": "code",
   "execution_count": 1,
   "metadata": {},
   "outputs": [],
   "source": [
    "import re"
   ]
  },
  {
   "cell_type": "code",
   "execution_count": 2,
   "metadata": {},
   "outputs": [],
   "source": [
    "#read in tesseract result with whitelist.txt as configs\n",
    "with open('bloodtest20_2_resize200.txt', 'r') as f:\n",
    "    text = f.read()"
   ]
  },
  {
   "cell_type": "code",
   "execution_count": 3,
   "metadata": {},
   "outputs": [
    {
     "data": {
      "text/plain": [
       "'糖            大     r   6    d     尿三\\n三大      i\\nTAELU  比    1               <\\n单总               标FT5482\\n蛋均      总.                             r\\n1        22      氧 氢氧钠  量变  -    标积血    标   碳\\n22         总积总移      板17032726191中总性三\\n蛋                   标                                                           计            核2017-03-27\\n       醇量 i      红    l    目      绝    蛋          -\\n胞tJ 数o     15293.69--9.16x10V/L血红蛋白      140    315lg/L\\n中性粒细胞%     89.250.0%--70.096红细胞比     0.384   0.335--0.450          r\\nw      5.420.0%--40.0%平均红细胞体积88.    82.6--99.1f\\n单核细胞%      5.0     3.0%--10.0%   平均血红蛋白量   alc\\np    0    平均血红蛋白浓度365322--3629/          l\\n碱性粒细胞%     0.1       <10%6        红细胞分布宽度    12.0     1169%--14.026            L\\n6200700x109/Ll小t    155    a\\n淋巴细胞计数    0.82    0.80--4.00x10/L血小板平均体积   112   65--12.0f\\n单核细胞计数    0.77    0i12e-100x1O/L1\\n酸性粒细胞计数   0.04     0.02--0.50x1OV/L                                r\\n碱性粒细胞计数0.01    <1.00x10P/L                            v\\n2\\n红细胞计数      4.34    Si55clSx100     s      s\\n系直间17-03-2716.24    数间17-03-271630  间17-03-27 16草草  异-\\n接            标s 碳\\nL比粒20 布 碳素  接l葡度E固布目 嗜                            谷率\\n1       <          小 准-  M 磷\\n异二                   141       性2白0\\n     prgenpmpmmgppmagym10\\n\\x0c'"
      ]
     },
     "execution_count": 3,
     "metadata": {},
     "output_type": "execute_result"
    }
   ],
   "source": [
    "text"
   ]
  },
  {
   "cell_type": "code",
   "execution_count": 4,
   "metadata": {},
   "outputs": [],
   "source": [
    "#convert to a list\n",
    "text = text.split()"
   ]
  },
  {
   "cell_type": "code",
   "execution_count": 5,
   "metadata": {},
   "outputs": [],
   "source": [
    "test_names = ['白细胞计数','红细胞计数','中性粒细胞%','淋巴细胞%','中性粒细胞计数','单核细胞计数','嗜酸性粒细胞计数',\n",
    "             '淋巴细胞计数','平均血红蛋白浓度','平均红细胞体积','嗜碱性粒细胞%','嗜碱性粒细胞计数',\n",
    "             '平均血红蛋白量','血小板计数','单核细胞%','嗜酸性粒细胞%',\n",
    "             '红细胞分布宽度','血红蛋白','血小板平均体积','红细胞比容']\n"
   ]
  },
  {
   "cell_type": "code",
   "execution_count": 6,
   "metadata": {},
   "outputs": [
    {
     "name": "stdout",
     "output_type": "stream",
     "text": [
      "{'白细胞计数': 0, '红细胞计数': 0, '中性粒细胞%': 0, '淋巴细胞%': 0, '中性粒细胞计数': 0, '单核细胞计数': 0, '嗜酸性粒细胞计数': 0, '淋巴细胞计数': 0, '平均血红蛋白浓度': 0, '平均红细胞体积': 0, '嗜碱性粒细胞%': 0, '嗜碱性粒细胞计数': 0, '平均血红蛋白量': 0, '血小板计数': 0, '单核细胞%': 0, '嗜酸性粒细胞%': 0, '红细胞分布宽度': 0, '血红蛋白': 0, '血小板平均体积': 0, '红细胞比容': 0}\n"
     ]
    }
   ],
   "source": [
    "#make a dict of test_names and set default value to 0\n",
    "dic_names = {}\n",
    "[dic_names.setdefault(name, 0) for name in test_names]\n",
    "print(dic_names)"
   ]
  },
  {
   "cell_type": "code",
   "execution_count": 7,
   "metadata": {},
   "outputs": [],
   "source": [
    "#map dict_names with not necessarily correct names from tesseract\n",
    "for i in range(len(test_names)):\n",
    "    found = False\n",
    "    max_count, index = 0, 0\n",
    "    for j in range(len(text)):\n",
    "        count = 0\n",
    "        if test_names[i] in text[j]:\n",
    "            dic_names[test_names[i]] = text[j]\n",
    "            found = True\n",
    "            break\n",
    "        else:\n",
    "            for c in test_names[i]:\n",
    "                if c in text[j]:\n",
    "                    count += 1\n",
    "            if count > max_count:\n",
    "                max_count, index = count, j\n",
    "    if not found:\n",
    "        dic_names[test_names[i]] = text[index]     "
   ]
  },
  {
   "cell_type": "code",
   "execution_count": 8,
   "metadata": {},
   "outputs": [
    {
     "data": {
      "text/plain": [
       "{'中性粒细胞%': '中性粒细胞%',\n",
       " '中性粒细胞计数': '酸性粒细胞计数',\n",
       " '单核细胞%': '单核细胞%',\n",
       " '单核细胞计数': '单核细胞计数',\n",
       " '嗜碱性粒细胞%': '碱性粒细胞%',\n",
       " '嗜碱性粒细胞计数': '碱性粒细胞计数0.01',\n",
       " '嗜酸性粒细胞%': '中性粒细胞%',\n",
       " '嗜酸性粒细胞计数': '酸性粒细胞计数',\n",
       " '平均红细胞体积': '5.420.0%--40.0%平均红细胞体积88.',\n",
       " '平均血红蛋白浓度': '平均血红蛋白浓度365322--3629/',\n",
       " '平均血红蛋白量': '平均血红蛋白量',\n",
       " '淋巴细胞%': '淋巴细胞计数',\n",
       " '淋巴细胞计数': '淋巴细胞计数',\n",
       " '白细胞计数': '淋巴细胞计数',\n",
       " '红细胞分布宽度': '红细胞分布宽度',\n",
       " '红细胞比容': '89.250.0%--70.096红细胞比',\n",
       " '红细胞计数': '红细胞计数',\n",
       " '血小板平均体积': '0.80--4.00x10/L血小板平均体积',\n",
       " '血小板计数': '0.80--4.00x10/L血小板平均体积',\n",
       " '血红蛋白': '15293.69--9.16x10V/L血红蛋白'}"
      ]
     },
     "execution_count": 8,
     "metadata": {},
     "output_type": "execute_result"
    }
   ],
   "source": [
    "dic_names"
   ]
  },
  {
   "cell_type": "code",
   "execution_count": 9,
   "metadata": {},
   "outputs": [],
   "source": [
    "#convert text (list) back to a string with space\n",
    "text_string = ' '.join(text)"
   ]
  },
  {
   "cell_type": "code",
   "execution_count": 10,
   "metadata": {},
   "outputs": [
    {
     "data": {
      "text/plain": [
       "'糖 大 r 6 d 尿三 三大 i TAELU 比 1 < 单总 标FT5482 蛋均 总. r 1 22 氧 氢氧钠 量变 - 标积血 标 碳 22 总积总移 板17032726191中总性三 蛋 标 计 核2017-03-27 醇量 i 红 l 目 绝 蛋 - 胞tJ 数o 15293.69--9.16x10V/L血红蛋白 140 315lg/L 中性粒细胞% 89.250.0%--70.096红细胞比 0.384 0.335--0.450 r w 5.420.0%--40.0%平均红细胞体积88. 82.6--99.1f 单核细胞% 5.0 3.0%--10.0% 平均血红蛋白量 alc p 0 平均血红蛋白浓度365322--3629/ l 碱性粒细胞% 0.1 <10%6 红细胞分布宽度 12.0 1169%--14.026 L 6200700x109/Ll小t 155 a 淋巴细胞计数 0.82 0.80--4.00x10/L血小板平均体积 112 65--12.0f 单核细胞计数 0.77 0i12e-100x1O/L1 酸性粒细胞计数 0.04 0.02--0.50x1OV/L r 碱性粒细胞计数0.01 <1.00x10P/L v 2 红细胞计数 4.34 Si55clSx100 s s 系直间17-03-2716.24 数间17-03-271630 间17-03-27 16草草 异- 接 标s 碳 L比粒20 布 碳素 接l葡度E固布目 嗜 谷率 1 < 小 准- M 磷 异二 141 性2白0 prgenpmpmmgppmagym10'"
      ]
     },
     "execution_count": 10,
     "metadata": {},
     "output_type": "execute_result"
    }
   ],
   "source": [
    "text_string"
   ]
  },
  {
   "cell_type": "code",
   "execution_count": 11,
   "metadata": {},
   "outputs": [
    {
     "name": "stdout",
     "output_type": "stream",
     "text": [
      "{'白细胞计数': 0, '红细胞计数': 0, '中性粒细胞%': 0, '淋巴细胞%': 0, '中性粒细胞计数': 0, '单核细胞计数': 0, '嗜酸性粒细胞计数': 0, '淋巴细胞计数': 0, '平均血红蛋白浓度': 0, '平均红细胞体积': 0, '嗜碱性粒细胞%': 0, '嗜碱性粒细胞计数': 0, '平均血红蛋白量': 0, '血小板计数': 0, '单核细胞%': 0, '嗜酸性粒细胞%': 0, '红细胞分布宽度': 0, '血红蛋白': 0, '血小板平均体积': 0, '红细胞比容': 0}\n"
     ]
    }
   ],
   "source": [
    "#initialize a dict for values with test_names as keys\n",
    "dic_values = {}\n",
    "[dic_values.setdefault(name, 0) for name in test_names]\n",
    "print(dic_values)"
   ]
  },
  {
   "cell_type": "code",
   "execution_count": 12,
   "metadata": {},
   "outputs": [],
   "source": [
    "#find the values for test_names, here suppose the values are all float\n",
    "for k, v in dic_names.items():\n",
    "    value = re.findall('\\d+\\.?\\d{0,3}', text_string[text_string.find(re.findall(r'[\\u4e00-\\u9fff]+', v)[0]):text_string.find(re.findall(r'[\\u4e00-\\u9fff]+', v)[0])+30])\n",
    "    if value:\n",
    "        dic_values[k] = value[0]"
   ]
  },
  {
   "cell_type": "code",
   "execution_count": 13,
   "metadata": {},
   "outputs": [
    {
     "data": {
      "text/plain": [
       "{'中性粒细胞%': '89.250',\n",
       " '中性粒细胞计数': '0.04',\n",
       " '单核细胞%': '5.0',\n",
       " '单核细胞计数': '0.77',\n",
       " '嗜碱性粒细胞%': '0.1',\n",
       " '嗜碱性粒细胞计数': '0.01',\n",
       " '嗜酸性粒细胞%': '89.250',\n",
       " '嗜酸性粒细胞计数': '0.04',\n",
       " '平均红细胞体积': '88.',\n",
       " '平均血红蛋白浓度': '365322',\n",
       " '平均血红蛋白量': '0',\n",
       " '淋巴细胞%': '0.82',\n",
       " '淋巴细胞计数': '0.82',\n",
       " '白细胞计数': '0.82',\n",
       " '红细胞分布宽度': '12.0',\n",
       " '红细胞比容': '0.384',\n",
       " '红细胞计数': '4.34',\n",
       " '血小板平均体积': '112',\n",
       " '血小板计数': '112',\n",
       " '血红蛋白': '140'}"
      ]
     },
     "execution_count": 13,
     "metadata": {},
     "output_type": "execute_result"
    }
   ],
   "source": [
    "dic_values"
   ]
  },
  {
   "cell_type": "code",
   "execution_count": 14,
   "metadata": {},
   "outputs": [
    {
     "data": {
      "text/plain": [
       "0.7"
      ]
     },
     "execution_count": 14,
     "metadata": {},
     "output_type": "execute_result"
    }
   ],
   "source": [
    "14/len(test_names)"
   ]
  },
  {
   "cell_type": "code",
   "execution_count": null,
   "metadata": {},
   "outputs": [],
   "source": []
  }
 ],
 "metadata": {
  "kernelspec": {
   "display_name": "Python 3",
   "language": "python",
   "name": "python3"
  },
  "language_info": {
   "codemirror_mode": {
    "name": "ipython",
    "version": 3
   },
   "file_extension": ".py",
   "mimetype": "text/x-python",
   "name": "python",
   "nbconvert_exporter": "python",
   "pygments_lexer": "ipython3",
   "version": "3.6.8"
  }
 },
 "nbformat": 4,
 "nbformat_minor": 2
}
