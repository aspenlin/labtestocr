{
 "cells": [
  {
   "cell_type": "code",
   "execution_count": 1,
   "metadata": {},
   "outputs": [],
   "source": [
    "import re"
   ]
  },
  {
   "cell_type": "code",
   "execution_count": 2,
   "metadata": {},
   "outputs": [],
   "source": [
    "#read in tesseract result with whitelist.txt as configs\n",
    "with open('btscanned_resize200_border.txt', 'r') as f:\n",
    "    text = f.read()"
   ]
  },
  {
   "cell_type": "code",
   "execution_count": 3,
   "metadata": {},
   "outputs": [
    {
     "data": {
      "text/plain": [
       "'三布单75\\n丙布\\n\\n淋<密二葡氢量     粒     D03826283      标积血\\n\\n性分      胱葡葡t        度.          2019-5-410\\n平77     积平I标       油二\\n\\n目        钠标                值                目积         系葡氨l变              值\\n白细胞         6.01             4.00--10.00109嗜酸性粒红胞    0.02        005--0.51079yXL\\n红细胞         5.821            3.68--5.131012嗜碱性粒胞    0.04         0000.1010397\\n血小板           1560                 100--300109/L     红细胞平均体积63.7          Oc\\n\\n血红蛋白        120               113--151g/L      平均血红蛋白量20.61        26--31pg\\n\\n红细胞压积       B               0--50           平均血红蛋白浓323            OssAOP7\\n\\n中性粒细胞比率64.40               e           红胞分布宽度   34.4          Bileur5Os%\\n\\n淋巴细胞比率23.10               20.0--40.0%       RDW-CV           16.201         1\\n\\n单核细胞比率11.501         38%        -压白2earlee0I0mg/L\\n酸性粒细胞比30.3          0.5--5.0%     性标Ait6590-10ng/1lI\\n碱性粒细胞比s0.70              0.0--L.0%        葡萄糖6.61          5二\\n\\n中性粒细胞数3.87        7标01577\\n\\n淋巴红胞数      1.39             0.80--4.001079/\\n\\n比核     065          012<<0.81LQ-9\\n112019-5-42019-5-4标       核\\n油对标\\n\\x0c'"
      ]
     },
     "execution_count": 3,
     "metadata": {},
     "output_type": "execute_result"
    }
   ],
   "source": [
    "text"
   ]
  },
  {
   "cell_type": "code",
   "execution_count": 4,
   "metadata": {},
   "outputs": [],
   "source": [
    "#convert to a list\n",
    "text = text.split()"
   ]
  },
  {
   "cell_type": "code",
   "execution_count": 5,
   "metadata": {},
   "outputs": [],
   "source": [
    "test_names = ['白细胞','红细胞','中性粒细胞比率','淋巴细胞比率','中性粒细胞数','单核细胞数','嗜酸性粒细胞',\n",
    "             '淋巴细胞数','平均血红蛋白浓度','红细胞压积','红细胞平均体积','嗜碱粒细胞比率','嗜碱性粒细胞',\n",
    "             '平均血红蛋白量','血小板','中性粒细胞比率','单核细胞比率','嗜酸粒细胞比率','血清淀粉样蛋白A',\n",
    "             '红细胞分布宽度','血红蛋白','C-反应蛋白','随机葡萄糖测定']\n"
   ]
  },
  {
   "cell_type": "code",
   "execution_count": 6,
   "metadata": {},
   "outputs": [
    {
     "name": "stdout",
     "output_type": "stream",
     "text": [
      "{'白细胞': 0, '红细胞': 0, '中性粒细胞比率': 0, '淋巴细胞比率': 0, '中性粒细胞数': 0, '单核细胞数': 0, '嗜酸性粒细胞': 0, '淋巴细胞数': 0, '平均血红蛋白浓度': 0, '红细胞压积': 0, '红细胞平均体积': 0, '嗜碱粒细胞比率': 0, '嗜碱性粒细胞': 0, '平均血红蛋白量': 0, '血小板': 0, '单核细胞比率': 0, '嗜酸粒细胞比率': 0, '血清淀粉样蛋白A': 0, '红细胞分布宽度': 0, '血红蛋白': 0, 'C-反应蛋白': 0, '随机葡萄糖测定': 0}\n"
     ]
    }
   ],
   "source": [
    "#make a dict of test_names and set default value to 0\n",
    "dic_names = {}\n",
    "[dic_names.setdefault(name, 0) for name in test_names]\n",
    "print(dic_names)"
   ]
  },
  {
   "cell_type": "code",
   "execution_count": 7,
   "metadata": {},
   "outputs": [],
   "source": [
    "#map dict_names with not necessarily correct names from tesseract\n",
    "for i in range(len(test_names)):\n",
    "    found = False\n",
    "    max_count, index = 0, 0\n",
    "    for j in range(len(text)):\n",
    "        count = 0\n",
    "        if test_names[i] in text[j]:\n",
    "            dic_names[test_names[i]] = text[j]\n",
    "            found = True\n",
    "            break\n",
    "        else:\n",
    "            for c in test_names[i]:\n",
    "                if c in text[j]:\n",
    "                    count += 1\n",
    "            if count > max_count:\n",
    "                max_count, index = count, j\n",
    "    if not found:\n",
    "        dic_names[test_names[i]] = text[index]     "
   ]
  },
  {
   "cell_type": "code",
   "execution_count": 8,
   "metadata": {},
   "outputs": [
    {
     "data": {
      "text/plain": [
       "{'C-反应蛋白': '血红蛋白',\n",
       " '中性粒细胞数': '中性粒细胞数3.87',\n",
       " '中性粒细胞比率': '中性粒细胞比率64.40',\n",
       " '单核细胞数': '单核细胞比率11.501',\n",
       " '单核细胞比率': '单核细胞比率11.501',\n",
       " '嗜碱性粒细胞': '3.68--5.131012嗜碱性粒胞',\n",
       " '嗜碱粒细胞比率': '中性粒细胞比率64.40',\n",
       " '嗜酸性粒细胞': '4.00--10.00109嗜酸性粒红胞',\n",
       " '嗜酸粒细胞比率': '中性粒细胞比率64.40',\n",
       " '平均血红蛋白浓度': '平均血红蛋白浓323',\n",
       " '平均血红蛋白量': '平均血红蛋白量20.61',\n",
       " '淋巴细胞数': '淋巴细胞比率23.10',\n",
       " '淋巴细胞比率': '淋巴细胞比率23.10',\n",
       " '白细胞': '白细胞',\n",
       " '红细胞': '红细胞',\n",
       " '红细胞分布宽度': '红胞分布宽度',\n",
       " '红细胞压积': '红细胞压积',\n",
       " '红细胞平均体积': '红细胞平均体积63.7',\n",
       " '血小板': '血小板',\n",
       " '血清淀粉样蛋白A': '血红蛋白',\n",
       " '血红蛋白': '血红蛋白',\n",
       " '随机葡萄糖测定': '葡萄糖6.61'}"
      ]
     },
     "execution_count": 8,
     "metadata": {},
     "output_type": "execute_result"
    }
   ],
   "source": [
    "dic_names"
   ]
  },
  {
   "cell_type": "code",
   "execution_count": 9,
   "metadata": {},
   "outputs": [],
   "source": [
    "#convert text (list) back to a string with space\n",
    "text_string = ' '.join(text)"
   ]
  },
  {
   "cell_type": "code",
   "execution_count": 10,
   "metadata": {},
   "outputs": [
    {
     "data": {
      "text/plain": [
       "'三布单75 丙布 淋<密二葡氢量 粒 D03826283 标积血 性分 胱葡葡t 度. 2019-5-410 平77 积平I标 油二 目 钠标 值 目积 系葡氨l变 值 白细胞 6.01 4.00--10.00109嗜酸性粒红胞 0.02 005--0.51079yXL 红细胞 5.821 3.68--5.131012嗜碱性粒胞 0.04 0000.1010397 血小板 1560 100--300109/L 红细胞平均体积63.7 Oc 血红蛋白 120 113--151g/L 平均血红蛋白量20.61 26--31pg 红细胞压积 B 0--50 平均血红蛋白浓323 OssAOP7 中性粒细胞比率64.40 e 红胞分布宽度 34.4 Bileur5Os% 淋巴细胞比率23.10 20.0--40.0% RDW-CV 16.201 1 单核细胞比率11.501 38% -压白2earlee0I0mg/L 酸性粒细胞比30.3 0.5--5.0% 性标Ait6590-10ng/1lI 碱性粒细胞比s0.70 0.0--L.0% 葡萄糖6.61 5二 中性粒细胞数3.87 7标01577 淋巴红胞数 1.39 0.80--4.001079/ 比核 065 012<<0.81LQ-9 112019-5-42019-5-4标 核 油对标'"
      ]
     },
     "execution_count": 10,
     "metadata": {},
     "output_type": "execute_result"
    }
   ],
   "source": [
    "text_string"
   ]
  },
  {
   "cell_type": "code",
   "execution_count": 11,
   "metadata": {},
   "outputs": [
    {
     "name": "stdout",
     "output_type": "stream",
     "text": [
      "{'白细胞': 0, '红细胞': 0, '中性粒细胞比率': 0, '淋巴细胞比率': 0, '中性粒细胞数': 0, '单核细胞数': 0, '嗜酸性粒细胞': 0, '淋巴细胞数': 0, '平均血红蛋白浓度': 0, '红细胞压积': 0, '红细胞平均体积': 0, '嗜碱粒细胞比率': 0, '嗜碱性粒细胞': 0, '平均血红蛋白量': 0, '血小板': 0, '单核细胞比率': 0, '嗜酸粒细胞比率': 0, '血清淀粉样蛋白A': 0, '红细胞分布宽度': 0, '血红蛋白': 0, 'C-反应蛋白': 0, '随机葡萄糖测定': 0}\n"
     ]
    }
   ],
   "source": [
    "#initialize a dict for values with test_names as keys\n",
    "dic_values = {}\n",
    "[dic_values.setdefault(name, 0) for name in test_names]\n",
    "print(dic_values)"
   ]
  },
  {
   "cell_type": "code",
   "execution_count": 12,
   "metadata": {},
   "outputs": [],
   "source": [
    "#find the values for test_names, here suppose the values are all float\n",
    "for k, v in dic_names.items():\n",
    "    value = re.findall('\\d+\\.?\\d{0,3}', text_string[text_string.find(re.findall(r'[\\u4e00-\\u9fff]+', v)[0]):text_string.find(re.findall(r'[\\u4e00-\\u9fff]+', v)[0])+30])\n",
    "    if value:\n",
    "        dic_values[k] = value[0]"
   ]
  },
  {
   "cell_type": "code",
   "execution_count": 13,
   "metadata": {},
   "outputs": [
    {
     "data": {
      "text/plain": [
       "{'C-反应蛋白': '120',\n",
       " '中性粒细胞数': '3.87',\n",
       " '中性粒细胞比率': '64.40',\n",
       " '单核细胞数': '11.501',\n",
       " '单核细胞比率': '11.501',\n",
       " '嗜碱性粒细胞': '0.04',\n",
       " '嗜碱粒细胞比率': '64.40',\n",
       " '嗜酸性粒细胞': '0.02',\n",
       " '嗜酸粒细胞比率': '64.40',\n",
       " '平均血红蛋白浓度': '323',\n",
       " '平均血红蛋白量': '20.61',\n",
       " '淋巴细胞数': '23.10',\n",
       " '淋巴细胞比率': '23.10',\n",
       " '白细胞': '6.01',\n",
       " '红细胞': '5.821',\n",
       " '红细胞分布宽度': '34.4',\n",
       " '红细胞压积': '0',\n",
       " '红细胞平均体积': '63.7',\n",
       " '血小板': '1560',\n",
       " '血清淀粉样蛋白A': '120',\n",
       " '血红蛋白': '120',\n",
       " '随机葡萄糖测定': '6.61'}"
      ]
     },
     "execution_count": 13,
     "metadata": {},
     "output_type": "execute_result"
    }
   ],
   "source": [
    "dic_values"
   ]
  },
  {
   "cell_type": "code",
   "execution_count": 14,
   "metadata": {},
   "outputs": [
    {
     "data": {
      "text/plain": [
       "0.6086956521739131"
      ]
     },
     "execution_count": 14,
     "metadata": {},
     "output_type": "execute_result"
    }
   ],
   "source": [
    "14/len(test_names)"
   ]
  },
  {
   "cell_type": "code",
   "execution_count": null,
   "metadata": {},
   "outputs": [],
   "source": []
  }
 ],
 "metadata": {
  "kernelspec": {
   "display_name": "Python 3",
   "language": "python",
   "name": "python3"
  },
  "language_info": {
   "codemirror_mode": {
    "name": "ipython",
    "version": 3
   },
   "file_extension": ".py",
   "mimetype": "text/x-python",
   "name": "python",
   "nbconvert_exporter": "python",
   "pygments_lexer": "ipython3",
   "version": "3.6.8"
  }
 },
 "nbformat": 4,
 "nbformat_minor": 2
}
