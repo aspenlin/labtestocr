{
 "cells": [
  {
   "cell_type": "code",
   "execution_count": 1,
   "metadata": {},
   "outputs": [],
   "source": [
    "import re"
   ]
  },
  {
   "cell_type": "code",
   "execution_count": 2,
   "metadata": {},
   "outputs": [],
   "source": [
    "#read in tesseract result with whitelist.txt as configs\n",
    "with open('bloodtest20_resize1000.txt', 'r') as f:\n",
    "    text = f.read()"
   ]
  },
  {
   "cell_type": "code",
   "execution_count": 3,
   "metadata": {},
   "outputs": [
    {
     "data": {
      "text/plain": [
       "'d          s      F    -t\\n          嗜浓\\n\\n.     45                        .                       r-\\n-       三大          0\\n绝-总-白           核移单              标LB5354             u\\n.<C1         T10071129     标积血     标葡糖-二                        -\\n1      草   型 量 3           积17040615366性                     <     激.二\\n\\n    标                               中      淋巴.2017-04-06                4  r< 1\\neoesco小丁二二二\\n固e粒<二标固目-标-<二              -\\n-     白细胞计数    11.92      3.69--9.16x10M/L血红蛋白     134          113--151g/                r\\n.     中性粒细%67.5           50.0%--70.0%6红细胞比0.387          0.335--0.450                    w 素 \\n-    淋巴细胞%22.7         20.0%--40.0%平均红细体积89.4        826--99.16                  -\\n单核细胞%8.0           3.09%6--10.09%6平均血红蛋白量30.9          269--333pg                 标-\\n\\n嗜酸性粒细脂%1.3          0.59%6--5.0%    平均血红磷白浓度346         322--362g/               分\\n\\n碱性粒细胞%0.5           <1.0%       红细胞分布宽度11.9          11.6%6--14.096               碳\\n中性粒细胞计数8.05      2.00--7.00x10P/L血小板计数250         101--320x108/L            E\\n\\n淋巴细胞计数2.70           0.80--4.00x108/L血小板平均体积11.6          6.5--1206                     t\\n\\n单核细胞计数0.95            0.12--1.00x108/L                                                    d<\\n嗜性粒细胞计数0.16             0.02--0.50x10P/L                                                           3\\n嗜碳性粒细胞计数0.06             <1.00x10/AL                                                               I\\n红细胞计数            4.33                                  3.68--5.13x10r./L                                                                                                                                                     钾\\n直间17-04-061451      直间17-04-061519 二17o0 1-t量 酰21碱  转 017-04 二g6 15.32                     t\\n\\n.      素7          4-iNe\\n20               粒.     - t 三 核对三p\\n系     1\\n\\n异                    化单1                                     1\\n\\x0c'"
      ]
     },
     "execution_count": 3,
     "metadata": {},
     "output_type": "execute_result"
    }
   ],
   "source": [
    "text"
   ]
  },
  {
   "cell_type": "code",
   "execution_count": 4,
   "metadata": {},
   "outputs": [],
   "source": [
    "#convert to a list\n",
    "text = text.split()"
   ]
  },
  {
   "cell_type": "code",
   "execution_count": 5,
   "metadata": {},
   "outputs": [],
   "source": [
    "test_names = ['白细胞计数','红细胞计数','中性粒细胞%','淋巴细胞%','中性粒细胞计数','单核细胞计数','嗜酸性粒细胞计数',\n",
    "             '淋巴细胞计数','平均血红蛋白浓度','平均红细胞体积','嗜碱性粒细胞%','嗜碱性粒细胞计数',\n",
    "             '平均血红蛋白量','血小板计数','单核细胞%','嗜酸性粒细胞%',\n",
    "             '红细胞分布宽度','血红蛋白','血小板平均体积','红细胞比容']\n"
   ]
  },
  {
   "cell_type": "code",
   "execution_count": 6,
   "metadata": {},
   "outputs": [
    {
     "name": "stdout",
     "output_type": "stream",
     "text": [
      "{'白细胞计数': 0, '红细胞计数': 0, '中性粒细胞%': 0, '淋巴细胞%': 0, '中性粒细胞计数': 0, '单核细胞计数': 0, '嗜酸性粒细胞计数': 0, '淋巴细胞计数': 0, '平均血红蛋白浓度': 0, '平均红细胞体积': 0, '嗜碱性粒细胞%': 0, '嗜碱性粒细胞计数': 0, '平均血红蛋白量': 0, '血小板计数': 0, '单核细胞%': 0, '嗜酸性粒细胞%': 0, '红细胞分布宽度': 0, '血红蛋白': 0, '血小板平均体积': 0, '红细胞比容': 0}\n"
     ]
    }
   ],
   "source": [
    "#make a dict of test_names and set default value to 0\n",
    "dic_names = {}\n",
    "[dic_names.setdefault(name, 0) for name in test_names]\n",
    "print(dic_names)"
   ]
  },
  {
   "cell_type": "code",
   "execution_count": 7,
   "metadata": {},
   "outputs": [],
   "source": [
    "#map dict_names with not necessarily correct names from tesseract\n",
    "for i in range(len(test_names)):\n",
    "    found = False\n",
    "    max_count, index = 0, 0\n",
    "    for j in range(len(text)):\n",
    "        count = 0\n",
    "        if test_names[i] in text[j]:\n",
    "            dic_names[test_names[i]] = text[j]\n",
    "            found = True\n",
    "            break\n",
    "        else:\n",
    "            for c in test_names[i]:\n",
    "                if c in text[j]:\n",
    "                    count += 1\n",
    "            if count > max_count:\n",
    "                max_count, index = count, j\n",
    "    if not found:\n",
    "        dic_names[test_names[i]] = text[index]     "
   ]
  },
  {
   "cell_type": "code",
   "execution_count": 8,
   "metadata": {},
   "outputs": [
    {
     "data": {
      "text/plain": [
       "{'中性粒细胞%': '中性粒细%67.5',\n",
       " '中性粒细胞计数': '中性粒细胞计数8.05',\n",
       " '单核细胞%': '单核细胞%8.0',\n",
       " '单核细胞计数': '单核细胞计数0.95',\n",
       " '嗜碱性粒细胞%': '碱性粒细胞%0.5',\n",
       " '嗜碱性粒细胞计数': '嗜性粒细胞计数0.16',\n",
       " '嗜酸性粒细胞%': '嗜酸性粒细脂%1.3',\n",
       " '嗜酸性粒细胞计数': '嗜性粒细胞计数0.16',\n",
       " '平均红细胞体积': '20.0%--40.0%平均红细体积89.4',\n",
       " '平均血红蛋白浓度': '平均血红磷白浓度346',\n",
       " '平均血红蛋白量': '3.09%6--10.09%6平均血红蛋白量30.9',\n",
       " '淋巴细胞%': '淋巴细胞%22.7',\n",
       " '淋巴细胞计数': '淋巴细胞计数2.70',\n",
       " '白细胞计数': '白细胞计数',\n",
       " '红细胞分布宽度': '红细胞分布宽度11.9',\n",
       " '红细胞比容': '50.0%--70.0%6红细胞比0.387',\n",
       " '红细胞计数': '红细胞计数',\n",
       " '血小板平均体积': '0.80--4.00x108/L血小板平均体积11.6',\n",
       " '血小板计数': '2.00--7.00x10P/L血小板计数250',\n",
       " '血红蛋白': '3.69--9.16x10M/L血红蛋白'}"
      ]
     },
     "execution_count": 8,
     "metadata": {},
     "output_type": "execute_result"
    }
   ],
   "source": [
    "dic_names"
   ]
  },
  {
   "cell_type": "code",
   "execution_count": 9,
   "metadata": {},
   "outputs": [],
   "source": [
    "#convert text (list) back to a string with space\n",
    "text_string = ' '.join(text)"
   ]
  },
  {
   "cell_type": "code",
   "execution_count": 10,
   "metadata": {},
   "outputs": [
    {
     "data": {
      "text/plain": [
       "'d s F -t 嗜浓 . 45 . r- - 三大 0 绝-总-白 核移单 标LB5354 u .<C1 T10071129 标积血 标葡糖-二 - 1 草 型 量 3 积17040615366性 < 激.二 标 中 淋巴.2017-04-06 4 r< 1 eoesco小丁二二二 固e粒<二标固目-标-<二 - - 白细胞计数 11.92 3.69--9.16x10M/L血红蛋白 134 113--151g/ r . 中性粒细%67.5 50.0%--70.0%6红细胞比0.387 0.335--0.450 w 素 - 淋巴细胞%22.7 20.0%--40.0%平均红细体积89.4 826--99.16 - 单核细胞%8.0 3.09%6--10.09%6平均血红蛋白量30.9 269--333pg 标- 嗜酸性粒细脂%1.3 0.59%6--5.0% 平均血红磷白浓度346 322--362g/ 分 碱性粒细胞%0.5 <1.0% 红细胞分布宽度11.9 11.6%6--14.096 碳 中性粒细胞计数8.05 2.00--7.00x10P/L血小板计数250 101--320x108/L E 淋巴细胞计数2.70 0.80--4.00x108/L血小板平均体积11.6 6.5--1206 t 单核细胞计数0.95 0.12--1.00x108/L d< 嗜性粒细胞计数0.16 0.02--0.50x10P/L 3 嗜碳性粒细胞计数0.06 <1.00x10/AL I 红细胞计数 4.33 3.68--5.13x10r./L 钾 直间17-04-061451 直间17-04-061519 二17o0 1-t量 酰21碱 转 017-04 二g6 15.32 t . 素7 4-iNe 20 粒. - t 三 核对三p 系 1 异 化单1 1'"
      ]
     },
     "execution_count": 10,
     "metadata": {},
     "output_type": "execute_result"
    }
   ],
   "source": [
    "text_string"
   ]
  },
  {
   "cell_type": "code",
   "execution_count": 11,
   "metadata": {},
   "outputs": [
    {
     "name": "stdout",
     "output_type": "stream",
     "text": [
      "{'白细胞计数': 0, '红细胞计数': 0, '中性粒细胞%': 0, '淋巴细胞%': 0, '中性粒细胞计数': 0, '单核细胞计数': 0, '嗜酸性粒细胞计数': 0, '淋巴细胞计数': 0, '平均血红蛋白浓度': 0, '平均红细胞体积': 0, '嗜碱性粒细胞%': 0, '嗜碱性粒细胞计数': 0, '平均血红蛋白量': 0, '血小板计数': 0, '单核细胞%': 0, '嗜酸性粒细胞%': 0, '红细胞分布宽度': 0, '血红蛋白': 0, '血小板平均体积': 0, '红细胞比容': 0}\n"
     ]
    }
   ],
   "source": [
    "#initialize a dict for values with test_names as keys\n",
    "dic_values = {}\n",
    "[dic_values.setdefault(name, 0) for name in test_names]\n",
    "print(dic_values)"
   ]
  },
  {
   "cell_type": "code",
   "execution_count": 12,
   "metadata": {},
   "outputs": [],
   "source": [
    "#find the values for test_names, here suppose the values are all float\n",
    "for k, v in dic_names.items():\n",
    "    value = re.findall('\\d+\\.?\\d{0,3}', text_string[text_string.find(re.findall(r'[\\u4e00-\\u9fff]+', v)[0]):text_string.find(re.findall(r'[\\u4e00-\\u9fff]+', v)[0])+30])\n",
    "    if value:\n",
    "        dic_values[k] = value[0]"
   ]
  },
  {
   "cell_type": "code",
   "execution_count": 13,
   "metadata": {},
   "outputs": [
    {
     "data": {
      "text/plain": [
       "{'中性粒细胞%': '67.5',\n",
       " '中性粒细胞计数': '8.05',\n",
       " '单核细胞%': '8.0',\n",
       " '单核细胞计数': '0.95',\n",
       " '嗜碱性粒细胞%': '0.5',\n",
       " '嗜碱性粒细胞计数': '0.16',\n",
       " '嗜酸性粒细胞%': '1.3',\n",
       " '嗜酸性粒细胞计数': '0.16',\n",
       " '平均红细胞体积': '89.4',\n",
       " '平均血红蛋白浓度': '346',\n",
       " '平均血红蛋白量': '30.9',\n",
       " '淋巴细胞%': '22.7',\n",
       " '淋巴细胞计数': '2.70',\n",
       " '白细胞计数': '11.92',\n",
       " '红细胞分布宽度': '11.9',\n",
       " '红细胞比容': '0.387',\n",
       " '红细胞计数': '4.33',\n",
       " '血小板平均体积': '11.6',\n",
       " '血小板计数': '250',\n",
       " '血红蛋白': '134'}"
      ]
     },
     "execution_count": 13,
     "metadata": {},
     "output_type": "execute_result"
    }
   ],
   "source": [
    "dic_values"
   ]
  },
  {
   "cell_type": "code",
   "execution_count": 14,
   "metadata": {},
   "outputs": [
    {
     "data": {
      "text/plain": [
       "0.95"
      ]
     },
     "execution_count": 14,
     "metadata": {},
     "output_type": "execute_result"
    }
   ],
   "source": [
    "19/len(test_names)"
   ]
  },
  {
   "cell_type": "code",
   "execution_count": null,
   "metadata": {},
   "outputs": [],
   "source": []
  }
 ],
 "metadata": {
  "kernelspec": {
   "display_name": "Python 3",
   "language": "python",
   "name": "python3"
  },
  "language_info": {
   "codemirror_mode": {
    "name": "ipython",
    "version": 3
   },
   "file_extension": ".py",
   "mimetype": "text/x-python",
   "name": "python",
   "nbconvert_exporter": "python",
   "pygments_lexer": "ipython3",
   "version": "3.6.8"
  }
 },
 "nbformat": 4,
 "nbformat_minor": 2
}
