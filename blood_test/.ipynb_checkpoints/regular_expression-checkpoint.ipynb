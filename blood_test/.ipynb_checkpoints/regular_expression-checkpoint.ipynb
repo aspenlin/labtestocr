{
 "cells": [
  {
   "cell_type": "code",
   "execution_count": 1,
   "metadata": {},
   "outputs": [],
   "source": [
    "import pandas as pd\n",
    "import re"
   ]
  },
  {
   "cell_type": "code",
   "execution_count": 103,
   "metadata": {},
   "outputs": [],
   "source": [
    "#read result from tesseract\n",
    "with open('labtest1.txt', 'r') as f:\n",
    "    result = f.read()"
   ]
  },
  {
   "cell_type": "code",
   "execution_count": 104,
   "metadata": {
    "collapsed": true
   },
   "outputs": [
    {
     "data": {
      "text/plain": [
       "' \\n\\n \\n\\n \\n\\n \\n\\n \\n\\n \\n\\n \\n\\n \\n\\n县医院生化检验报告单\\n\\n样本号.\\n\\n \\n\\n \\n\\n \\n\\n \\n\\n姓 名              科 室: 急诊组         标本种类: 血清          卡 号: 1000027797\\n性 别: 男              住院号:                    备 “注:                    申请日期: 2014-08-11 16.\\n年 _龄: 31 “罗        床 号:                 临床诊断: 待查           接收日期: 2014-08-12 09:ˇ\\n代码 “项目名称            检验结果        参考区间                    代码         项目名称          检验结果         参考区间\\n1 TBIL “ 总胆红素        30.80 + 5.10一19.00 umolyL 〖21 CL “氮             100.80 96. 00一108. 00 mmoi\\n2 _DBIL “直接胥红素      7.90 ˇ 0一7.00 umol/L       22 C4 锈             2.45      2.00一2.80 吴\\n_3 BIL ˇ 间接胆红素      22.90 1 0一15.00 umol/L      23 C02 二氧化碳       26.62    20.00~“\\n4 “TP。 “ 总蛋白      71.50   60. 00一82.00 g/L   24 TG 甘油三醌     0.60   0李\\n5 ALB ˇ白蛋白          42.00     35.00一55.00 g/L     25 TCHO “ 总胆固醇        4.60     吴3\\n<6 6     球蛋白          29.50     20. 00一35.00 g/L      26 HDLC “ 高密度脂蛋白     1.60      1 10一bo、\\n7 A/G ˇ白球比        山 42     1. 20一2.30         27 LDLC “ 低密度脂蛋白    8 2     2. 70一3.60 mmoly .\\n8 ALT “谷丙转氨酶    46.40 0一40. 00 U/L     28 AP0A 载脂蛇白Al    1.20   1.20~1.60 g儿\\n9 AST ˇ谷草转氨酶    16. 10   0一40. 00 U/L     29 AP0B “载脂蛇白B    0. 58   0.80一1.05 g/L\\n10 AST/ALT谷草/谷丙    0.35               30 TB& 总胆汁酸     3.43   0一15.00 umol/L\\n11 ALP ˇ 碱性磷酸酶      54. 30     40.00一150.00 U/L     31 HCY ˇ同型半脏氨酸     8.80     0一10.00 umol/L\\n12 GGT “谷氨酰氨基转移酶 8. 20   0一50.00 U/L     32 HBDH a 羟丁酸脱氡酶 “99. 60   72.00一182.00 U/L\\n13 LDH “乳酸脱氡酶       131.80 ˇ 109.00一245.00 U/L\\n14 CK “ 肌酸激酶        91.30     24. 00一195.00 U/L\\n15 GLU “葡萄糖          5.30      3.80一6.10 mmol儿\\n16 CREA “ 肌酐 ,          107.50 ˇ “40. 00一133.00 umol/L\\n17 UA 尿酸           301.00 ˇ “142.00一420.00 umolyL\\n18 BUN ˇ尿素            6.70      2.80一8.20 mmolyL\\n19 E     钾             4. 40      3.50一5.30 mmolyL\\n20 NMA 钳             142.20 ˇ 136.00一144. 00 mmol/L\\n送检医生:林振钦      报告日期: 2014-08-12 11:16              检验者: 李建梅            审核者: ˇ 黄富亮\\n\\n仪器:ADVIA1800生化分析仪 “此结果仅对送检标本负责, 供临床参考, 如有疑问, 请在三日内和检验科联系!\\n\\x0c'"
      ]
     },
     "execution_count": 104,
     "metadata": {},
     "output_type": "execute_result"
    }
   ],
   "source": [
    "result"
   ]
  },
  {
   "cell_type": "code",
   "execution_count": 62,
   "metadata": {},
   "outputs": [],
   "source": [
    "test_names = ['总胆红素','直接胥红素','间接胆红素','总蛋白','白蛋白','球蛋白','谷丙转氨酶','谷草转氨酶',\n",
    "             '谷草/谷丙','碱性磷酸酶','谷氨酰氨基转移酶','乳酸脱氢酶','肌酸激酶','葡萄糖','肌酐','尿酸',\n",
    "             '尿素','钾','钠','氯','钙','二氧化碳','甘油三酯','总胆固醇','高密度脂蛋白','低密度脂蛋白',\n",
    "             '载脂蛋白Al','载脂蛋白B','总胆汁酸','同型半胱氨酸','羟丁酸脱氢酶']"
   ]
  },
  {
   "cell_type": "code",
   "execution_count": 92,
   "metadata": {},
   "outputs": [
    {
     "name": "stdout",
     "output_type": "stream",
     "text": [
      "{'总胆红素': 0, '直接胥红素': 0, '间接胆红素': 0, '总蛋白': 0, '白蛋白': 0, '球蛋白': 0, '谷丙转氨酶': 0, '谷草转氨酶': 0, '谷草/谷丙': 0, '碱性磷酸酶': 0, '谷氨酰氨基转移酶': 0, '乳酸脱氢酶': 0, '肌酸激酶': 0, '葡萄糖': 0, '肌酐': 0, '尿酸': 0, '尿素': 0, '钾': 0, '钠': 0, '氯': 0, '钙': 0, '二氧化碳': 0, '甘油三酯': 0, '总胆固醇': 0, '高密度脂蛋白': 0, '低密度脂蛋白': 0, '载脂蛋白Al': 0, '载脂蛋白B': 0, '总胆汁酸': 0, '同型半胱氨酸': 0, '羟丁酸脱氢酶': 0}\n"
     ]
    }
   ],
   "source": [
    "dic = {}\n",
    "[dic.setdefault(name, 0) for name in test_names]\n",
    "print(dic)"
   ]
  },
  {
   "cell_type": "code",
   "execution_count": 105,
   "metadata": {},
   "outputs": [],
   "source": [
    "for i in range(len(test_names)-1):\n",
    "    test_result = result[result.find(test_names[i]):result.find(test_names[i+1])]\n",
    "    regex = re.compile(''.join([test_names[i], \"(\\D+)(\\d+.\\d+)\"]))\n",
    "    if regex.match(test_result):\n",
    "        dic[test_names[i]] = regex.match(test_result).groups()[1]"
   ]
  },
  {
   "cell_type": "code",
   "execution_count": 106,
   "metadata": {
    "collapsed": true
   },
   "outputs": [
    {
     "data": {
      "text/plain": [
       "{'乳酸脱氢酶': 0,\n",
       " '二氧化碳': '26.62',\n",
       " '低密度脂蛋白': '8 2',\n",
       " '同型半胱氨酸': 0,\n",
       " '尿素': '6.70',\n",
       " '尿酸': '301.00',\n",
       " '总胆固醇': '4.60',\n",
       " '总胆汁酸': '3.43',\n",
       " '总胆红素': '30.80',\n",
       " '总蛋白': '71.50',\n",
       " '氯': 0,\n",
       " '球蛋白': '29.50',\n",
       " '甘油三酯': 0,\n",
       " '白蛋白': '42.00',\n",
       " '直接胥红素': '7.90',\n",
       " '碱性磷酸酶': 0,\n",
       " '羟丁酸脱氢酶': 0,\n",
       " '肌酐': '107.50',\n",
       " '肌酸激酶': '91.30',\n",
       " '葡萄糖': '5.30',\n",
       " '谷丙转氨酶': '46.40',\n",
       " '谷氨酰氨基转移酶': 0,\n",
       " '谷草/谷丙': '0.35',\n",
       " '谷草转氨酶': 0,\n",
       " '载脂蛋白Al': 0,\n",
       " '载脂蛋白B': 0,\n",
       " '钙': 0,\n",
       " '钠': 0,\n",
       " '钾': 0,\n",
       " '间接胆红素': '22.90',\n",
       " '高密度脂蛋白': '1.60'}"
      ]
     },
     "execution_count": 106,
     "metadata": {},
     "output_type": "execute_result"
    }
   ],
   "source": [
    "dic"
   ]
  },
  {
   "cell_type": "code",
   "execution_count": 79,
   "metadata": {
    "scrolled": true
   },
   "outputs": [
    {
     "name": "stdout",
     "output_type": "stream",
     "text": [
      "7.90\n"
     ]
    }
   ],
   "source": [
    "text_直接胥红素 = text[text.find('直接胥红素'):text.find('锈')]\n",
    "regex = re.compile(''.join(['直接胥红素', '(\\D+)(\\d+.\\d+)']))\n",
    "print(regex.match(text_直接胥红素).groups()[1])"
   ]
  },
  {
   "cell_type": "code",
   "execution_count": null,
   "metadata": {},
   "outputs": [],
   "source": [
    "test_str = 'abc汉字123zhongwen‘'"
   ]
  }
 ],
 "metadata": {
  "kernelspec": {
   "display_name": "Python 3",
   "language": "python",
   "name": "python3"
  },
  "language_info": {
   "codemirror_mode": {
    "name": "ipython",
    "version": 3
   },
   "file_extension": ".py",
   "mimetype": "text/x-python",
   "name": "python",
   "nbconvert_exporter": "python",
   "pygments_lexer": "ipython3",
   "version": "3.6.8"
  }
 },
 "nbformat": 4,
 "nbformat_minor": 2
}
