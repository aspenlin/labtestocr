{
 "cells": [
  {
   "cell_type": "code",
   "execution_count": 1,
   "metadata": {},
   "outputs": [],
   "source": [
    "import re"
   ]
  },
  {
   "cell_type": "code",
   "execution_count": 2,
   "metadata": {},
   "outputs": [],
   "source": [
    "#read in tesseract result with whitelist.txt as configs\n",
    "with open('bloodtest19_border.txt', 'r') as f:\n",
    "    text = f.read()"
   ]
  },
  {
   "cell_type": "code",
   "execution_count": 3,
   "metadata": {},
   "outputs": [
    {
     "data": {
      "text/plain": [
       "'性     积    接目        标\\n\\n平21   沉巴激         谷\\n\\n1.性2.性\\n\\nNo-目                  绝        值     单\\n\\n1白细胞WBC        9.6    4-10    1079/L\\n\\n2红细胞RBC         4.93    3.5-5    10712/L             WBL\\n\\n3血红蛋白浓度HGB       148    110-160   g/L\\n\\n4红细胞压积HCT       0.459   0.35-0.55\\n\\n5红细胞平均体积MCVJ     93.1    82-95    fl\\n\\n6平均RBC血红蛋白量MCHD    30.0    27-31    pg\\n\\n7平均RBC血红蛋白浓度MCHC322    320-360   g/L\\n\\n8血小板PLT          155    100-300   1079/L\\n\\n9淋巴细胞绝对值LY       0.7    10.8-4     1079/L\\n\\n10中间细胞绝对值0MOHJ         0.8       0.12-0.80io                        FRBC\\n\\n11中性粒细胞绝对值GRHJ     8.1   f1.8-7    10734\\n\\n12RBC分布宽度标准差RDW-SD145.3        37-50       %\\n\\n13RBC分布宽度变异系数tRDWCV12.7    11.9-14.5%\\n\\n14血小板分布宽度PD      11.9   115.5-18.1%\\n\\n15平均血小板体积0MPV      9.6     9.4-12.固f1\\n\\n16大型血小板比率P-LCR     2572    13-43\\n\\n17淋巴细胞百分比CLY%         7.5      丁      量                            PLT\\n\\n18中间细胞百分比MO%      8.2    f3-8 0    素\\n\\n19中性粒细胞百分比CCR%J     7     二/L\\n\\n20C蛋白CRP        2   0      8\\n中钾对标丁度目均 2017-7-2124429核    核对磷\\ns    .     0\\ne   s                820Av2wy\\n\\x0c'"
      ]
     },
     "execution_count": 3,
     "metadata": {},
     "output_type": "execute_result"
    }
   ],
   "source": [
    "text"
   ]
  },
  {
   "cell_type": "code",
   "execution_count": 4,
   "metadata": {},
   "outputs": [],
   "source": [
    "#convert to a list\n",
    "text = text.split()"
   ]
  },
  {
   "cell_type": "code",
   "execution_count": 5,
   "metadata": {},
   "outputs": [],
   "source": [
    "test_names = ['白细胞','红细胞','中性粒细胞百分比','淋巴细胞百分比','中间细胞百分比','中性粒细胞绝对值',\n",
    "             '中间细胞绝对值','淋巴细胞绝对值','平均RBC血红蛋白浓度','红细胞压积','红细胞平均体积',\n",
    "             '平均RBC血红蛋白量','血红蛋白浓度','平均血小板体积','血小板','血小板分布宽度',\n",
    "             'RBC分布宽度标准差','RBC分布宽度变异系数','大型血小板比率','C反应蛋白']\n"
   ]
  },
  {
   "cell_type": "code",
   "execution_count": 6,
   "metadata": {},
   "outputs": [
    {
     "name": "stdout",
     "output_type": "stream",
     "text": [
      "{'白细胞': 0, '红细胞': 0, '中性粒细胞百分比': 0, '淋巴细胞百分比': 0, '中间细胞百分比': 0, '中性粒细胞绝对值': 0, '中间细胞绝对值': 0, '淋巴细胞绝对值': 0, '平均RBC血红蛋白浓度': 0, '红细胞压积': 0, '红细胞平均体积': 0, '平均RBC血红蛋白量': 0, '血红蛋白浓度': 0, '平均血小板体积': 0, '血小板': 0, '血小板分布宽度': 0, 'RBC分布宽度标准差': 0, 'RBC分布宽度变异系数': 0, '大型血小板比率': 0, 'C反应蛋白': 0}\n"
     ]
    }
   ],
   "source": [
    "#make a dict of test_names and set default value to 0\n",
    "dic_names = {}\n",
    "[dic_names.setdefault(name, 0) for name in test_names]\n",
    "print(dic_names)"
   ]
  },
  {
   "cell_type": "code",
   "execution_count": 7,
   "metadata": {},
   "outputs": [],
   "source": [
    "#map dict_names with not necessarily correct names from tesseract\n",
    "for i in range(len(test_names)):\n",
    "    found = False\n",
    "    max_count, index = 0, 0\n",
    "    for j in range(len(text)):\n",
    "        count = 0\n",
    "        if test_names[i] in text[j]:\n",
    "            dic_names[test_names[i]] = text[j]\n",
    "            found = True\n",
    "            break\n",
    "        else:\n",
    "            for c in test_names[i]:\n",
    "                if c in text[j]:\n",
    "                    count += 1\n",
    "            if count > max_count:\n",
    "                max_count, index = count, j\n",
    "    if not found:\n",
    "        dic_names[test_names[i]] = text[index]     "
   ]
  },
  {
   "cell_type": "code",
   "execution_count": 8,
   "metadata": {},
   "outputs": [
    {
     "data": {
      "text/plain": [
       "{'C反应蛋白': '6平均RBC血红蛋白量MCHD',\n",
       " 'RBC分布宽度变异系数': '13RBC分布宽度变异系数tRDWCV12.7',\n",
       " 'RBC分布宽度标准差': '12RBC分布宽度标准差RDW-SD145.3',\n",
       " '中性粒细胞百分比': '19中性粒细胞百分比CCR%J',\n",
       " '中性粒细胞绝对值': '11中性粒细胞绝对值GRHJ',\n",
       " '中间细胞百分比': '18中间细胞百分比MO%',\n",
       " '中间细胞绝对值': '10中间细胞绝对值0MOHJ',\n",
       " '大型血小板比率': '16大型血小板比率P-LCR',\n",
       " '平均RBC血红蛋白浓度': '7平均RBC血红蛋白浓度MCHC322',\n",
       " '平均RBC血红蛋白量': '6平均RBC血红蛋白量MCHD',\n",
       " '平均血小板体积': '15平均血小板体积0MPV',\n",
       " '淋巴细胞百分比': '17淋巴细胞百分比CLY%',\n",
       " '淋巴细胞绝对值': '9淋巴细胞绝对值LY',\n",
       " '白细胞': '1白细胞WBC',\n",
       " '红细胞': '2红细胞RBC',\n",
       " '红细胞压积': '4红细胞压积HCT',\n",
       " '红细胞平均体积': '5红细胞平均体积MCVJ',\n",
       " '血小板': '8血小板PLT',\n",
       " '血小板分布宽度': '14血小板分布宽度PD',\n",
       " '血红蛋白浓度': '3血红蛋白浓度HGB'}"
      ]
     },
     "execution_count": 8,
     "metadata": {},
     "output_type": "execute_result"
    }
   ],
   "source": [
    "dic_names"
   ]
  },
  {
   "cell_type": "code",
   "execution_count": 9,
   "metadata": {},
   "outputs": [],
   "source": [
    "#convert text (list) back to a string with space\n",
    "text_string = ' '.join(text)"
   ]
  },
  {
   "cell_type": "code",
   "execution_count": 10,
   "metadata": {},
   "outputs": [
    {
     "data": {
      "text/plain": [
       "'性 积 接目 标 平21 沉巴激 谷 1.性2.性 No-目 绝 值 单 1白细胞WBC 9.6 4-10 1079/L 2红细胞RBC 4.93 3.5-5 10712/L WBL 3血红蛋白浓度HGB 148 110-160 g/L 4红细胞压积HCT 0.459 0.35-0.55 5红细胞平均体积MCVJ 93.1 82-95 fl 6平均RBC血红蛋白量MCHD 30.0 27-31 pg 7平均RBC血红蛋白浓度MCHC322 320-360 g/L 8血小板PLT 155 100-300 1079/L 9淋巴细胞绝对值LY 0.7 10.8-4 1079/L 10中间细胞绝对值0MOHJ 0.8 0.12-0.80io FRBC 11中性粒细胞绝对值GRHJ 8.1 f1.8-7 10734 12RBC分布宽度标准差RDW-SD145.3 37-50 % 13RBC分布宽度变异系数tRDWCV12.7 11.9-14.5% 14血小板分布宽度PD 11.9 115.5-18.1% 15平均血小板体积0MPV 9.6 9.4-12.固f1 16大型血小板比率P-LCR 2572 13-43 17淋巴细胞百分比CLY% 7.5 丁 量 PLT 18中间细胞百分比MO% 8.2 f3-8 0 素 19中性粒细胞百分比CCR%J 7 二/L 20C蛋白CRP 2 0 8 中钾对标丁度目均 2017-7-2124429核 核对磷 s . 0 e s 820Av2wy'"
      ]
     },
     "execution_count": 10,
     "metadata": {},
     "output_type": "execute_result"
    }
   ],
   "source": [
    "text_string"
   ]
  },
  {
   "cell_type": "code",
   "execution_count": 11,
   "metadata": {},
   "outputs": [
    {
     "name": "stdout",
     "output_type": "stream",
     "text": [
      "{'白细胞': 0, '红细胞': 0, '中性粒细胞百分比': 0, '淋巴细胞百分比': 0, '中间细胞百分比': 0, '中性粒细胞绝对值': 0, '中间细胞绝对值': 0, '淋巴细胞绝对值': 0, '平均RBC血红蛋白浓度': 0, '红细胞压积': 0, '红细胞平均体积': 0, '平均RBC血红蛋白量': 0, '血红蛋白浓度': 0, '平均血小板体积': 0, '血小板': 0, '血小板分布宽度': 0, 'RBC分布宽度标准差': 0, 'RBC分布宽度变异系数': 0, '大型血小板比率': 0, 'C反应蛋白': 0}\n"
     ]
    }
   ],
   "source": [
    "#initialize a dict for values with test_names as keys\n",
    "dic_values = {}\n",
    "[dic_values.setdefault(name, 0) for name in test_names]\n",
    "print(dic_values)"
   ]
  },
  {
   "cell_type": "code",
   "execution_count": 15,
   "metadata": {},
   "outputs": [],
   "source": [
    "#find the values for test_names, here suppose the values are all float\n",
    "for k, v in dic_names.items():\n",
    "    value = re.findall('\\d+\\.?\\d{0,3}', text_string[text_string.find(re.findall(r'[\\u4e00-\\u9fff]+', v)[0]):text_string.find(re.findall(r'[\\u4e00-\\u9fff]+', v)[0])+30])\n",
    "    if value:\n",
    "        dic_values[k] = value[0]"
   ]
  },
  {
   "cell_type": "code",
   "execution_count": 16,
   "metadata": {},
   "outputs": [
    {
     "data": {
      "text/plain": [
       "{'C反应蛋白': '93.1',\n",
       " 'RBC分布宽度变异系数': '12.7',\n",
       " 'RBC分布宽度标准差': '145.3',\n",
       " '中性粒细胞百分比': '7',\n",
       " '中性粒细胞绝对值': '8.1',\n",
       " '中间细胞百分比': '8.2',\n",
       " '中间细胞绝对值': '0',\n",
       " '大型血小板比率': '2572',\n",
       " '平均RBC血红蛋白浓度': '93.1',\n",
       " '平均RBC血红蛋白量': '93.1',\n",
       " '平均血小板体积': '0',\n",
       " '淋巴细胞百分比': '7.5',\n",
       " '淋巴细胞绝对值': '0.7',\n",
       " '白细胞': '9.6',\n",
       " '红细胞': '4.93',\n",
       " '红细胞压积': '0.459',\n",
       " '红细胞平均体积': '93.1',\n",
       " '血小板': '155',\n",
       " '血小板分布宽度': '11.9',\n",
       " '血红蛋白浓度': '148'}"
      ]
     },
     "execution_count": 16,
     "metadata": {},
     "output_type": "execute_result"
    }
   ],
   "source": [
    "dic_values"
   ]
  },
  {
   "cell_type": "code",
   "execution_count": 14,
   "metadata": {},
   "outputs": [
    {
     "data": {
      "text/plain": [
       "0.7"
      ]
     },
     "execution_count": 14,
     "metadata": {},
     "output_type": "execute_result"
    }
   ],
   "source": [
    "14/len(test_names)"
   ]
  },
  {
   "cell_type": "code",
   "execution_count": null,
   "metadata": {},
   "outputs": [],
   "source": []
  }
 ],
 "metadata": {
  "kernelspec": {
   "display_name": "Python 3",
   "language": "python",
   "name": "python3"
  },
  "language_info": {
   "codemirror_mode": {
    "name": "ipython",
    "version": 3
   },
   "file_extension": ".py",
   "mimetype": "text/x-python",
   "name": "python",
   "nbconvert_exporter": "python",
   "pygments_lexer": "ipython3",
   "version": "3.6.8"
  }
 },
 "nbformat": 4,
 "nbformat_minor": 2
}
