{
 "cells": [
  {
   "cell_type": "code",
   "execution_count": 2,
   "metadata": {},
   "outputs": [],
   "source": [
    "import pandas as pd\n",
    "import re"
   ]
  },
  {
   "cell_type": "code",
   "execution_count": 76,
   "metadata": {},
   "outputs": [
    {
     "name": "stdout",
     "output_type": "stream",
     "text": [
      "/Users/jingjinglin/Machine_Learning/Siuvo2019SummerIntern/Tesseract-OCR/lab_test_result\n"
     ]
    }
   ],
   "source": [
    "import os\n",
    "print(os.getcwd())"
   ]
  },
  {
   "cell_type": "code",
   "execution_count": 169,
   "metadata": {},
   "outputs": [],
   "source": [
    "from fuzzywuzzy import fuzz\n",
    "from fuzzywuzzy import process"
   ]
  },
  {
   "cell_type": "code",
   "execution_count": 173,
   "metadata": {},
   "outputs": [
    {
     "data": {
      "text/plain": [
       "[('白', 90)]"
      ]
     },
     "execution_count": 173,
     "metadata": {},
     "output_type": "execute_result"
    }
   ],
   "source": [
    "choices = ['白','白细胞计']\n",
    "process.extract(\"白细胞\", choices, limit=1)"
   ]
  },
  {
   "cell_type": "code",
   "execution_count": 149,
   "metadata": {},
   "outputs": [],
   "source": [
    "with open('labtest1_whitelist_ubuntu.txt', 'r') as f:\n",
    "    text = f.read()"
   ]
  },
  {
   "cell_type": "code",
   "execution_count": 150,
   "metadata": {},
   "outputs": [],
   "source": [
    "text = text.split()"
   ]
  },
  {
   "cell_type": "code",
   "execution_count": 151,
   "metadata": {
    "collapsed": true
   },
   "outputs": [
    {
     "data": {
      "text/plain": [
       "['j化单Ws',\n",
       " '红性萄',\n",
       " '白',\n",
       " '移总',\n",
       " '积血',\n",
       " '1000027797',\n",
       " '性分',\n",
       " '性接密甘嗜g',\n",
       " '性',\n",
       " '2014081116.',\n",
       " '半31',\n",
       " '度度',\n",
       " '嗜g',\n",
       " '度',\n",
       " '接2014081209',\n",
       " '积',\n",
       " '嗜宽',\n",
       " '接直草',\n",
       " '间',\n",
       " '葡',\n",
       " '蛋直j',\n",
       " '积',\n",
       " '素宽',\n",
       " '绝',\n",
       " '间',\n",
       " '1TBIL总胆红素',\n",
       " '30.805.1019.00umol/',\n",
       " '2',\n",
       " '氯',\n",
       " '100.80',\n",
       " '96.00丁108.00mmoli',\n",
       " '2DBIL直接胆红素',\n",
       " '7.9007.00umol/L',\n",
       " '22C4',\n",
       " '2.45',\n",
       " '2.002.80m',\n",
       " '3BIL间接胆红素',\n",
       " '22.90015.00umol/L',\n",
       " '23C02二氧化碳',\n",
       " '26.6220.00',\n",
       " '4TP总蛋白',\n",
       " '71.5060.0082.00g/L',\n",
       " '24TG甘油三醇',\n",
       " '0.60',\n",
       " '0.',\n",
       " 'alh',\n",
       " '5ALB白蛋白',\n",
       " '42.0035.0055.00g/L',\n",
       " '25TCHO总胆固醇',\n",
       " '4.60',\n",
       " '氢',\n",
       " '二',\n",
       " '66',\n",
       " '球蛋白',\n",
       " '29.5020.0035.00g/L',\n",
       " '26HDLC密度脂蛋白',\n",
       " '1.60',\n",
       " '110out',\n",
       " '7A/G',\n",
       " '球比',\n",
       " '.42',\n",
       " '1s202.30',\n",
       " '27LDLC',\n",
       " '体度脂蛋白',\n",
       " '23',\n",
       " '2.70丁3.60mmoly.',\n",
       " '8ALT谷丙转氨酶',\n",
       " '46.40040.00U/L',\n",
       " '28APOA载脂蛋白Al',\n",
       " '1.20',\n",
       " '1.201.60g/L',\n",
       " '9AST谷草转氨酶',\n",
       " '16.10040.00U/L',\n",
       " '29APOB载脂蛋白8',\n",
       " '0.5810.801.05g/L',\n",
       " '10AST/ALT谷草/谷丙',\n",
       " '0.35',\n",
       " '30TBA总胆酸',\n",
       " '3.43',\n",
       " '015.00umol/L',\n",
       " '11ALP碱性磷酸酶',\n",
       " '54.3040.00150.00U/L31HCY同型半胱氨酸8.80',\n",
       " '010.00umol/L',\n",
       " '12GGT',\n",
       " '谷氨酰氨转移酶8.20',\n",
       " '050.00U/',\n",
       " '32HBDH',\n",
       " 'a丁酸氨酶',\n",
       " '99.60',\n",
       " '72.00丁182.00U/L',\n",
       " '13LDH乳酸氢酶',\n",
       " '131.80109.00245.00U/L',\n",
       " '14CK肌酸激酶',\n",
       " '91.3024.00195.00U/L',\n",
       " '15GLU葡萄糖',\n",
       " '5.30',\n",
       " '3.806.10mmolyL',\n",
       " 'r',\n",
       " '16CREA肌酰',\n",
       " '107.50',\n",
       " '40.00133.00umol/',\n",
       " '3',\n",
       " '17UA尿酸',\n",
       " '301.00142.00420.00umol/L',\n",
       " '18BUN尿素',\n",
       " '6.70',\n",
       " '2.808.20mmol/',\n",
       " '1丁',\n",
       " '钾',\n",
       " '4.40',\n",
       " '3.505.30mmol/',\n",
       " 'j',\n",
       " '20NA钠',\n",
       " '142.20136.00144.00mmol/L',\n",
       " 'i',\n",
       " '量直嗜',\n",
       " '蛋',\n",
       " '粒k酸蛋萄',\n",
       " '201408121116',\n",
       " '半',\n",
       " '核肌',\n",
       " 'ADVIA1800化分板对度计移素1']"
      ]
     },
     "execution_count": 151,
     "metadata": {},
     "output_type": "execute_result"
    }
   ],
   "source": [
    "text"
   ]
  },
  {
   "cell_type": "code",
   "execution_count": 129,
   "metadata": {},
   "outputs": [],
   "source": [
    "test_names = ['总胆红素','直接胥红素','间接胆红素','总蛋白','白蛋白','球蛋白','谷丙转氨酶','谷草转氨酶',\n",
    "             '谷草/谷丙','碱性磷酸酶','谷氨酰氨基转移酶','乳酸脱氢酶','肌酸激酶','葡萄糖','肌酐','尿酸',\n",
    "             '尿素','钾','钠','氯','钙','二氧化碳','甘油三酯','总胆固醇','高密度脂蛋白','低密度脂蛋白',\n",
    "             '载脂蛋白Al','载脂蛋白B','总胆汁酸','同型半胱氨酸','羟丁酸脱氢酶']"
   ]
  },
  {
   "cell_type": "code",
   "execution_count": 130,
   "metadata": {},
   "outputs": [
    {
     "name": "stdout",
     "output_type": "stream",
     "text": [
      "{'总胆红素': 0, '直接胥红素': 0, '间接胆红素': 0, '总蛋白': 0, '白蛋白': 0, '球蛋白': 0, '谷丙转氨酶': 0, '谷草转氨酶': 0, '谷草/谷丙': 0, '碱性磷酸酶': 0, '谷氨酰氨基转移酶': 0, '乳酸脱氢酶': 0, '肌酸激酶': 0, '葡萄糖': 0, '肌酐': 0, '尿酸': 0, '尿素': 0, '钾': 0, '钠': 0, '氯': 0, '钙': 0, '二氧化碳': 0, '甘油三酯': 0, '总胆固醇': 0, '高密度脂蛋白': 0, '低密度脂蛋白': 0, '载脂蛋白Al': 0, '载脂蛋白B': 0, '总胆汁酸': 0, '同型半胱氨酸': 0, '羟丁酸脱氢酶': 0}\n"
     ]
    }
   ],
   "source": [
    "dic = {}\n",
    "[dic.setdefault(name, 0) for name in test_names]\n",
    "print(dic)"
   ]
  },
  {
   "cell_type": "code",
   "execution_count": 145,
   "metadata": {},
   "outputs": [],
   "source": [
    "for i in range(len(test_names)):\n",
    "    found = False\n",
    "    max_count, index = 0, 0\n",
    "    for j in range(len(text)):\n",
    "        count = 0\n",
    "        if test_names[i] in text[j]:\n",
    "            dic[test_names[i]] = text[j]\n",
    "            found = True\n",
    "            break\n",
    "        else:\n",
    "            for c in test_names[i]:\n",
    "                if c in text[j]:\n",
    "                    count += 1\n",
    "            if count > max_count:\n",
    "                max_count, index = count, j\n",
    "    if not found:\n",
    "        dic[test_names[i]] = text[index]"
   ]
  },
  {
   "cell_type": "code",
   "execution_count": 146,
   "metadata": {
    "collapsed": true
   },
   "outputs": [
    {
     "data": {
      "text/plain": [
       "{'乳酸脱氢酶': '13LDH乳酸氢酶',\n",
       " '二氧化碳': '23C02二氧化碳',\n",
       " '低密度脂蛋白': '26HDLC密度脂蛋白',\n",
       " '同型半胱氨酸': '54.3040.00150.00U/L31HCY同型半胱氨酸8.80',\n",
       " '尿素': '18BUN尿素',\n",
       " '尿酸': '17UA尿酸',\n",
       " '总胆固醇': '25TCHO总胆固醇',\n",
       " '总胆汁酸': '30TBA总胆酸',\n",
       " '总胆红素': '1TBIL总胆红素',\n",
       " '总蛋白': '4TP总蛋白',\n",
       " '氯': '氯',\n",
       " '球蛋白': '球蛋白',\n",
       " '甘油三酯': '24TG甘油三醇',\n",
       " '白蛋白': '5ALB白蛋白',\n",
       " '直接胥红素': '2DBIL直接胆红素',\n",
       " '碱性磷酸酶': '11ALP碱性磷酸酶',\n",
       " '羟丁酸脱氢酶': 'a丁酸氨酶',\n",
       " '肌酐': '14CK肌酸激酶',\n",
       " '肌酸激酶': '14CK肌酸激酶',\n",
       " '葡萄糖': '15GLU葡萄糖',\n",
       " '谷丙转氨酶': '8ALT谷丙转氨酶',\n",
       " '谷氨酰氨基转移酶': '谷氨酰氨转移酶8.20',\n",
       " '谷草/谷丙': '10AST/ALT谷草/谷丙',\n",
       " '谷草转氨酶': '9AST谷草转氨酶',\n",
       " '载脂蛋白Al': '28APOA载脂蛋白Al',\n",
       " '载脂蛋白B': '29APOB载脂蛋白8',\n",
       " '钙': 'j化单Ws',\n",
       " '钠': '20NA钠',\n",
       " '钾': '钾',\n",
       " '间接胆红素': '3BIL间接胆红素',\n",
       " '高密度脂蛋白': '26HDLC密度脂蛋白'}"
      ]
     },
     "execution_count": 146,
     "metadata": {},
     "output_type": "execute_result"
    }
   ],
   "source": [
    "dic"
   ]
  },
  {
   "cell_type": "code",
   "execution_count": 152,
   "metadata": {},
   "outputs": [],
   "source": [
    "text = ' '.join(text)"
   ]
  },
  {
   "cell_type": "code",
   "execution_count": 157,
   "metadata": {
    "collapsed": true
   },
   "outputs": [
    {
     "data": {
      "text/plain": [
       "['1TBIL总胆红素',\n",
       " '2DBIL直接胆红素',\n",
       " '3BIL间接胆红素',\n",
       " '4TP总蛋白',\n",
       " '5ALB白蛋白',\n",
       " '球蛋白',\n",
       " '8ALT谷丙转氨酶',\n",
       " '9AST谷草转氨酶',\n",
       " '10AST/ALT谷草/谷丙',\n",
       " '11ALP碱性磷酸酶',\n",
       " '谷氨酰氨转移酶8.20',\n",
       " '13LDH乳酸氢酶',\n",
       " '14CK肌酸激酶',\n",
       " '15GLU葡萄糖',\n",
       " '14CK肌酸激酶',\n",
       " '17UA尿酸',\n",
       " '18BUN尿素',\n",
       " '钾',\n",
       " '20NA钠',\n",
       " '氯',\n",
       " 'j化单Ws',\n",
       " '23C02二氧化碳',\n",
       " '24TG甘油三醇',\n",
       " '25TCHO总胆固醇',\n",
       " '26HDLC密度脂蛋白',\n",
       " '26HDLC密度脂蛋白',\n",
       " '28APOA载脂蛋白Al',\n",
       " '29APOB载脂蛋白8',\n",
       " '30TBA总胆酸',\n",
       " '54.3040.00150.00U/L31HCY同型半胱氨酸8.80',\n",
       " 'a丁酸氨酶']"
      ]
     },
     "execution_count": 157,
     "metadata": {},
     "output_type": "execute_result"
    }
   ],
   "source": [
    "list(dic.values())"
   ]
  },
  {
   "cell_type": "code",
   "execution_count": 153,
   "metadata": {
    "scrolled": false
   },
   "outputs": [
    {
     "data": {
      "text/plain": [
       "'j化单Ws 红性萄 白 移总 积血 1000027797 性分 性接密甘嗜g 性 2014081116. 半31 度度 嗜g 度 接2014081209 积 嗜宽 接直草 间 葡 蛋直j 积 素宽 绝 间 1TBIL总胆红素 30.805.1019.00umol/ 2 氯 100.80 96.00丁108.00mmoli 2DBIL直接胆红素 7.9007.00umol/L 22C4 2.45 2.002.80m 3BIL间接胆红素 22.90015.00umol/L 23C02二氧化碳 26.6220.00 4TP总蛋白 71.5060.0082.00g/L 24TG甘油三醇 0.60 0. alh 5ALB白蛋白 42.0035.0055.00g/L 25TCHO总胆固醇 4.60 氢 二 66 球蛋白 29.5020.0035.00g/L 26HDLC密度脂蛋白 1.60 110out 7A/G 球比 .42 1s202.30 27LDLC 体度脂蛋白 23 2.70丁3.60mmoly. 8ALT谷丙转氨酶 46.40040.00U/L 28APOA载脂蛋白Al 1.20 1.201.60g/L 9AST谷草转氨酶 16.10040.00U/L 29APOB载脂蛋白8 0.5810.801.05g/L 10AST/ALT谷草/谷丙 0.35 30TBA总胆酸 3.43 015.00umol/L 11ALP碱性磷酸酶 54.3040.00150.00U/L31HCY同型半胱氨酸8.80 010.00umol/L 12GGT 谷氨酰氨转移酶8.20 050.00U/ 32HBDH a丁酸氨酶 99.60 72.00丁182.00U/L 13LDH乳酸氢酶 131.80109.00245.00U/L 14CK肌酸激酶 91.3024.00195.00U/L 15GLU葡萄糖 5.30 3.806.10mmolyL r 16CREA肌酰 107.50 40.00133.00umol/ 3 17UA尿酸 301.00142.00420.00umol/L 18BUN尿素 6.70 2.808.20mmol/ 1丁 钾 4.40 3.505.30mmol/ j 20NA钠 142.20136.00144.00mmol/L i 量直嗜 蛋 粒k酸蛋萄 201408121116 半 核肌 ADVIA1800化分板对度计移素1'"
      ]
     },
     "execution_count": 153,
     "metadata": {},
     "output_type": "execute_result"
    }
   ],
   "source": [
    "text"
   ]
  },
  {
   "cell_type": "code",
   "execution_count": 161,
   "metadata": {
    "scrolled": true
   },
   "outputs": [
    {
     "name": "stdout",
     "output_type": "stream",
     "text": [
      "{'总胆红素': 0, '直接胥红素': 0, '间接胆红素': 0, '总蛋白': 0, '白蛋白': 0, '球蛋白': 0, '谷丙转氨酶': 0, '谷草转氨酶': 0, '谷草/谷丙': 0, '碱性磷酸酶': 0, '谷氨酰氨基转移酶': 0, '乳酸脱氢酶': 0, '肌酸激酶': 0, '葡萄糖': 0, '肌酐': 0, '尿酸': 0, '尿素': 0, '钾': 0, '钠': 0, '氯': 0, '钙': 0, '二氧化碳': 0, '甘油三酯': 0, '总胆固醇': 0, '高密度脂蛋白': 0, '低密度脂蛋白': 0, '载脂蛋白Al': 0, '载脂蛋白B': 0, '总胆汁酸': 0, '同型半胱氨酸': 0, '羟丁酸脱氢酶': 0}\n"
     ]
    }
   ],
   "source": [
    "dic2 = {}\n",
    "[dic2.setdefault(name, 0) for name in test_names]\n",
    "print(dic2)"
   ]
  },
  {
   "cell_type": "code",
   "execution_count": 163,
   "metadata": {
    "collapsed": true
   },
   "outputs": [
    {
     "data": {
      "text/plain": [
       "'j化单Ws 红性萄 白 移总 积血 1000027797 性分 性接密甘嗜g 性 2014081116. 半31 度度 嗜g 度 接2014081209 积 嗜宽 接直草 间 葡 蛋直j 积 素宽 绝 间 1TBIL总胆红素 30.805.1019.00umol/ 2 氯 100.80 96.00丁108.00mmoli 2DBIL直接胆红素 7.9007.00umol/L 22C4 2.45 2.002.80m 3BIL间接胆红素 22.90015.00umol/L 23C02二氧化碳 26.6220.00 4TP总蛋白 71.5060.0082.00g/L 24TG甘油三醇 0.60 0. alh 5ALB白蛋白 42.0035.0055.00g/L 25TCHO总胆固醇 4.60 氢 二 66 球蛋白 29.5020.0035.00g/L 26HDLC密度脂蛋白 1.60 110out 7A/G 球比 .42 1s202.30 27LDLC 体度脂蛋白 23 2.70丁3.60mmoly. 8ALT谷丙转氨酶 46.40040.00U/L 28APOA载脂蛋白Al 1.20 1.201.60g/L 9AST谷草转氨酶 16.10040.00U/L 29APOB载脂蛋白8 0.5810.801.05g/L 10AST/ALT谷草/谷丙 0.35 30TBA总胆酸 3.43 015.00umol/L 11ALP碱性磷酸酶 54.3040.00150.00U/L31HCY同型半胱氨酸8.80 010.00umol/L 12GGT 谷氨酰氨转移酶8.20 050.00U/ 32HBDH a丁酸氨酶 99.60 72.00丁182.00U/L 13LDH乳酸氢酶 131.80109.00245.00U/L 14CK肌酸激酶 91.3024.00195.00U/L 15GLU葡萄糖 5.30 3.806.10mmolyL r 16CREA肌酰 107.50 40.00133.00umol/ 3 17UA尿酸 301.00142.00420.00umol/L 18BUN尿素 6.70 2.808.20mmol/ 1丁 钾 4.40 3.505.30mmol/ j 20NA钠 142.20136.00144.00mmol/L i 量直嗜 蛋 粒k酸蛋萄 201408121116 半 核肌 ADVIA1800化分板对度计移素1'"
      ]
     },
     "execution_count": 163,
     "metadata": {},
     "output_type": "execute_result"
    }
   ],
   "source": [
    "text"
   ]
  },
  {
   "cell_type": "code",
   "execution_count": 167,
   "metadata": {},
   "outputs": [],
   "source": [
    "for k, v in dic.items():\n",
    "    value = re.findall('\\d+\\.\\s?\\d+', text[text.find(v):text.find(v)+20])\n",
    "    if value:\n",
    "        dic2[k] = value[0]"
   ]
  },
  {
   "cell_type": "code",
   "execution_count": 168,
   "metadata": {
    "collapsed": true
   },
   "outputs": [
    {
     "data": {
      "text/plain": [
       "{'乳酸脱氢酶': '131.80109',\n",
       " '二氧化碳': '26.6220',\n",
       " '低密度脂蛋白': '1.60',\n",
       " '同型半胱氨酸': '54.3040',\n",
       " '尿素': '6.70',\n",
       " '尿酸': '301.00142',\n",
       " '总胆固醇': '4.60',\n",
       " '总胆汁酸': '3.43',\n",
       " '总胆红素': '30.805',\n",
       " '总蛋白': '71.5060',\n",
       " '氯': '100.80',\n",
       " '球蛋白': '29.5020',\n",
       " '甘油三酯': '0.60',\n",
       " '白蛋白': '42.0035',\n",
       " '直接胥红素': '7.9007',\n",
       " '碱性磷酸酶': '54.3040',\n",
       " '羟丁酸脱氢酶': '99.60',\n",
       " '肌酐': '91.3024',\n",
       " '肌酸激酶': '91.3024',\n",
       " '葡萄糖': '5.30',\n",
       " '谷丙转氨酶': '46.40040',\n",
       " '谷氨酰氨基转移酶': '8.20',\n",
       " '谷草/谷丙': '0.35',\n",
       " '谷草转氨酶': '16.10040',\n",
       " '载脂蛋白Al': '1.20',\n",
       " '载脂蛋白B': '0.5810',\n",
       " '钙': 0,\n",
       " '钠': '142.20136',\n",
       " '钾': '4.40',\n",
       " '间接胆红素': '22.90015',\n",
       " '高密度脂蛋白': '1.60'}"
      ]
     },
     "execution_count": 168,
     "metadata": {},
     "output_type": "execute_result"
    }
   ],
   "source": [
    "dic2"
   ]
  },
  {
   "cell_type": "code",
   "execution_count": null,
   "metadata": {},
   "outputs": [],
   "source": [
    "for i in range(len(test_names)):\n",
    "    test_result = result[result.find(test_names[i]):result.find(test_names[i]+20)]\n",
    "    regex = re.compile(''.join([test_names[i], \"(\\D+)(\\d+.\\d+)\"]))\n",
    "    if regex.match(test_result):\n",
    "        dic[test_names[i]] = regex.match(test_result).groups()[1]"
   ]
  },
  {
   "cell_type": "code",
   "execution_count": 105,
   "metadata": {},
   "outputs": [],
   "source": [
    "for i in range(len(test_names)-1):\n",
    "    test_result = result[result.find(test_names[i]):result.find(test_names[i+1])]\n",
    "    regex = re.compile(''.join([test_names[i], \"(\\D+)(\\d+.\\d+)\"]))\n",
    "    if regex.match(test_result):\n",
    "        dic[test_names[i]] = regex.match(test_result).groups()[1]"
   ]
  },
  {
   "cell_type": "code",
   "execution_count": 106,
   "metadata": {
    "collapsed": true
   },
   "outputs": [
    {
     "data": {
      "text/plain": [
       "{'乳酸脱氢酶': 0,\n",
       " '二氧化碳': '26.62',\n",
       " '低密度脂蛋白': '8 2',\n",
       " '同型半胱氨酸': 0,\n",
       " '尿素': '6.70',\n",
       " '尿酸': '301.00',\n",
       " '总胆固醇': '4.60',\n",
       " '总胆汁酸': '3.43',\n",
       " '总胆红素': '30.80',\n",
       " '总蛋白': '71.50',\n",
       " '氯': 0,\n",
       " '球蛋白': '29.50',\n",
       " '甘油三酯': 0,\n",
       " '白蛋白': '42.00',\n",
       " '直接胥红素': '7.90',\n",
       " '碱性磷酸酶': 0,\n",
       " '羟丁酸脱氢酶': 0,\n",
       " '肌酐': '107.50',\n",
       " '肌酸激酶': '91.30',\n",
       " '葡萄糖': '5.30',\n",
       " '谷丙转氨酶': '46.40',\n",
       " '谷氨酰氨基转移酶': 0,\n",
       " '谷草/谷丙': '0.35',\n",
       " '谷草转氨酶': 0,\n",
       " '载脂蛋白Al': 0,\n",
       " '载脂蛋白B': 0,\n",
       " '钙': 0,\n",
       " '钠': 0,\n",
       " '钾': 0,\n",
       " '间接胆红素': '22.90',\n",
       " '高密度脂蛋白': '1.60'}"
      ]
     },
     "execution_count": 106,
     "metadata": {},
     "output_type": "execute_result"
    }
   ],
   "source": [
    "dic"
   ]
  },
  {
   "cell_type": "code",
   "execution_count": 79,
   "metadata": {
    "scrolled": true
   },
   "outputs": [
    {
     "name": "stdout",
     "output_type": "stream",
     "text": [
      "7.90\n"
     ]
    }
   ],
   "source": [
    "text_直接胥红素 = text[text.find('直接胥红素'):text.find('锈')]\n",
    "regex = re.compile(''.join(['直接胥红素', '(\\D+)(\\d+.\\d+)']))\n",
    "print(regex.match(text_直接胥红素).groups()[1])"
   ]
  },
  {
   "cell_type": "code",
   "execution_count": 13,
   "metadata": {},
   "outputs": [],
   "source": [
    "test_str = 'abc \" 汉字123中文'"
   ]
  },
  {
   "cell_type": "code",
   "execution_count": 14,
   "metadata": {},
   "outputs": [
    {
     "name": "stdout",
     "output_type": "stream",
     "text": [
      "('abc', ' \" 汉字', '123', '中文')\n"
     ]
    }
   ],
   "source": [
    "regex = re.compile(''.join(['(abc+)', '(\\D+)','(\\d+)','(\\D+)']))\n",
    "print(regex.match(test_str).groups())"
   ]
  },
  {
   "cell_type": "code",
   "execution_count": 52,
   "metadata": {},
   "outputs": [],
   "source": [
    "with open('bloodtest_psm6.txt', 'r') as f:\n",
    "    bloodtest1 = f.read()"
   ]
  },
  {
   "cell_type": "code",
   "execution_count": 53,
   "metadata": {
    "collapsed": true
   },
   "outputs": [
    {
     "data": {
      "text/plain": [
       "'3     、                  〖                              1才月伟伟宏y 中史3友\\n上海交通大学医学院附属新华医院检验科报告单 013446116500 门诊\\n姓 名: 高语翔    病 员 号: 75588961    林      样札编号: 20190528G0103113\\n性。 刘男      科 别: “儿内科     采样日期: 2019-05-28   临床诊断; 急性上呼吸道感染,腹;\\n绍怀坂吴口沥        吊            送检医生: 吕患英       父 注:\\nNo 项     一    结林     参考值  单位   No 项     目   结果     参考值   单病\\n1 CRP          〈8      “8     mg/上   13 红细胞计数     4. 43     城吊    圭扬州\\n2 白细胞计数      5. 26     4-10     1079/L ‖ 14 血红蛋白       120      120-160 g/L\\n3 中性粒细胞%     53.4     50-70    %    15 红细胞序积     3纳5沥 85    %\\n4 淋巴绍胞%      32.90    20-40    明    16 平均约细胞体积 “77.9 1 82-95    吴\\n5 单核细胞%     0300 f      观     17 平均血红蛎白量 , 27.1     27-31    pg\\n6 暖酸粒细胞%      1.50     0. 5-5    %     18 平均血红蛋白浇度 348      320-360 ˇ g/L\\n7 暖碱粒细胞%    0. 20    0-1    %    19 红细胞分布宽度 13.7    0-15:4 %\\n8 中怖粒细胞绝对值 2. 81     玟沥6吊        20 血小板计数     233.00    100-300 1079儿\\n9 单核细胞绝对值   0.63    0-0.7        21 血小板压稀    0.24    0.1-0.27 %\\n10 淋巴细胞绝对值     78       1. 2-3.4           22 平均血小板体积 10. 40      E\\nLL 暧酸粒细胞绝对值 “0. 08     0-0.7    10 9/L ‖ 23 血小板分布宽度 10.6     9-17    玲\\n12 暧碱粒细胞绝对值 0. 01    0\\n检验日期; 2019-05-28      报告月期: 2019-05 -28 10:35      检验者; 张敏华     ,审核者; 费海霾 , ,\\n注:此拳验报告仁本次招本负资.仁供临床参考                  刑“ 0 0\\n,\\n\\x0c'"
      ]
     },
     "execution_count": 53,
     "metadata": {},
     "output_type": "execute_result"
    }
   ],
   "source": [
    "bloodtest1"
   ]
  },
  {
   "cell_type": "code",
   "execution_count": 54,
   "metadata": {},
   "outputs": [],
   "source": [
    "bloodtest_names = ['CRP','白细胞','中性粒细胞','巴细胞','单核细胞','酸粒细胞','碱粒细胞','中性粒细胞绝',\n",
    "             '单核细胞绝','巴细胞绝对值','酸粒细胞绝','碱粒细胞绝','红细胞计数','血红蛋白','红细胞积压','平均红细胞体积',\n",
    "             '平均血红','平均血红','红细胞分','小板计','小板压','平均血小','小板分']"
   ]
  },
  {
   "cell_type": "code",
   "execution_count": 55,
   "metadata": {},
   "outputs": [
    {
     "name": "stdout",
     "output_type": "stream",
     "text": [
      "{'CRP': 0, '白细胞': 0, '中性粒细胞': 0, '巴细胞': 0, '单核细胞': 0, '酸粒细胞': 0, '碱粒细胞': 0, '中性粒细胞绝': 0, '单核细胞绝': 0, '巴细胞绝对值': 0, '酸粒细胞绝': 0, '碱粒细胞绝': 0, '红细胞计数': 0, '血红蛋白': 0, '红细胞积压': 0, '平均红细胞体积': 0, '平均血红': 0, '红细胞分': 0, '小板计': 0, '小板压': 0, '平均血小': 0, '小板分': 0}\n"
     ]
    }
   ],
   "source": [
    "dic_bloodtest = {}\n",
    "[dic_bloodtest.setdefault(name, 0) for name in bloodtest_names]\n",
    "print(dic_bloodtest)"
   ]
  },
  {
   "cell_type": "code",
   "execution_count": 56,
   "metadata": {
    "collapsed": true
   },
   "outputs": [
    {
     "name": "stdout",
     "output_type": "stream",
     "text": [
      "('计数      ', '5. 26')\n",
      "('%     ', '53.4')\n",
      "('%     ', '0300')\n",
      "('%      ', '1.50')\n",
      "('%    ', '0. 20')\n",
      "('对值   ', '0.63')\n",
      "('对值 “', '0. 08')\n",
      "('     ', '4. 43')\n",
      "('       ', '120')\n",
      "('蛎白量 , ', '27.1')\n",
      "('布宽度 ', '13.7')\n",
      "('数     ', '233.00')\n",
      "('稀    ', '0.24')\n",
      "('板体积 ', '10. 40')\n"
     ]
    }
   ],
   "source": [
    "for i in range(len(bloodtest_names)-1):\n",
    "    test_result = bloodtest1[bloodtest1.find(bloodtest_names[i]):bloodtest1.find(bloodtest_names[i+1])]\n",
    "    regex = re.compile(''.join([bloodtest_names[i], \"(\\D+)(\\d+.\\s?\\d+)\"]))\n",
    "    if regex.match(test_result):\n",
    "#         print(regex.match(test_result).groups())\n",
    "        dic_bloodtest[bloodtest_names[i]] = regex.match(test_result).groups()[1]"
   ]
  },
  {
   "cell_type": "code",
   "execution_count": 57,
   "metadata": {
    "collapsed": true
   },
   "outputs": [
    {
     "data": {
      "text/plain": [
       "{'CRP': 0,\n",
       " '中性粒细胞': '53.4',\n",
       " '中性粒细胞绝': 0,\n",
       " '单核细胞': '0300',\n",
       " '单核细胞绝': '0.63',\n",
       " '小板分': 0,\n",
       " '小板压': '0.24',\n",
       " '小板计': '233.00',\n",
       " '巴细胞': 0,\n",
       " '巴细胞绝对值': 0,\n",
       " '平均红细胞体积': 0,\n",
       " '平均血小': '10. 40',\n",
       " '平均血红': '27.1',\n",
       " '白细胞': '5. 26',\n",
       " '碱粒细胞': '0. 20',\n",
       " '碱粒细胞绝': 0,\n",
       " '红细胞分': '13.7',\n",
       " '红细胞积压': 0,\n",
       " '红细胞计数': '4. 43',\n",
       " '血红蛋白': '120',\n",
       " '酸粒细胞': '1.50',\n",
       " '酸粒细胞绝': '0. 08'}"
      ]
     },
     "execution_count": 57,
     "metadata": {},
     "output_type": "execute_result"
    }
   ],
   "source": [
    "dic_bloodtest"
   ]
  },
  {
   "cell_type": "code",
   "execution_count": 66,
   "metadata": {},
   "outputs": [
    {
     "data": {
      "text/plain": [
       "0.5909090909090909"
      ]
     },
     "execution_count": 66,
     "metadata": {},
     "output_type": "execute_result"
    }
   ],
   "source": [
    "13/len(dic_bloodtest)"
   ]
  },
  {
   "cell_type": "code",
   "execution_count": 58,
   "metadata": {},
   "outputs": [],
   "source": [
    "with open('bloodtest2_psm6.txt', 'r') as f:\n",
    "    bloodtest2 = f.read()"
   ]
  },
  {
   "cell_type": "code",
   "execution_count": 67,
   "metadata": {},
   "outputs": [],
   "source": [
    "#order matters\n",
    "bloodtest2_names = ['粉','反应','支原体','白细胞','巴细胞%','核细胞%','中性粒细胞%','中性粒细胞%','酸性粒细胞%','碱性粒细胞%',\n",
    "                    '巴细胞#','核细胞#','中性粒细胞#','酸性粒细胞#','碱性粒细胞#','红细胞计','血红','比容','细胞体积','含量',\n",
    "                     '浓度','细胞体积分布','小板计','小板体积','小板体积分布']"
   ]
  },
  {
   "cell_type": "code",
   "execution_count": 68,
   "metadata": {},
   "outputs": [
    {
     "name": "stdout",
     "output_type": "stream",
     "text": [
      "{'粉': 0, '反应': 0, '支原体': 0, '白细胞': 0, '巴细胞%': 0, '核细胞%': 0, '中性粒细胞%': 0, '酸性粒细胞%': 0, '碱性粒细胞%': 0, '巴细胞#': 0, '核细胞#': 0, '中性粒细胞#': 0, '酸性粒细胞#': 0, '碱性粒细胞#': 0, '红细胞计': 0, '血红': 0, '比容': 0, '细胞体积': 0, '含量': 0, '浓度': 0, '细胞体积分布': 0, '小板计': 0, '小板体积': 0, '小板体积分布': 0}\n"
     ]
    }
   ],
   "source": [
    "dic_bloodtest2 = {}\n",
    "[dic_bloodtest2.setdefault(name, 0) for name in bloodtest2_names]\n",
    "print(dic_bloodtest2)"
   ]
  },
  {
   "cell_type": "code",
   "execution_count": 72,
   "metadata": {},
   "outputs": [],
   "source": [
    "for i in range(len(bloodtest2_names)-1):\n",
    "    test_result = bloodtest2[bloodtest2.find(bloodtest2_names[i]):bloodtest2.find(bloodtest2_names[i+1])]\n",
    "    regex = re.compile(''.join([bloodtest2_names[i], \"(\\D*)(\\d+.\\s?\\d+)\"]))\n",
    "    if regex.match(test_result):\n",
    "#         print(regex.match(test_result).groups())\n",
    "        dic_bloodtest2[bloodtest2_names[i]] = regex.match(test_result).groups()[1]"
   ]
  },
  {
   "cell_type": "code",
   "execution_count": 73,
   "metadata": {},
   "outputs": [
    {
     "data": {
      "text/plain": [
       "{'中性粒细胞#': '1. 58',\n",
       " '中性粒细胞%': '39.5',\n",
       " '反应': 0,\n",
       " '含量': '27. 4',\n",
       " '小板体积': '10. 4',\n",
       " '小板体积分布': 0,\n",
       " '小板计': '187',\n",
       " '巴细胞#': '2.08',\n",
       " '巴细胞%': '52.0',\n",
       " '支原体': 0,\n",
       " '核细胞#': '0.30',\n",
       " '核细胞%': 0,\n",
       " '比容': '35.9',\n",
       " '浓度': '329',\n",
       " '白细胞': '4 00',\n",
       " '碱性粒细胞#': 0,\n",
       " '碱性粒细胞%': '0.0',\n",
       " '粉': 0,\n",
       " '红细胞计': '3 7',\n",
       " '细胞体积': 0,\n",
       " '细胞体积分布': 0,\n",
       " '血红': 0,\n",
       " '酸性粒细胞#': 0,\n",
       " '酸性粒细胞%': 0}"
      ]
     },
     "execution_count": 73,
     "metadata": {},
     "output_type": "execute_result"
    }
   ],
   "source": [
    "dic_bloodtest2"
   ]
  },
  {
   "cell_type": "code",
   "execution_count": 74,
   "metadata": {},
   "outputs": [
    {
     "data": {
      "text/plain": [
       "0.4583333333333333"
      ]
     },
     "execution_count": 74,
     "metadata": {},
     "output_type": "execute_result"
    }
   ],
   "source": [
    "11/len(dic_bloodtest2)"
   ]
  },
  {
   "cell_type": "code",
   "execution_count": null,
   "metadata": {},
   "outputs": [],
   "source": []
  }
 ],
 "metadata": {
  "kernelspec": {
   "display_name": "Python 3",
   "language": "python",
   "name": "python3"
  },
  "language_info": {
   "codemirror_mode": {
    "name": "ipython",
    "version": 3
   },
   "file_extension": ".py",
   "mimetype": "text/x-python",
   "name": "python",
   "nbconvert_exporter": "python",
   "pygments_lexer": "ipython3",
   "version": "3.6.8"
  }
 },
 "nbformat": 4,
 "nbformat_minor": 2
}
