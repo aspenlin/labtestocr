{
 "cells": [
  {
   "cell_type": "code",
   "execution_count": 202,
   "metadata": {},
   "outputs": [],
   "source": [
    "import re"
   ]
  },
  {
   "cell_type": "code",
   "execution_count": 203,
   "metadata": {},
   "outputs": [],
   "source": [
    "from fuzzywuzzy import fuzz\n",
    "from fuzzywuzzy import process"
   ]
  },
  {
   "cell_type": "code",
   "execution_count": 204,
   "metadata": {},
   "outputs": [],
   "source": [
    "with open('urine17.txt', 'r') as f:\n",
    "    text = f.read()"
   ]
  },
  {
   "cell_type": "code",
   "execution_count": 143,
   "metadata": {
    "collapsed": true
   },
   "outputs": [
    {
     "data": {
      "text/plain": [
       "'.   度\\n\\n项目\\n检浑检浑量分析一 F微镜镜检\\n路 肌\\n\\n检项目               结果单位参考区间/值检项目              结果单位   参考区间/值\\n胆红素(BIL)             阴性(-)              阴性病理管型               0.4/ul          0-0.5\\n酮体(KET)             阴性(-)             阴性结晶                0.7一Aul          0-10\\n比重(S6)               1.022       1.003-1.030细菌              204.3/ul     0.0-1000.0\\n尿糖(GLU)         阴性(-)         阴性每高倍视野细菌数     2.0105/ml\\n尿潜血(BLD)           阴性(-)             阴性酵母             0.0Aul         0-0.1\\n蛋白质(PRO)            阴性(-)             阴性粘液                0.7一/ul\\n尿胆原(UBG)                  正常                阴性                     0.0Aul\\npH值(PH)               6.0         4.5-8.0电导率             28.1mS/cm\\n\\n亚硝酸盐(NIT)       阴性(-)         阴性电导信息         4级\\n\\n尿白细胞(LEU)           阴性()              阴性镜检红细胞(RBC)         0-2/HP           0-3\\n颜色                       黄色                     镜检白细胞                t+/HNP             0-5\\n清晰度                            清晰                          镜检鳞状上皮细胞             P\\n\\n红细                38/ul         0-26镜检柱状上皮细胞     未检/HP\\n\\n每高视野红细胞数      6.3/HPF        镜检透明管型      未检比/LP\\n\\n红细胞信息          其           镜检粒状管型      检虫/LP\\n\\n白细                 33.1    /ul          0-26镜检红细胞管型       检/UP\\n\\n每高倍视野白细胞数      6.0/HPF        镜检白细胞管型    未检/tP\\n\\n尿路感染信息      尿路感染?           镜检非晶型尿酸盐   未检/HP\\n\\n度细胞                 11.5Xul         0-20镜检草酸钙结晶       未检/HP\\n\\n每高倍视野上皮细胞数            2.1AHPF                  镜检尿酸盐结晶          未检虫/HP\\n\\n小圆上皮细胞                   3.7一/ul\\n透明管型                                    1.3Aul                 0-2.5\\n每低倍视野透明管型数     3.XLPF\\n\\x0c'"
      ]
     },
     "execution_count": 143,
     "metadata": {},
     "output_type": "execute_result"
    }
   ],
   "source": [
    "text"
   ]
  },
  {
   "cell_type": "code",
   "execution_count": 239,
   "metadata": {},
   "outputs": [],
   "source": [
    "urine_dict = {}\n",
    "urine_dict['尿胆原'] = ['尿胆原','尿胆原\\(URO\\)','尿胆原\\(UBG\\)','尿胆原\\s*URO']\n",
    "urine_dict['胆红素'] = ['胆红素','尿胆红素','胆红素\\(BIL\\)','胆红素\\s*BIL']\n",
    "urine_dict['酮体'] = ['酮体','尿酮体','酮体 \\(KET\\)','酮 体','酮体\\(KET\\)','酮体\\s*KET']\n",
    "urine_dict['隐血'] = ['血','隐血','潜血','尿隐血','尿潜血','隐血或红细胞\\(BLD\\)','尿潜血\\(BLD\\)','隐血\\s*BLD']\n",
    "urine_dict['尿蛋白'] = ['蛋白质','尿蛋白','蛋白质\\(PRO\\)','蛋白','蛋白质\\s*PRO']\n",
    "urine_dict['亚硝酸盐'] = ['亚硝酸盐','尿亚硝酸盐','亚硝酸盐\\(NIT\\)','亚硝酸\\s*NIT']\n",
    "urine_dict['葡萄糖'] = ['葡萄糖','尿糖','尿葡萄糖','尿糖\\(GLU\\)','葡萄糖\\s*GLU']\n",
    "urine_dict['比重'] = ['比重','尿比重','比重 \\(SG\\)','比 重','比重\\(SG\\)']\n",
    "urine_dict['酸碱度'] = ['酸碱度','尿PH值','尿酸碱度','PH','酸碱度\\(PH\\)','尿PH','pH值\\(PH\\)','酸碱度\\(pH\\)','酸碱度\\s*PH']\n",
    "urine_dict['颜色'] = ['颜色','颜色 \\(Color\\)','尿液外观']\n",
    "urine_dict['浑浊度'] = ['浊度','浑浊度','透明度\\(TMD\\)','透明度','尿透明度','外观','清晰度']\n",
    "urine_dict['电导率'] = ['电导率','电导率\\s*Cond']\n",
    "urine_dict['电导率信息'] = ['电导率分级','电导率信息']\n",
    "urine_dict['类酵母菌'] = ['类酵母菌','类酵母细胞数量','类酵母细胞标记','酵母样菌','类酵母细胞数量\\s*YLC']\n",
    "urine_dict['粘液丝'] = ['粘液丝','粘液丝数量','粘液','粘液丝数量\\s*MCLS']\n",
    "urine_dict['细菌'] = ['细菌计数','细菌','细菌\\s*BACT']\n",
    "urine_dict['维生素C'] = ['VC','维生素C','维生素C\\s*VC']\n",
    "urine_dict['完整红细胞比率'] = ['完整红细胞比率','完整红细胞百分比','完整红细胞百分比\\s*NL-RBC%']\n",
    "urine_dict['尿路感染信息'] = ['尿路感染信息']\n",
    "urine_dict['尿钙'] = ['尿钙']\n",
    "urine_dict['精子'] = ['精子']\n",
    "urine_dict['完整红细胞绝对值'] = ['完整红细胞绝对值','完整红细胞绝对值\\s*NL-RBC#']\n",
    "urine_dict['其他有形成份'] = ['其他有形成份']\n",
    "urine_dict['70%红细胞平均体积'] = ['70%红细胞平均体积','70%红细胞平均体积\\s*RBC-P70']\n",
    "urine_dict['白细胞(高倍视野)'] = ['白细胞\\(HPF\\)','每高倍视野白细胞数','白细胞\\(高倍视野\\)']\n",
    "urine_dict['红细胞(高倍视野)'] = ['红细胞\\(高倍\\)','每高倍视野白细胞数','红细胞\\(高倍视野\\)']\n",
    "urine_dict['上皮细胞(高倍视野)'] = ['上皮细胞\\(高倍视野\\)','上皮细胞\\(高倍\\)','每高倍视野上皮细胞数']\n",
    "urine_dict['红细胞信息'] = ['红细胞信息','红细胞形态信息','红细胞形态变异信息','红细胞信息\\s*info']\n",
    "urine_dict['红细胞镜检'] = ['直接镜检-红细胞','镜检红细胞','红细胞\\(镜检\\)','镜检：红细胞\\(RBC\\)','红细胞镜检']\n",
    "urine_dict['白细胞镜检'] = ['直接镜检-白细胞','镜检白细胞','白细胞\\(镜检\\)','镜检：白细胞','白细胞镜检']\n",
    "urine_dict['上皮细胞镜检'] = ['上皮细胞\\(镜检\\)','上皮细胞镜检']\n",
    "urine_dict['小圆上皮细胞'] = ['小圆上皮','小圆上皮细胞','小圆上皮细胞标记','小圆上皮细胞数量','小圆细胞']\n",
    "urine_dict['管型'] = ['管型','管型计数','管型计数\\(CAST\\)','管型\\s*(LPF)']\n",
    "# sort the names according to their length, longest name first\n",
    "for k, names in urine_dict.items():\n",
    "    names.sort(key = lambda s: -len(s))"
   ]
  },
  {
   "cell_type": "code",
   "execution_count": 206,
   "metadata": {
    "collapsed": true
   },
   "outputs": [
    {
     "data": {
      "text/plain": [
       "{'70%红细胞平均体积': ['70%红细胞平均体积\\\\s*RBC-P70', '70%红细胞平均体积'],\n",
       " '上皮细胞(高倍视野)': ['上皮细胞\\\\(高倍视野)', '上皮细胞\\\\(高倍\\\\)', '每高倍视野上皮细胞数'],\n",
       " '亚硝酸盐': ['亚硝酸盐\\\\(NIT\\\\)', '亚硝酸\\\\s*NIT', '尿亚硝酸盐', '亚硝酸盐'],\n",
       " '其他有形成份': ['其他有形成份'],\n",
       " '完整红细胞比率': ['完整红细胞百分比\\\\s*NL-RBC%', '完整红细胞百分比', '完整红细胞比率'],\n",
       " '完整红细胞绝对值': ['完整红细胞绝对值\\\\s*NL-RBC#', '完整红细胞绝对值'],\n",
       " '尿胆原': ['尿胆原\\\\(URO\\\\)', '尿胆原\\\\(UBG\\\\)', '尿胆原\\\\s*URO', '尿胆原'],\n",
       " '尿蛋白': ['蛋白质\\\\(PRO\\\\)', '蛋白质\\\\s*PRO', '蛋白质', '尿蛋白', '蛋白'],\n",
       " '尿路感染信息': ['尿路感染信息'],\n",
       " '尿钙': ['尿钙'],\n",
       " '比重': ['比重 \\\\(SG\\\\)', '比重\\\\(SG\\\\)', '尿比重', '比 重', '比重'],\n",
       " '浑浊度': ['透明度\\\\(TMD\\\\)', '尿透明度', '浑浊度', '透明度', '清晰度', '浊度', '外观'],\n",
       " '电导率': ['电导率\\\\s*Cond.', '电导率'],\n",
       " '电导率信息': ['电导率分级', '电导率信息'],\n",
       " '白细胞(高倍视野)': ['白细胞\\\\(高倍视野\\\\)', '白细胞\\\\(HPF\\\\)', '每高倍视野白细胞数'],\n",
       " '类酵母菌': ['类酵母细胞数量\\\\s*YLC', '类酵母细胞数量', '类酵母细胞标记', '类酵母菌', '酵母样菌'],\n",
       " '粘液丝': ['粘液丝数量\\\\s*MCLS', '粘液丝数量', '粘液丝', '粘液'],\n",
       " '精子': ['精子'],\n",
       " '红细胞(高倍视野)': ['红细胞\\\\(高倍视野\\\\)', '红细胞\\\\(高倍\\\\)', '每高倍视野白细胞数'],\n",
       " '红细胞信息': ['红细胞信息\\\\s*info', '红细胞形态变异信息', '红细胞形态信息', '红细胞信息'],\n",
       " '细菌': ['细菌\\\\s*BACT', '细菌计数', '细菌'],\n",
       " '维生素C': ['维生素C\\\\s*VC', '维生素C', 'VC'],\n",
       " '胆红素': ['胆红素\\\\(BIL\\\\)', '胆红素\\\\s*BIL', '尿胆红素', '胆红素'],\n",
       " '葡萄糖': ['尿糖\\\\(GLU\\\\)', '葡萄糖\\\\s*GLU', '尿葡萄糖', '葡萄糖', '尿糖'],\n",
       " '酮体': ['酮体 \\\\(KET\\\\)', '酮体\\\\(KET\\\\)', '酮体\\\\s*KET', '尿酮体', '酮 体', '酮体'],\n",
       " '酸碱度': ['酸碱度\\\\(PH\\\\)',\n",
       "  'pH值\\\\(PH\\\\)',\n",
       "  '酸碱度\\\\(pH\\\\)',\n",
       "  '酸碱度\\\\s*PH',\n",
       "  '尿PH值',\n",
       "  '尿酸碱度',\n",
       "  '酸碱度',\n",
       "  '尿PH',\n",
       "  'PH'],\n",
       " '隐血': ['隐血或红细胞\\\\(BLD\\\\)',\n",
       "  '尿潜血\\\\(BLD\\\\)',\n",
       "  '隐血\\\\s*BLD',\n",
       "  '尿隐血',\n",
       "  '尿潜血',\n",
       "  '隐血',\n",
       "  '潜血',\n",
       "  '血'],\n",
       " '颜色': ['颜色 \\\\(Color\\\\)', '尿液外观', '颜色']}"
      ]
     },
     "execution_count": 206,
     "metadata": {},
     "output_type": "execute_result"
    }
   ],
   "source": [
    "urine_dict"
   ]
  },
  {
   "cell_type": "code",
   "execution_count": 207,
   "metadata": {},
   "outputs": [],
   "source": [
    "urine_tests = ['尿胆原','胆红素','酮体','隐血','尿蛋白','亚硝酸盐','葡萄糖','比重','酸碱度','颜色','浑浊度',\n",
    "              '电导率','电导率信息','类酵母菌','粘液丝','细菌','维生素C','完整红细胞比率','尿路感染信息',\n",
    "              '尿钙','精子','完整红细胞绝对值','其他有形成份','70%红细胞平均体积','白细胞(高倍视野)',\n",
    "              '红细胞(高倍视野)','上皮细胞（高倍视野）','红细胞信息','红细胞镜检','白细胞镜检','上皮细胞镜检',\n",
    "              '小圆上皮细胞']"
   ]
  },
  {
   "cell_type": "code",
   "execution_count": 240,
   "metadata": {},
   "outputs": [],
   "source": [
    "# result is the dict where we store test names and values\n",
    "result = {}\n",
    "for test in urine_tests:\n",
    "    result.setdefault(test, '')"
   ]
  },
  {
   "cell_type": "code",
   "execution_count": 209,
   "metadata": {},
   "outputs": [],
   "source": [
    "#split the text as a list of strings\n",
    "text_split = text.split()"
   ]
  },
  {
   "cell_type": "code",
   "execution_count": 210,
   "metadata": {
    "collapsed": true
   },
   "outputs": [
    {
     "data": {
      "text/plain": [
       "['NO一s白',\n",
       " '一',\n",
       " '结果',\n",
       " '单位',\n",
       " '参考值',\n",
       " 'N0',\n",
       " '项目',\n",
       " '结果',\n",
       " '单位',\n",
       " '1红细胞.',\n",
       " 'RBC.8336.50f/ul0.00一25.0016白细胞',\n",
       " 'WBC500(+3)',\n",
       " '2白细(UF)',\n",
       " 'WBC(UF)9518.30f/ul0.00一30.0017酮体',\n",
       " 'KET-0.5()',\n",
       " '3一皮细胞.',\n",
       " 'EC',\n",
       " '233.201/ul0.00一9.00',\n",
       " '18亚硝酸',\n",
       " 'NIT性(-)',\n",
       " '4小圆上皮细胞数量SRC',\n",
       " '2.90/ul',\n",
       " '19尿胆原',\n",
       " 'UR0O',\n",
       " 'Normal',\n",
       " '5管型.',\n",
       " 'CAST',\n",
       " '0.24Aul0.00一1.0020胆红素',\n",
       " 'BTL',\n",
       " '0(-)',\n",
       " '6病理管型',\n",
       " 'P.ChAST1565.24/ul',\n",
       " '21蛋白质',\n",
       " 'PRO3.0(+3)',\n",
       " '7细葡',\n",
       " 'BACT13.40/ul0.00一3395.0022尿比重',\n",
       " 'SC',\n",
       " '1.015',\n",
       " '8结数量',\n",
       " 'XTAL',\n",
       " '0.00/ul',\n",
       " '23葡萄',\n",
       " 'GLU.',\n",
       " '0(-)',\n",
       " '9粘液丝数量',\n",
       " 'MCLS',\n",
       " '0.00/ul',\n",
       " '24隐血',\n",
       " 'BLD',\n",
       " '80(+2)',\n",
       " '10类酶母细胞数量YLC',\n",
       " '0.00/ul',\n",
       " '25酸碱度',\n",
       " 'PH',\n",
       " '7.50',\n",
       " 'L1电导率',\n",
       " 'Cond9.00msS/cm3.00一39.0026维生素C',\n",
       " 'VC',\n",
       " '0(-)mmol/L',\n",
       " '12705细胞平均体积RBC-P70105.00',\n",
       " '27尿液外观',\n",
       " '红色',\n",
       " '13完整红细胞百分比NL-RBC100.00',\n",
       " '28透明度.',\n",
       " '浑浊',\n",
       " '14红细胞维值',\n",
       " 'NL-RBC8336.50',\n",
       " '49',\n",
       " '检白细胞.',\n",
       " '+-',\n",
       " 'HP',\n",
       " '15红细胞信息',\n",
       " 'info',\n",
       " '均一型',\n",
       " '30镜检红细胞',\n",
       " '+++一',\n",
       " '胆']"
      ]
     },
     "execution_count": 210,
     "metadata": {},
     "output_type": "execute_result"
    }
   ],
   "source": [
    "text_split"
   ]
  },
  {
   "cell_type": "code",
   "execution_count": 241,
   "metadata": {},
   "outputs": [],
   "source": [
    "# find the perfect match for test names\n",
    "for k, names in urine_dict.items():\n",
    "    for name in names:\n",
    "        value = re.findall(''.join([name, '(\\s*)(\\S+)']), text)\n",
    "        if value:\n",
    "            result[k] = value[0][1]\n",
    "            break"
   ]
  },
  {
   "cell_type": "code",
   "execution_count": 242,
   "metadata": {},
   "outputs": [
    {
     "data": {
      "text/plain": [
       "{'70%红细胞平均体积': '',\n",
       " '上皮细胞（高倍视野）': '',\n",
       " '亚硝酸盐': '性(-)',\n",
       " '其他有形成份': '',\n",
       " '完整红细胞比率': 'NL-RBC100.00',\n",
       " '完整红细胞绝对值': '',\n",
       " '尿胆原': 'UR0O',\n",
       " '尿蛋白': '3.0(+3)',\n",
       " '尿路感染信息': '',\n",
       " '尿钙': '',\n",
       " '比重': 'SC',\n",
       " '浑浊度': '.',\n",
       " '电导率': '9.00msS/cm3.00一39.0026维生素C',\n",
       " '电导率信息': '',\n",
       " '白细胞(高倍视野)': '',\n",
       " '类酵母菌': '',\n",
       " '粘液丝': '0.00/ul',\n",
       " '精子': '',\n",
       " '红细胞(高倍视野)': '',\n",
       " '红细胞信息': '均一型',\n",
       " '细菌': '',\n",
       " '维生素C': '0(-)mmol/L',\n",
       " '胆红素': 'BTL',\n",
       " '葡萄糖': '',\n",
       " '酮体': '-0.5()',\n",
       " '酸碱度': '7.50',\n",
       " '隐血': '80(+2)',\n",
       " '颜色': '红色'}"
      ]
     },
     "execution_count": 242,
     "metadata": {},
     "output_type": "execute_result"
    }
   ],
   "source": [
    "result"
   ]
  },
  {
   "cell_type": "code",
   "execution_count": 230,
   "metadata": {},
   "outputs": [
    {
     "data": {
      "text/plain": [
       "[('(UBG)123', 90)]"
      ]
     },
     "execution_count": 230,
     "metadata": {},
     "output_type": "execute_result"
    }
   ],
   "source": [
    "tmp = ['(UBG)123']\n",
    "process.extract('\\(UBG\\)', tmp, limit=1)"
   ]
  },
  {
   "cell_type": "code",
   "execution_count": 234,
   "metadata": {},
   "outputs": [
    {
     "name": "stdout",
     "output_type": "stream",
     "text": [
      "葡萄糖 [('23葡萄', 57)]\n",
      "电导率信息 [('L1电导率', 60)]\n",
      "类酵母菌 [('10类酶母细胞数量YLC', 45)]\n",
      "细菌 [('1红细胞.', 45)]\n",
      "尿路感染信息 [('15红细胞信息', 31)]\n",
      "尿钙 [('19尿胆原', 45)]\n",
      "精子 [('NO一s白', 0)]\n",
      "完整红细胞绝对值 [('1红细胞.', 68)]\n",
      "其他有形成份 [('NO一s白', 0)]\n",
      "70%红细胞平均体积 [('12705细胞平均体积RBC-P70105.00', 72)]\n",
      "白细胞(高倍视野) [('检白细胞.', 68)]\n",
      "红细胞(高倍视野) [('1红细胞.', 68)]\n",
      "上皮细胞（高倍视野） [('3一皮细胞.', 54)]\n"
     ]
    }
   ],
   "source": [
    "for k, v in result.items():\n",
    "    if not v:\n",
    "        fuzzy = process.extract(k, text_split, limit=1)\n",
    "        print(k, fuzzy)\n",
    "        if fuzzy[0][1] > 60:\n",
    "            name = fuzzy[0][0]\n",
    "            if '(' in name:\n",
    "                    index = name.find('(')\n",
    "                    name = name[:index] + '\\\\' + name[index:]\n",
    "            if ')' in name:\n",
    "                    index = name.find(')')\n",
    "                    name = name[:index] + '\\\\' + name[index:]\n",
    "            value = re.findall(''.join([name, '(\\s*)(\\S+)']), text)\n",
    "            if value:\n",
    "                result[k] = value[0][1]"
   ]
  },
  {
   "cell_type": "code",
   "execution_count": 222,
   "metadata": {},
   "outputs": [
    {
     "data": {
      "text/plain": [
       "{'70%红细胞平均体积': '27尿液外观',\n",
       " '上皮细胞（高倍视野）': '',\n",
       " '亚硝酸盐': '性(-)',\n",
       " '其他有形成份': '',\n",
       " '完整红细胞比率': 'NL-RBC100.00',\n",
       " '完整红细胞绝对值': 'RBC.8336.50f/ul0.00一25.0016白细胞',\n",
       " '尿胆原': 'UR0O',\n",
       " '尿蛋白': '3.0(+3)',\n",
       " '尿路感染信息': '',\n",
       " '尿钙': '',\n",
       " '比重': 'SC',\n",
       " '浑浊度': '.',\n",
       " '电导率': '9.00msS/cm3.00一39.0026维生素C',\n",
       " '电导率信息': '',\n",
       " '白细胞(高倍视野)': '+-',\n",
       " '类酵母菌': '',\n",
       " '粘液丝': '0.00/ul',\n",
       " '精子': '',\n",
       " '红细胞(高倍视野)': 'RBC.8336.50f/ul0.00一25.0016白细胞',\n",
       " '红细胞信息': '均一型',\n",
       " '细菌': '',\n",
       " '维生素C': '0(-)mmol/L',\n",
       " '胆红素': 'BTL',\n",
       " '葡萄糖': '',\n",
       " '酮体': '-0.5()',\n",
       " '酸碱度': '7.50',\n",
       " '隐血': '80(+2)',\n",
       " '颜色': '红色'}"
      ]
     },
     "execution_count": 222,
     "metadata": {},
     "output_type": "execute_result"
    }
   ],
   "source": [
    "result"
   ]
  },
  {
   "cell_type": "code",
   "execution_count": null,
   "metadata": {},
   "outputs": [],
   "source": []
  }
 ],
 "metadata": {
  "kernelspec": {
   "display_name": "Python 3",
   "language": "python",
   "name": "python3"
  },
  "language_info": {
   "codemirror_mode": {
    "name": "ipython",
    "version": 3
   },
   "file_extension": ".py",
   "mimetype": "text/x-python",
   "name": "python",
   "nbconvert_exporter": "python",
   "pygments_lexer": "ipython3",
   "version": "3.6.8"
  }
 },
 "nbformat": 4,
 "nbformat_minor": 2
}
