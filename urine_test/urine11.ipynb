{
 "cells": [
  {
   "cell_type": "code",
   "execution_count": 1,
   "metadata": {},
   "outputs": [],
   "source": [
    "import re"
   ]
  },
  {
   "cell_type": "code",
   "execution_count": 2,
   "metadata": {},
   "outputs": [],
   "source": [
    "from fuzzywuzzy import fuzz\n",
    "from fuzzywuzzy import process"
   ]
  },
  {
   "cell_type": "code",
   "execution_count": 3,
   "metadata": {},
   "outputs": [],
   "source": [
    "with open('urine11.txt', 'r') as f:\n",
    "    text = f.read()"
   ]
  },
  {
   "cell_type": "code",
   "execution_count": 51,
   "metadata": {},
   "outputs": [
    {
     "data": {
      "text/plain": [
       "['123']"
      ]
     },
     "execution_count": 51,
     "metadata": {},
     "output_type": "execute_result"
    }
   ],
   "source": [
    "re.findall(''.join(['葡萄\\s+GLU','\\s*(\\S+)']),'23葡萄            GLU 123')"
   ]
  },
  {
   "cell_type": "code",
   "execution_count": 4,
   "metadata": {
    "scrolled": true
   },
   "outputs": [
    {
     "data": {
      "text/plain": [
       "')\\n检果单i\\n病120101195607070542无积病检小s尿\\n名相相    性分      a8标标\\n完      记201808309369病        检常\\n名 浅                                              酶- \\n项目                      浑           单            参考信\\nT                  浅黄色                      . 一一g 受酶  \\n121比重                 1.015                    镜 \\n131EH                     5.00                        5 透素完 )\\n14白细胞                -                      霉澄 \\n15亚硝酸盐                +                        阳性一\\n16尿蛋白                 -                        一\\n171葡萄糖                  -                         葡  \\n181酮体                   -                         9性A\\n19尿胆原               -                     明性\\n1101胆红素                                           浑                                                    项标\\n1111尿红细胞             目                 1\\n112直接镜检-红细胞              未见异常                       性\\n131直接镜检-白细胞         未见异常               ..a.整 -  \\n141直接镜检-管型             未见异常               M\\nc 草糖透 1\\n-        感导考\\n澄\\n检晰2018-08-310759晰2018-08-3108502  一草葡 T   1\\n检考标             完^项目浑上1\\n未仅\\n.                           目尿状\\n\\x0c'"
      ]
     },
     "execution_count": 4,
     "metadata": {},
     "output_type": "execute_result"
    }
   ],
   "source": [
    "text"
   ]
  },
  {
   "cell_type": "code",
   "execution_count": 39,
   "metadata": {},
   "outputs": [],
   "source": [
    "urine_dict = {}\n",
    "urine_dict['尿胆原'] = ['尿胆原','尿胆原(URO)','尿胆原(UBG)']\n",
    "urine_dict['胆红素'] = ['胆红素','尿胆红素','胆红素(BIL)']\n",
    "urine_dict['酮体'] = ['酮体','尿酮体','酮体 (KET)','酮 体','酮体(KET)']\n",
    "urine_dict['隐血'] = ['血','隐血','潜血','尿隐血','尿潜血','隐血或红细胞(BLD)','尿潜血(BLD)']\n",
    "urine_dict['尿蛋白'] = ['蛋白质','尿蛋白','蛋白质(PRO)','蛋白']\n",
    "urine_dict['亚硝酸盐'] = ['亚硝酸盐','尿亚硝酸盐','亚硝酸盐(NIT)']\n",
    "urine_dict['葡萄糖'] = ['葡萄糖','尿糖','尿葡萄糖','尿糖(GLU)']\n",
    "urine_dict['比重'] = ['比重','尿比重','比重 (SG)','比 重','比重(SG)']\n",
    "urine_dict['酸碱度'] = ['酸碱度','尿PH值','尿酸碱度','PH','酸碱度(PH)','尿PH','pH值(PH)','酸碱度(pH)']\n",
    "urine_dict['颜色'] = ['颜色','颜色 (Color)','尿液外观']\n",
    "urine_dict['浑浊度'] = ['浊度','浑浊度','透明度(TMD)','透明度','尿透明度','外观','清晰度']\n",
    "urine_dict['电导率'] = ['电导率']\n",
    "urine_dict['电导率信息'] = ['电导率分级','电导率信息']\n",
    "urine_dict['类酵母菌'] = ['类酵母菌','类酵母细胞数量','类酵母细胞标记','酵母样菌']\n",
    "urine_dict['粘液丝'] = ['粘液丝','粘液丝数量','粘液']\n",
    "urine_dict['细菌'] = ['细菌计数','细菌']\n",
    "urine_dict['维生素C'] = ['VC','维生素C']\n",
    "urine_dict['完整红细胞比率'] = ['完整红细胞比率','完整红细胞百分比']\n",
    "urine_dict['尿路感染信息'] = ['尿路感染信息']\n",
    "urine_dict['尿钙'] = ['尿钙']\n",
    "urine_dict['精子'] = ['精子']\n",
    "urine_dict['完整红细胞绝对值'] = ['完整红细胞绝对值']\n",
    "urine_dict['其他有形成份'] = ['其他有形成份']\n",
    "urine_dict['70%红细胞平均体积'] = ['70%红细胞平均体积']\n",
    "urine_dict['白细胞(高倍视野)'] = ['白细胞(HPF)','每高倍视野白细胞数','白细胞(高倍视野)']\n",
    "urine_dict['红细胞(高倍视野)'] = ['红细胞(高倍)','每高倍视野白细胞数','红细胞(高倍视野)']\n",
    "urine_dict['上皮细胞（高倍视野）'] = ['上皮细胞（高倍视野）','上皮细胞（高倍）','每高倍视野上皮细胞数']\n",
    "urine_dict['红细胞信息'] = ['红细胞信息','红细胞形态信息','红细胞形态变异信息']\n",
    "# sort the names according to their length, longest name first\n",
    "for k, names in urine_dict.items():\n",
    "    names.sort(key = lambda s: -len(s))"
   ]
  },
  {
   "cell_type": "code",
   "execution_count": 20,
   "metadata": {
    "collapsed": true
   },
   "outputs": [
    {
     "data": {
      "text/plain": [
       "{'70%红细胞平均体积': ['70%红细胞平均体积'],\n",
       " '上皮细胞（高倍视野）': ['上皮细胞（高倍视野）', '每高倍视野上皮细胞数', '上皮细胞（高倍）'],\n",
       " '亚硝酸盐': ['亚硝酸盐(NIT)', '尿亚硝酸盐', '亚硝酸盐'],\n",
       " '其他有形成份': ['其他有形成份'],\n",
       " '完整红细胞比率': ['完整红细胞百分比', '完整红细胞比率'],\n",
       " '完整红细胞绝对值': ['完整红细胞绝对值'],\n",
       " '尿胆原': ['尿胆原(URO)', '尿胆原(UBG)', '尿胆原'],\n",
       " '尿蛋白': ['蛋白质(PRO)', '蛋白质', '尿蛋白', '蛋白'],\n",
       " '尿路感染信息': ['尿路感染信息'],\n",
       " '尿钙': ['尿钙'],\n",
       " '比重': ['比重 (SG)', '比重(SG)', '尿比重', '比 重', '比重'],\n",
       " '浑浊度': ['透明度(TMD)', '尿透明度', '浑浊度', '透明度', '清晰度', '浊度', '外观'],\n",
       " '电导率': ['电导率'],\n",
       " '电导率信息': ['电导率分级', '电导率信息'],\n",
       " '白细胞(高倍视野)': ['每高倍视野白细胞数', '白细胞(高倍视野)', '白细胞(HPF)'],\n",
       " '类酵母菌': ['类酵母细胞数量', '类酵母细胞标记', '类酵母菌', '酵母样菌'],\n",
       " '粘液丝': ['粘液丝数量', '粘液丝', '粘液'],\n",
       " '精子': ['精子'],\n",
       " '红细胞(高倍视野)': ['每高倍视野白细胞数', '红细胞(高倍视野)', '红细胞(高倍)'],\n",
       " '红细胞信息': ['红细胞形态变异信息', '红细胞形态信息', '红细胞信息'],\n",
       " '细菌': ['细菌计数', '细菌'],\n",
       " '维生素C': ['维生素C', 'VC'],\n",
       " '胆红素': ['胆红素(BIL)', '尿胆红素', '胆红素'],\n",
       " '葡萄糖': ['尿糖(GLU)', '尿葡萄糖', '葡萄糖', '尿糖'],\n",
       " '酮体': ['酮体 (KET)', '酮体(KET)', '尿酮体', '酮 体', '酮体'],\n",
       " '酸碱度': ['酸碱度(PH)', 'pH值(PH)', '酸碱度(pH)', '尿PH值', '尿酸碱度', '酸碱度', '尿PH', 'PH'],\n",
       " '隐血': ['隐血或红细胞(BLD)', '尿潜血(BLD)', '尿隐血', '尿潜血', '隐血', '潜血', '血'],\n",
       " '颜色': ['颜色 (Color)', '尿液外观', '颜色']}"
      ]
     },
     "execution_count": 20,
     "metadata": {},
     "output_type": "execute_result"
    }
   ],
   "source": [
    "urine_dict"
   ]
  },
  {
   "cell_type": "code",
   "execution_count": 28,
   "metadata": {},
   "outputs": [],
   "source": [
    "urine_tests = ['尿胆原','胆红素','酮体','隐血','尿蛋白','亚硝酸盐','葡萄糖','比重','酸碱度','颜色','浑浊度',\n",
    "              '电导率','电导率信息','类酵母菌','粘液丝','细菌','维生素C','完整红细胞比率','尿路感染信息',\n",
    "              '尿钙','精子','完整红细胞绝对值','其他有形成份','70%红细胞平均体积','白细胞(高倍视野)',\n",
    "              '红细胞(高倍视野)','上皮细胞（高倍视野）','红细胞信息']"
   ]
  },
  {
   "cell_type": "code",
   "execution_count": 40,
   "metadata": {},
   "outputs": [],
   "source": [
    "# result is the dict where we store test names and values\n",
    "result = {}\n",
    "for test in urine_tests:\n",
    "    result.setdefault(test, '')"
   ]
  },
  {
   "cell_type": "code",
   "execution_count": 9,
   "metadata": {},
   "outputs": [],
   "source": [
    "#split the text as a list of strings\n",
    "text_split = text.split()"
   ]
  },
  {
   "cell_type": "code",
   "execution_count": 109,
   "metadata": {
    "collapsed": true
   },
   "outputs": [
    {
     "data": {
      "text/plain": [
       "['.',\n",
       " '度',\n",
       " '项目',\n",
       " '检浑检浑量分析一',\n",
       " 'F微镜镜检',\n",
       " '路',\n",
       " '肌',\n",
       " '检项目',\n",
       " '结果单位参考区间/值检项目',\n",
       " '结果单位',\n",
       " '参考区间/值',\n",
       " '胆红素(BIL)',\n",
       " '阴性(-)',\n",
       " '阴性病理管型',\n",
       " '0.4/ul',\n",
       " '0-0.5',\n",
       " '酮体(KET)',\n",
       " '阴性(-)',\n",
       " '阴性结晶',\n",
       " '0.7一Aul',\n",
       " '0-10',\n",
       " '比重(S6)',\n",
       " '1.022',\n",
       " '1.003-1.030细菌',\n",
       " '204.3/ul',\n",
       " '0.0-1000.0',\n",
       " '尿糖(GLU)',\n",
       " '阴性(-)',\n",
       " '阴性每高倍视野细菌数',\n",
       " '2.0105/ml',\n",
       " '尿潜血(BLD)',\n",
       " '阴性(-)',\n",
       " '阴性酵母',\n",
       " '0.0Aul',\n",
       " '0-0.1',\n",
       " '蛋白质(PRO)',\n",
       " '阴性(-)',\n",
       " '阴性粘液',\n",
       " '0.7一/ul',\n",
       " '尿胆原(UBG)',\n",
       " '正常',\n",
       " '阴性',\n",
       " '0.0Aul',\n",
       " 'pH值(PH)',\n",
       " '6.0',\n",
       " '4.5-8.0电导率',\n",
       " '28.1mS/cm',\n",
       " '亚硝酸盐(NIT)',\n",
       " '阴性(-)',\n",
       " '阴性电导信息',\n",
       " '4级',\n",
       " '尿白细胞(LEU)',\n",
       " '阴性()',\n",
       " '阴性镜检红细胞(RBC)',\n",
       " '0-2/HP',\n",
       " '0-3',\n",
       " '颜色',\n",
       " '黄色',\n",
       " '镜检白细胞',\n",
       " 't+/HNP',\n",
       " '0-5',\n",
       " '清晰度',\n",
       " '清晰',\n",
       " '镜检鳞状上皮细胞',\n",
       " 'P',\n",
       " '红细',\n",
       " '38/ul',\n",
       " '0-26镜检柱状上皮细胞',\n",
       " '未检/HP',\n",
       " '每高视野红细胞数',\n",
       " '6.3/HPF',\n",
       " '镜检透明管型',\n",
       " '未检比/LP',\n",
       " '红细胞信息',\n",
       " '其',\n",
       " '镜检粒状管型',\n",
       " '检虫/LP',\n",
       " '白细',\n",
       " '33.1',\n",
       " '/ul',\n",
       " '0-26镜检红细胞管型',\n",
       " '检/UP',\n",
       " '每高倍视野白细胞数',\n",
       " '6.0/HPF',\n",
       " '镜检白细胞管型',\n",
       " '未检/tP',\n",
       " '尿路感染信息',\n",
       " '尿路感染?',\n",
       " '镜检非晶型尿酸盐',\n",
       " '未检/HP',\n",
       " '度细胞',\n",
       " '11.5Xul',\n",
       " '0-20镜检草酸钙结晶',\n",
       " '未检/HP',\n",
       " '每高倍视野上皮细胞数',\n",
       " '2.1AHPF',\n",
       " '镜检尿酸盐结晶',\n",
       " '未检虫/HP',\n",
       " '小圆上皮细胞',\n",
       " '3.7一/ul',\n",
       " '透明管型',\n",
       " '1.3Aul',\n",
       " '0-2.5',\n",
       " '每低倍视野透明管型数',\n",
       " '3.XLPF']"
      ]
     },
     "execution_count": 109,
     "metadata": {},
     "output_type": "execute_result"
    }
   ],
   "source": [
    "text_split"
   ]
  },
  {
   "cell_type": "code",
   "execution_count": 41,
   "metadata": {},
   "outputs": [],
   "source": [
    "# find the perfect match for test names\n",
    "for k, names in urine_dict.items():\n",
    "    for name in names:\n",
    "        if name in text:\n",
    "            if '(' in name:\n",
    "                index = name.find('(')\n",
    "                name = name[:index] + '\\\\' + name[index:]\n",
    "                name = name[:-1] + '\\\\' + ')'\n",
    "            value = re.findall(''.join([name, '(\\s*)(\\S+)']), text)\n",
    "            if value:\n",
    "                result[k] = value[0][1]\n",
    "            break"
   ]
  },
  {
   "cell_type": "code",
   "execution_count": 42,
   "metadata": {
    "collapsed": true
   },
   "outputs": [
    {
     "data": {
      "text/plain": [
       "{'70%红细胞平均体积': '',\n",
       " '上皮细胞（高倍视野）': '',\n",
       " '亚硝酸盐': '+',\n",
       " '其他有形成份': '',\n",
       " '完整红细胞比率': '',\n",
       " '完整红细胞绝对值': '',\n",
       " '尿胆原': '-',\n",
       " '尿蛋白': '-',\n",
       " '尿路感染信息': '',\n",
       " '尿钙': '',\n",
       " '比重': '1.015',\n",
       " '浑浊度': '',\n",
       " '电导率': '',\n",
       " '电导率信息': '',\n",
       " '白细胞(高倍视野)': '',\n",
       " '类酵母菌': '',\n",
       " '粘液丝': '',\n",
       " '精子': '',\n",
       " '红细胞(高倍视野)': '',\n",
       " '红细胞信息': '',\n",
       " '细菌': '',\n",
       " '维生素C': '',\n",
       " '胆红素': '浑',\n",
       " '葡萄糖': '-',\n",
       " '酮体': '-',\n",
       " '酸碱度': '',\n",
       " '隐血': '',\n",
       " '颜色': ''}"
      ]
     },
     "execution_count": 42,
     "metadata": {},
     "output_type": "execute_result"
    }
   ],
   "source": [
    "result"
   ]
  },
  {
   "cell_type": "code",
   "execution_count": 43,
   "metadata": {},
   "outputs": [
    {
     "name": "stdout",
     "output_type": "stream",
     "text": [
      "隐血 [(')', 0)]\n",
      "酸碱度 [('15亚硝酸盐', 30)]\n",
      "颜色 [('浅黄色', 45)]\n",
      "浑浊度 [('浑', 90)]\n",
      "电导率 [('感导考', 33)]\n",
      "电导率信息 [('参考信', 30)]\n",
      "类酵母菌 [(')', 0)]\n",
      "粘液丝 [(')', 0)]\n",
      "细菌 [('14白细胞', 45)]\n",
      "维生素C [('c', 90)]\n",
      "完整红细胞比率 [('完', 90)]\n",
      "尿路感染信息 [('参考信', 30)]\n",
      "尿钙 [('16尿蛋白', 45)]\n",
      "精子 [(')', 0)]\n",
      "完整红细胞绝对值 [('完', 90)]\n",
      "其他有形成份 [(')', 0)]\n",
      "70%红细胞平均体积 [('5.00', 43)]\n",
      "白细胞(高倍视野) [('14白细胞', 54)]\n",
      "红细胞(高倍视野) [('112直接镜检-红细胞', 52)]\n",
      "上皮细胞（高倍视野） [('14白细胞', 36)]\n",
      "红细胞信息 [('1111尿红细胞', 68)]\n"
     ]
    }
   ],
   "source": [
    "# fuzzy match for test names that cannot be matched from above\n",
    "for k, v in result.items():\n",
    "    if not v:\n",
    "        fuzzy = process.extract(k, text_split, limit=1)\n",
    "        print(k, fuzzy)\n",
    "        if fuzzy[0][1] > 60:\n",
    "            name = fuzzy[0][0]\n",
    "            if '(' in name:\n",
    "                    index = name.find('(')\n",
    "                    name = name[:index] + '\\\\' + name[index:]\n",
    "            if ')' in name:\n",
    "                    index = name.find(')')\n",
    "                    name = name[:index] + '\\\\' + name[index:]\n",
    "            value = re.findall(''.join([name, '(\\s*)(\\S+)']), text)\n",
    "            if value:\n",
    "                result[k] = value[0][1]"
   ]
  },
  {
   "cell_type": "code",
   "execution_count": 33,
   "metadata": {
    "collapsed": true
   },
   "outputs": [
    {
     "data": {
      "text/plain": [
       "{'70%红细胞平均体积': '',\n",
       " '上皮细胞（高倍视野）': '',\n",
       " '亚硝酸盐': '+',\n",
       " '其他有形成份': '',\n",
       " '完整红细胞比率': '记201808309369病',\n",
       " '完整红细胞绝对值': '记201808309369病',\n",
       " '尿胆原': '-',\n",
       " '尿蛋白': '-',\n",
       " '尿路感染信息': '',\n",
       " '尿钙': '',\n",
       " '比重': '1.015',\n",
       " '浑浊度': '单',\n",
       " '电导率': '',\n",
       " '电导率信息': '',\n",
       " '白细胞(高倍视野)': '-',\n",
       " '类酵母菌': '',\n",
       " '粘液丝': '',\n",
       " '精子': '',\n",
       " '红细胞(高倍视野)': '未见异常',\n",
       " '红细胞信息': '目',\n",
       " '细菌': '',\n",
       " '维生素C': '草糖透',\n",
       " '胆红素': '浑',\n",
       " '葡萄糖': '-',\n",
       " '酮体': '-',\n",
       " '酸碱度': '',\n",
       " '隐血': '',\n",
       " '颜色': ''}"
      ]
     },
     "execution_count": 33,
     "metadata": {},
     "output_type": "execute_result"
    }
   ],
   "source": [
    "result"
   ]
  },
  {
   "cell_type": "code",
   "execution_count": null,
   "metadata": {},
   "outputs": [],
   "source": []
  }
 ],
 "metadata": {
  "kernelspec": {
   "display_name": "Python 3",
   "language": "python",
   "name": "python3"
  },
  "language_info": {
   "codemirror_mode": {
    "name": "ipython",
    "version": 3
   },
   "file_extension": ".py",
   "mimetype": "text/x-python",
   "name": "python",
   "nbconvert_exporter": "python",
   "pygments_lexer": "ipython3",
   "version": "3.6.8"
  }
 },
 "nbformat": 4,
 "nbformat_minor": 2
}
