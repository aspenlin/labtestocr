{
 "cells": [
  {
   "cell_type": "code",
   "execution_count": 2,
   "metadata": {},
   "outputs": [],
   "source": [
    "import cv2"
   ]
  },
  {
   "cell_type": "code",
   "execution_count": 6,
   "metadata": {},
   "outputs": [
    {
     "data": {
      "text/plain": [
       "True"
      ]
     },
     "execution_count": 6,
     "metadata": {},
     "output_type": "execute_result"
    }
   ],
   "source": [
    "filename = 'urine5.jpeg'\n",
    "img = cv2.imread(filename, 0)\n",
    "# resize\n",
    "img_resize = cv2.resize(img, (3840, 2160))\n",
    "# blur\n",
    "# img_blur = cv2.medianBlur(img_resize,5)\n",
    "# contrast\n",
    "clahe = cv2.createCLAHE(clipLimit=1, tileGridSize=(8,8))\n",
    "img_con = clahe.apply(img_resize)\n",
    "# threshold\n",
    "img_thres = cv2.adaptiveThreshold(img_con, 255, cv2.ADAPTIVE_THRESH_MEAN_C, cv2.THRESH_BINARY,9,15)\n",
    "# invert\n",
    "# img_thres = cv2.bitwise_not(img_thres)\n",
    "# save\n",
    "cv2.imwrite('urine5_cv2.jpeg', img_thres)"
   ]
  },
  {
   "cell_type": "code",
   "execution_count": null,
   "metadata": {},
   "outputs": [],
   "source": []
  }
 ],
 "metadata": {
  "kernelspec": {
   "display_name": "Python 3",
   "language": "python",
   "name": "python3"
  },
  "language_info": {
   "codemirror_mode": {
    "name": "ipython",
    "version": 3
   },
   "file_extension": ".py",
   "mimetype": "text/x-python",
   "name": "python",
   "nbconvert_exporter": "python",
   "pygments_lexer": "ipython3",
   "version": "3.5.2"
  }
 },
 "nbformat": 4,
 "nbformat_minor": 2
}
