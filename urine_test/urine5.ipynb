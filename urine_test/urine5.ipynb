{
 "cells": [
  {
   "cell_type": "code",
   "execution_count": 1,
   "metadata": {},
   "outputs": [],
   "source": [
    "import re"
   ]
  },
  {
   "cell_type": "code",
   "execution_count": 19,
   "metadata": {},
   "outputs": [],
   "source": [
    "from PIL import Image"
   ]
  },
  {
   "cell_type": "code",
   "execution_count": 2,
   "metadata": {
    "scrolled": true
   },
   "outputs": [
    {
     "name": "stderr",
     "output_type": "stream",
     "text": [
      "/home/ubuntu/.local/lib/python3.5/site-packages/fuzzywuzzy/fuzz.py:11: UserWarning: Using slow pure-python SequenceMatcher. Install python-Levenshtein to remove this warning\n",
      "  warnings.warn('Using slow pure-python SequenceMatcher. Install python-Levenshtein to remove this warning')\n"
     ]
    }
   ],
   "source": [
    "from fuzzywuzzy import fuzz\n",
    "from fuzzywuzzy import process"
   ]
  },
  {
   "cell_type": "code",
   "execution_count": 3,
   "metadata": {},
   "outputs": [],
   "source": [
    "from tesserocr import PyTessBaseAPI"
   ]
  },
  {
   "cell_type": "code",
   "execution_count": 24,
   "metadata": {},
   "outputs": [],
   "source": [
    "img = 'urine20_resize800_border10.jpg'\n",
    "with PyTessBaseAPI(lang='chi_sim',psm=6) as api:\n",
    "    api.SetVariable('tessedit_char_whitelist','<=?+().^~\\\n",
    "    尿液分析胆原红素酮体血蛋白质亚硝酸盐细胞葡萄糖比重碱度镜检上皮管型结晶其他有形成份阴\\\n",
    "    性无结果项目名称参考区间单位颜色黄浊清～/值隐-位相电导率仅供类酵母菌粘液丝计数病理量信息完整高倍提示低潜正常浑\\\n",
    "    酯酶小圆非均一级标记视野平体积百阳微透明澄浅直接未见异维生外观晰个路感染态受损滴虫霉菌每鳞状柱粒草肌酐钙\\\n",
    "    abcdefghijklmnopqrstuvwxyzABCDEFGHIJKLMNOPQRSTUVWXYZ0123456789')\n",
    "    api.SetVariable('preserve_interword_spaces','1')\n",
    "#     api.SetVariable('tessedit_create_pdf','1')\n",
    "#     api.ProcessPage('test', Image.open(img), 0, 'text')\n",
    "    api.SetImageFile(img)\n",
    "    text = api.GetUTF8Text()"
   ]
  },
  {
   "cell_type": "code",
   "execution_count": 25,
   "metadata": {},
   "outputs": [
    {
     "data": {
      "text/plain": [
       "'No 项目名称    结果 单位 参考区间 提示 No 项目名称    结果 单位 - 参考区间 提示\\n1 尿亚硝酸盐       -         阴性 (-)    17 白细胞镜检      0    /HP 0-4. 0\\n2 酸碱度 (pH)       6. 0         4. 0-8. 0     18 上皮细胞镜检      0    /AHP   0-~-1\\n\\n3 尿糖         -        阴性(-)    19 维生素C       0\\n\\n4 尿生          <          阴性 (-)     20 尿          2. 50 mmol/ 2. 57. 5\\n5 微生         10. 00 nmg/LL   K=30      21 透明管型        0    /LP   0-1\\n\\n6 微白蛋白/尿肌酐    <3. 40 mg/mmol 3. 4       22 颜粒管型        0 0\\n\\n7 尿隐血         1          明性 (-)\\n\\n8 尿酮体          -          阴性(-)\\n\\n9 肌          17. 70 mmol/yL 4. 4-17. 7\\n\\n10 尿胆红素       -        阳性 t-)\\n\\n11 胆                       3. 4                     <=17\\n\\n12 尿比重                1. 025            1. 003-1. 09\\n\\n13 尿红细胞计数              1. 0        Aul        0~-22\\n\\n14 尿白细胞计数     0. 0   Aul   0~22\\n\\n15 上皮细胞计数         0. 0      Aul     0-5. 1\\n\\nt6 红细胞镜检                       0               /AHP          0-4. 0\\n'"
      ]
     },
     "execution_count": 25,
     "metadata": {},
     "output_type": "execute_result"
    }
   ],
   "source": [
    "text"
   ]
  },
  {
   "cell_type": "code",
   "execution_count": 26,
   "metadata": {},
   "outputs": [],
   "source": [
    "# remove space after dot\n",
    "num = 0\n",
    "for i in range(len(text)-1):\n",
    "    if num+i >= len(text)-1:\n",
    "        break\n",
    "    if (text[i] == '.') & (text[1+i] == ' '):\n",
    "        num += 1\n",
    "        text = text[:i+1] + text[i+2:]\n",
    "        \n",
    "#split the text as a list of strings\n",
    "text_split = text.split()"
   ]
  },
  {
   "cell_type": "code",
   "execution_count": 27,
   "metadata": {
    "collapsed": true
   },
   "outputs": [
    {
     "data": {
      "text/plain": [
       "['No',\n",
       " '项目名称',\n",
       " '结果',\n",
       " '单位',\n",
       " '参考区间',\n",
       " '提示',\n",
       " 'No',\n",
       " '项目名称',\n",
       " '结果',\n",
       " '单位',\n",
       " '-',\n",
       " '参考区间',\n",
       " '提示',\n",
       " '1',\n",
       " '尿亚硝酸盐',\n",
       " '-',\n",
       " '阴性',\n",
       " '(-)',\n",
       " '17',\n",
       " '白细胞镜检',\n",
       " '0',\n",
       " '/HP',\n",
       " '0-4.0',\n",
       " '2',\n",
       " '酸碱度',\n",
       " '(pH)',\n",
       " '6.0',\n",
       " '4.0-8.0',\n",
       " '18',\n",
       " '上皮细胞镜检',\n",
       " '0',\n",
       " '/AHP',\n",
       " '0-~-1',\n",
       " '3',\n",
       " '尿糖',\n",
       " '-',\n",
       " '阴性(-)',\n",
       " '19',\n",
       " '维生素C',\n",
       " '0',\n",
       " '4',\n",
       " '尿生',\n",
       " '<',\n",
       " '阴性',\n",
       " '(-)',\n",
       " '20',\n",
       " '尿',\n",
       " '2.50',\n",
       " 'mmol/',\n",
       " '2.57.5',\n",
       " '5',\n",
       " '微生',\n",
       " '10.00',\n",
       " 'nmg/LL',\n",
       " 'K=30',\n",
       " '21',\n",
       " '透明管型',\n",
       " '0',\n",
       " '/LP',\n",
       " '0-1',\n",
       " '6',\n",
       " '微白蛋白/尿肌酐',\n",
       " '<3.40',\n",
       " 'mg/mmol',\n",
       " '3.4',\n",
       " '22',\n",
       " '颜粒管型',\n",
       " '0',\n",
       " '0',\n",
       " '7',\n",
       " '尿隐血',\n",
       " '1',\n",
       " '明性',\n",
       " '(-)',\n",
       " '8',\n",
       " '尿酮体',\n",
       " '-',\n",
       " '阴性(-)',\n",
       " '9',\n",
       " '肌',\n",
       " '17.70',\n",
       " 'mmol/yL',\n",
       " '4.4-17.7',\n",
       " '10',\n",
       " '尿胆红素',\n",
       " '-',\n",
       " '阳性',\n",
       " 't-)',\n",
       " '11',\n",
       " '胆',\n",
       " '3.4',\n",
       " '<=17',\n",
       " '12',\n",
       " '尿比重',\n",
       " '1.025',\n",
       " '1.003-1.09',\n",
       " '13',\n",
       " '尿红细胞计数',\n",
       " '1.0',\n",
       " 'Aul',\n",
       " '0~-22',\n",
       " '14',\n",
       " '尿白细胞计数',\n",
       " '0.0',\n",
       " 'Aul',\n",
       " '0~22',\n",
       " '15',\n",
       " '上皮细胞计数',\n",
       " '0.0',\n",
       " 'Aul',\n",
       " '0-5.1',\n",
       " 't6',\n",
       " '红细胞镜检',\n",
       " '0',\n",
       " '/AHP',\n",
       " '0-4.',\n",
       " '0']"
      ]
     },
     "execution_count": 27,
     "metadata": {},
     "output_type": "execute_result"
    }
   ],
   "source": [
    "text_split"
   ]
  },
  {
   "cell_type": "code",
   "execution_count": 7,
   "metadata": {},
   "outputs": [],
   "source": [
    "#create a dict for regular expression\n",
    "urine_dict = {}\n",
    "urine_dict['尿胆原'] = ['尿胆原','尿胆原\\(URO\\)','尿胆原\\(UBG\\)','尿胆原\\s*URO']\n",
    "urine_dict['胆红素'] = ['胆红素','尿胆红素','胆红素\\s*\\(BIL\\)','胆红素\\s*BIL']\n",
    "urine_dict['酮体'] = ['酮体','尿酮体','酮体 \\(KET\\)','酮 体','酮体\\(KET\\)','酮体\\s*KET']\n",
    "urine_dict['隐血'] = ['血','隐血','潜血','尿隐血','尿潜血','隐血或红细胞\\(BLD\\)','尿潜血\\(BLD\\)','隐血\\s*BLD']\n",
    "urine_dict['尿蛋白'] = ['蛋白质','尿蛋白','蛋白质\\(PRO\\)','蛋白','蛋白质\\s*PRO']\n",
    "urine_dict['亚硝酸盐'] = ['亚硝酸盐','尿亚硝酸盐','亚硝酸盐\\(NIT\\)','亚硝酸\\s*NIT']\n",
    "urine_dict['葡萄糖'] = ['葡萄糖','尿糖','尿葡萄糖','尿糖\\(GLU\\)','葡萄糖\\s*GLU']\n",
    "urine_dict['比重'] = ['比重','尿比重','比重 \\(SG\\)','比 重','比重\\(SG\\)']\n",
    "urine_dict['酸碱度'] = ['酸碱度','尿PH值','尿酸碱度','PH','酸碱度\\(PH\\)','尿PH','pH值\\(PH\\)','酸碱度\\(pH\\)','酸碱度\\s*PH']\n",
    "urine_dict['颜色'] = ['颜色','颜色\\s*\\(COLOR\\)','尿液外观']\n",
    "urine_dict['浑浊度'] = ['浊度','浑浊度','透明度\\(TMD\\)','透明度','尿透明度','外观','清晰度']\n",
    "urine_dict['电导率'] = ['电导率','电导率\\s*Cond']\n",
    "urine_dict['电导率信息'] = ['电导率分级','电导率信息']\n",
    "urine_dict['结晶'] = ['结晶','结晶数量','结晶标记']\n",
    "urine_dict['类酵母菌'] = ['类酵母菌','类酵母细胞数量','类酵母细胞标记','酵母样菌','类酵母细胞数量\\s*YLC']\n",
    "urine_dict['粘液丝'] = ['粘液丝','粘液丝数量','粘液','粘液丝数量\\s*MCLS']\n",
    "urine_dict['细菌'] = ['细菌计数','细菌','细菌\\s*BACT']\n",
    "urine_dict['维生素C'] = ['VC','维生素C','维生素C\\s*VC']\n",
    "urine_dict['完整红细胞比率'] = ['完整红细胞比率','完整红细胞百分比','完整红细胞百分比\\s*NL-RBC%']\n",
    "urine_dict['完整红细胞数量'] = ['完整红细胞数量','完整红细胞绝对值','完整红细胞绝对值\\s*NL-RBC#']\n",
    "urine_dict['尿路感染信息'] = ['尿路感染信息']\n",
    "urine_dict['尿钙'] = ['尿钙']\n",
    "urine_dict['精子'] = ['精子']\n",
    "urine_dict['其他有形成份'] = ['其他有形成份']\n",
    "urine_dict['70%红细胞平均体积'] = ['70%红细胞平均体积','70%红细胞平均体积\\s*RBC-P70']\n",
    "urine_dict['白细胞(高倍视野)'] = ['白细胞\\(HPF\\)','白细胞\\(高倍\\)','每高倍视野白细胞数','白细胞\\(高倍视野\\)']\n",
    "urine_dict['红细胞(高倍视野)'] = ['红细胞\\(高倍\\)','红细胞\\(HPF\\)','每高倍视野白细胞数','红细胞\\(高倍视野\\)','红细胞\\s*(RBC)']\n",
    "urine_dict['上皮细胞(高倍视野)'] = ['上皮细胞\\(高倍视野\\)','上皮细胞\\(高倍\\)','每高倍视野上皮细胞数']\n",
    "urine_dict['红细胞信息'] = ['红细胞信息','红细胞形态信息','红细胞形态变异信息','红细胞信息\\s*info']\n",
    "urine_dict['红细胞镜检'] = ['直接镜检-红细胞','镜检红细胞','红细胞\\(镜检\\)','镜检：红细胞\\(RBC\\)','红细胞镜检']\n",
    "urine_dict['白细胞镜检'] = ['直接镜检-白细胞','镜检白细胞','白细胞\\(镜检\\)','镜检：白细胞','白细胞镜检']\n",
    "urine_dict['上皮细胞镜检'] = ['上皮细胞\\(镜检\\)','上皮细胞镜检']\n",
    "urine_dict['小圆上皮细胞'] = ['小圆上皮','小圆上皮细胞','小圆上皮细胞标记','小圆上皮细胞数量','小圆细胞','上皮细胞','上皮细胞计数']\n",
    "urine_dict['管型'] = ['管型','管型计数','管型计数\\s*\\(CAST\\)','管型\\s*CAST']\n",
    "urine_dict['病理管型'] = ['病理管型','病理管型\\s*P.CAST','病理管型标记']\n",
    "urine_dict['管型低倍'] =['管型低倍','管型\\(低倍视野\\)','管型\\(低倍\\)','管型\\s* \\(LPF\\)','每低倍视野透明管型数']\n",
    "urine_dict['透明管型镜检'] = ['透明管型\\(镜检\\)','透明管型','镜检：透明管型','直接镜检-管型','透明管型']\n",
    "urine_dict['颗粒管型镜检'] = ['颗粒管型\\(镜检\\)','颗粒管型','镜检：粒状管型']\n",
    "urine_dict['细胞管型镜检'] = ['细胞管型\\s*\\(镜检\\)']\n",
    "# pos/neg\n",
    "urine_dict['白细胞'] = ['白细胞','白细胞\\(LEU\\)','尿白细胞\\(LEU\\)','白细胞\\s*WBC']\n",
    "# count\n",
    "urine_dict['白细胞计数'] = ['白细胞计数','白细胞计数(WBC)','白细胞\\(UF\\)','白细胞\\(UF-1000i\\)','白细胞','白细胞\\(UF\\)\\s*WBC\\(UF\\)','尿白细胞计数']\n",
    "urine_dict['红细胞计数'] = ['红细胞计数','红细胞计数(RBC)','红细胞计数\\s*\\(RBC\\)','红细胞\\(UF\\)','红细胞','尿红细胞计数']\n",
    "# sort the names according to their length, longest name first\n",
    "for k, names in urine_dict.items():\n",
    "    names.sort(key = lambda s: -len(s))\n",
    "    \n",
    "# names of the tests\n",
    "urine_tests = list(urine_dict.keys())\n",
    "    \n",
    "# result is the dict where we store test names and values\n",
    "result = {}\n",
    "for test in urine_tests:\n",
    "    result.setdefault(test, '')\n",
    "    \n",
    "    "
   ]
  },
  {
   "cell_type": "code",
   "execution_count": 8,
   "metadata": {},
   "outputs": [],
   "source": [
    "# find the perfect match for test names\n",
    "for k, names in urine_dict.items():\n",
    "    for name in names:\n",
    "        value = re.findall(''.join([name, '(\\s*)(\\S{1,6})']), text)\n",
    "        if value:\n",
    "            result[k] = value[0][1]\n",
    "            break"
   ]
  },
  {
   "cell_type": "code",
   "execution_count": 9,
   "metadata": {},
   "outputs": [
    {
     "data": {
      "text/plain": [
       "{'70%红细胞平均体积': '',\n",
       " '上皮细胞(高倍视野)': '',\n",
       " '上皮细胞镜检': '0',\n",
       " '亚硝酸盐': '-',\n",
       " '其他有形成份': '',\n",
       " '完整红细胞数量': '',\n",
       " '完整红细胞比率': '',\n",
       " '小圆上皮细胞': '0.0',\n",
       " '尿胆原': '',\n",
       " '尿蛋白': '/尿肌酐',\n",
       " '尿路感染信息': '',\n",
       " '尿钙': '',\n",
       " '比重': '1.025',\n",
       " '浑浊度': '',\n",
       " '电导率': '',\n",
       " '电导率信息': '',\n",
       " '病理管型': '',\n",
       " '白细胞': '镜检',\n",
       " '白细胞(高倍视野)': '',\n",
       " '白细胞计数': '0.0',\n",
       " '白细胞镜检': '0',\n",
       " '管型': '0',\n",
       " '管型低倍': '',\n",
       " '类酵母菌': '',\n",
       " '粘液丝': '',\n",
       " '精子': '',\n",
       " '红细胞(高倍视野)': '',\n",
       " '红细胞信息': '',\n",
       " '红细胞计数': '1.0',\n",
       " '红细胞镜检': '0',\n",
       " '细胞管型镜检': '',\n",
       " '细菌': '',\n",
       " '结晶': '',\n",
       " '维生素C': '0',\n",
       " '胆红素': '-',\n",
       " '葡萄糖': '-',\n",
       " '透明管型镜检': '0',\n",
       " '酮体': '-',\n",
       " '酸碱度': '(pH)',\n",
       " '隐血': '1',\n",
       " '颗粒管型镜检': '',\n",
       " '颜色': ''}"
      ]
     },
     "execution_count": 9,
     "metadata": {},
     "output_type": "execute_result"
    }
   ],
   "source": [
    "result"
   ]
  },
  {
   "cell_type": "code",
   "execution_count": 10,
   "metadata": {},
   "outputs": [
    {
     "name": "stdout",
     "output_type": "stream",
     "text": [
      "病理管型 ('透明管型', 50)\n",
      "上皮细胞(高倍视野) ('上皮细胞镜检', 53)\n",
      "完整红细胞比率 ('红细胞镜检', 50)\n",
      "白细胞(高倍视野) ('白细胞镜检', 46)\n",
      "浑浊度 ('酸碱度', 33)\n",
      "尿钙 ('尿', 67)\n",
      "粘液丝 ('No', 0)\n",
      "尿胆原 ('尿胆红素', 57)\n",
      "细胞管型镜检 ('白细胞镜检', 73)\n",
      "尿路感染信息 ('尿', 29)\n",
      "电导率 ('No', 0)\n",
      "电导率信息 ('No', 0)\n",
      "管型低倍 ('透明管型', 50)\n",
      "结晶 ('结果', 50)\n",
      "其他有形成份 ('No', 0)\n",
      "颜色 ('颜粒管型', 33)\n",
      "精子 ('No', 0)\n",
      "红细胞(高倍视野) ('红细胞镜检', 46)\n",
      "细菌 ('白细胞镜检', 29)\n",
      "70%红细胞平均体积 ('红细胞镜检', 40)\n",
      "完整红细胞数量 ('尿红细胞计数', 62)\n",
      "红细胞信息 ('红细胞镜检', 60)\n",
      "颗粒管型镜检 ('颜粒管型', 60)\n",
      "类酵母菌 ('No', 0)\n"
     ]
    }
   ],
   "source": [
    "for k, v in result.items():\n",
    "    if not v:\n",
    "        fuzzy = process.extractOne(k, text_split, scorer=fuzz.ratio)\n",
    "        print(k, fuzzy)\n",
    "        if fuzzy[1] >= 60:\n",
    "            name = fuzzy[0]\n",
    "            if '(' in name:\n",
    "                    index = name.find('(')\n",
    "                    name = name[:index] + '\\\\' + name[index:]\n",
    "            if ')' in name:\n",
    "                    index = name.find(')')\n",
    "                    name = name[:index] + '\\\\' + name[index:]\n",
    "            value = re.findall(''.join([name, '(\\s*)(\\S{1,6})']), text)\n",
    "            if value:\n",
    "                result[k] = value[0][1]"
   ]
  },
  {
   "cell_type": "code",
   "execution_count": 22,
   "metadata": {},
   "outputs": [
    {
     "name": "stdout",
     "output_type": "stream",
     "text": [
      "(pH) p\n",
      "镜检 镜\n",
      "亚硝酸盐 亚\n",
      "/尿肌酐 肌\n"
     ]
    }
   ],
   "source": [
    "char_allowed = '0123456789.+-()尿路感染?红色性弱阴阳未见异常提示检出无<= 清分类正常见浅微黄澄清晰浑浊非均一型红细胞级NORMALNEGnegnormal/HP'\n",
    "# in preparation for jsonify\n",
    "rl = []\n",
    "for k, v in result.items():\n",
    "    r = {}\n",
    "    r['test_name'] = k\n",
    "    r['value'] = v\n",
    "    if not v:\n",
    "        confidence = 0\n",
    "    else:\n",
    "        confidence = 100\n",
    "    for c in v:\n",
    "        if c not in char_allowed:\n",
    "            print(v, c)\n",
    "            confidence = 0\n",
    "            break\n",
    "    r['confidence'] = confidence\n",
    "    rl.append(r)\n",
    "    \n",
    "    \n",
    "    "
   ]
  },
  {
   "cell_type": "code",
   "execution_count": 24,
   "metadata": {
    "scrolled": true
   },
   "outputs": [
    {
     "data": {
      "text/plain": [
       "[{'confidence': 0, 'test_name': '酸碱度', 'value': '(pH)'},\n",
       " {'confidence': 100, 'test_name': '酮体', 'value': '-'},\n",
       " {'confidence': 100, 'test_name': '红细胞计数', 'value': '1.0'},\n",
       " {'confidence': 0, 'test_name': '病理管型', 'value': ''},\n",
       " {'confidence': 100, 'test_name': '红细胞镜检', 'value': '0'},\n",
       " {'confidence': 100, 'test_name': '上皮细胞镜检', 'value': '0'},\n",
       " {'confidence': 100, 'test_name': '小圆上皮细胞', 'value': '0.0'},\n",
       " {'confidence': 100, 'test_name': '隐血', 'value': '1'},\n",
       " {'confidence': 0, 'test_name': '上皮细胞(高倍视野)', 'value': ''},\n",
       " {'confidence': 0, 'test_name': '完整红细胞比率', 'value': ''},\n",
       " {'confidence': 0, 'test_name': '白细胞(高倍视野)', 'value': ''},\n",
       " {'confidence': 0, 'test_name': '浑浊度', 'value': ''},\n",
       " {'confidence': 0, 'test_name': '白细胞', 'value': '镜检'},\n",
       " {'confidence': 0, 'test_name': '尿钙', 'value': '亚硝酸盐'},\n",
       " {'confidence': 0, 'test_name': '粘液丝', 'value': ''},\n",
       " {'confidence': 0, 'test_name': '尿胆原', 'value': ''},\n",
       " {'confidence': 100, 'test_name': '管型', 'value': '0'},\n",
       " {'confidence': 100, 'test_name': '细胞管型镜检', 'value': '0'},\n",
       " {'confidence': 0, 'test_name': '尿路感染信息', 'value': ''},\n",
       " {'confidence': 0, 'test_name': '电导率', 'value': ''},\n",
       " {'confidence': 0, 'test_name': '电导率信息', 'value': ''},\n",
       " {'confidence': 100, 'test_name': '维生素C', 'value': '0'},\n",
       " {'confidence': 100, 'test_name': '亚硝酸盐', 'value': '-'},\n",
       " {'confidence': 100, 'test_name': '比重', 'value': '1.025'},\n",
       " {'confidence': 0, 'test_name': '管型低倍', 'value': ''},\n",
       " {'confidence': 100, 'test_name': '葡萄糖', 'value': '-'},\n",
       " {'confidence': 0, 'test_name': '尿蛋白', 'value': '/尿肌酐'},\n",
       " {'confidence': 0, 'test_name': '结晶', 'value': ''},\n",
       " {'confidence': 0, 'test_name': '其他有形成份', 'value': ''},\n",
       " {'confidence': 0, 'test_name': '颜色', 'value': ''},\n",
       " {'confidence': 0, 'test_name': '精子', 'value': ''},\n",
       " {'confidence': 0, 'test_name': '红细胞(高倍视野)', 'value': ''},\n",
       " {'confidence': 100, 'test_name': '白细胞计数', 'value': '0.0'},\n",
       " {'confidence': 0, 'test_name': '细菌', 'value': ''},\n",
       " {'confidence': 0, 'test_name': '70%红细胞平均体积', 'value': ''},\n",
       " {'confidence': 100, 'test_name': '胆红素', 'value': '-'},\n",
       " {'confidence': 100, 'test_name': '完整红细胞数量', 'value': '1.0'},\n",
       " {'confidence': 100, 'test_name': '红细胞信息', 'value': '0'},\n",
       " {'confidence': 100, 'test_name': '透明管型镜检', 'value': '0'},\n",
       " {'confidence': 100, 'test_name': '颗粒管型镜检', 'value': '0'},\n",
       " {'confidence': 100, 'test_name': '白细胞镜检', 'value': '0'},\n",
       " {'confidence': 0, 'test_name': '类酵母菌', 'value': ''}]"
      ]
     },
     "execution_count": 24,
     "metadata": {},
     "output_type": "execute_result"
    }
   ],
   "source": [
    "rl"
   ]
  },
  {
   "cell_type": "code",
   "execution_count": null,
   "metadata": {},
   "outputs": [],
   "source": []
  }
 ],
 "metadata": {
  "kernelspec": {
   "display_name": "Python 3",
   "language": "python",
   "name": "python3"
  },
  "language_info": {
   "codemirror_mode": {
    "name": "ipython",
    "version": 3
   },
   "file_extension": ".py",
   "mimetype": "text/x-python",
   "name": "python",
   "nbconvert_exporter": "python",
   "pygments_lexer": "ipython3",
   "version": "3.5.2"
  }
 },
 "nbformat": 4,
 "nbformat_minor": 2
}
