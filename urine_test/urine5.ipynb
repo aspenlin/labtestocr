{
 "cells": [
  {
   "cell_type": "code",
   "execution_count": 1,
   "metadata": {},
   "outputs": [],
   "source": [
    "import re"
   ]
  },
  {
   "cell_type": "code",
   "execution_count": 2,
   "metadata": {},
   "outputs": [],
   "source": [
    "from fuzzywuzzy import fuzz\n",
    "from fuzzywuzzy import process"
   ]
  },
  {
   "cell_type": "code",
   "execution_count": 3,
   "metadata": {},
   "outputs": [],
   "source": [
    "with open('urine5.txt', 'r') as f:\n",
    "    text = f.read()\n",
    "    \n",
    "#split the text as a list of strings\n",
    "text_split = text.split()"
   ]
  },
  {
   "cell_type": "code",
   "execution_count": 23,
   "metadata": {},
   "outputs": [
    {
     "data": {
      "text/plain": [
       "['间jtz重霉霉未fL阴滴尿检理镜结果比损管单',\n",
       " 'c',\n",
       " 'puslloisnipygcstutytitttRsxasax',\n",
       " '感考名相1',\n",
       " '性',\n",
       " '平路30',\n",
       " '病000000000279631t',\n",
       " '标积类',\n",
       " '完2',\n",
       " '尿导',\n",
       " '视',\n",
       " '常4',\n",
       " '素直间2018/4/24838.00',\n",
       " '每浊',\n",
       " '性区糖性4直间2018/4/2483800000000',\n",
       " '尿项目结果参考-尿项目结果参考尿平标项目结果参考草',\n",
       " '红细胞计数',\n",
       " '6.90',\n",
       " '0-257UL',\n",
       " '红细胞(高倍视野)1.24',\n",
       " '0-4.5/HPF',\n",
       " '重',\n",
       " '潜血',\n",
       " '阴性',\n",
       " '一',\n",
       " '白细胞计数',\n",
       " '900-30/UL白细胞(高倍视野)0.880-5.4/HPF白细胞',\n",
       " '阴性0-10',\n",
       " 'a',\n",
       " 'VC',\n",
       " '阴性',\n",
       " 'mmol',\n",
       " '一皮细胞计数1300-15/UL上皮细胞(高倍视0.230-2.7/HPF',\n",
       " '型(低倍视野)',\n",
       " 'l硝标一',\n",
       " '1',\n",
       " '0.00',\n",
       " '0-0.7/ull管',\n",
       " '0',\n",
       " '-2',\n",
       " '管型计数',\n",
       " 'ull管',\n",
       " 'g',\n",
       " 'i',\n",
       " '细菌计数',\n",
       " '31.900-3324ul细菌(高倍视野)5.740-1080HPF',\n",
       " '胆红素',\n",
       " '明性-',\n",
       " '病理管型',\n",
       " '0.00/ul',\n",
       " '小圆上皮细胞0.00l',\n",
       " '尿胆原',\n",
       " 'F常-',\n",
       " '类酵母细胞数量0.00',\n",
       " 'Aul',\n",
       " '结数量',\n",
       " '0.50',\n",
       " 'l',\n",
       " '萄糖',\n",
       " '明性-',\n",
       " '电导率',\n",
       " '53',\n",
       " '5-38mSy/ct液丝',\n",
       " '0.00',\n",
       " 'A',\n",
       " ')',\n",
       " '酮体',\n",
       " '阴性',\n",
       " '-',\n",
       " '红细胞信息',\n",
       " '未提示',\n",
       " '708红细胞平均体明-----.一ch',\n",
       " '酸碱度',\n",
       " '7.0068',\n",
       " '比重',\n",
       " '1.0101.003-1.',\n",
       " '完整红细胞数量4.50/ul',\n",
       " '完整红细胞比率66.008',\n",
       " '030',\n",
       " ')',\n",
       " '区白2018737242018/4/24151916',\n",
       " '接考菌考',\n",
       " '正仅检标结果仅供参考.',\n",
       " '电浑0311-88141567']"
      ]
     },
     "execution_count": 23,
     "metadata": {},
     "output_type": "execute_result"
    }
   ],
   "source": [
    "text_split"
   ]
  },
  {
   "cell_type": "code",
   "execution_count": 18,
   "metadata": {},
   "outputs": [],
   "source": [
    "# names of the tests    \n",
    "urine_tests = ['尿胆原','胆红素','酮体','隐血','尿蛋白','亚硝酸盐','葡萄糖','比重','酸碱度','颜色','浑浊度',\n",
    "              '电导率','电导率信息','类酵母菌','粘液丝','细菌','维生素C','完整红细胞比率','尿路感染信息',\n",
    "              '尿钙','精子','完整红细胞绝对值','其他有形成份','70%红细胞平均体积','白细胞(高倍视野)',\n",
    "              '红细胞(高倍视野)','上皮细胞（高倍视野）','红细胞信息','红细胞镜检','白细胞镜检','上皮细胞镜检',\n",
    "              '小圆上皮细胞','管型','结晶','白细胞','白细胞(UF)']\n",
    "\n",
    "#create a dict for regular expression\n",
    "urine_dict = {}\n",
    "urine_dict['尿胆原'] = ['尿胆原','尿胆原\\(URO\\)','尿胆原\\(UBG\\)','尿胆原\\s*URO']\n",
    "urine_dict['胆红素'] = ['胆红素','尿胆红素','胆红素\\(BIL\\)','胆红素\\s*BIL']\n",
    "urine_dict['酮体'] = ['酮体','尿酮体','酮体 \\(KET\\)','酮 体','酮体\\(KET\\)','酮体\\s*KET']\n",
    "urine_dict['隐血'] = ['血','隐血','潜血','尿隐血','尿潜血','隐血或红细胞\\(BLD\\)','尿潜血\\(BLD\\)','隐血\\s*BLD']\n",
    "urine_dict['尿蛋白'] = ['蛋白质','尿蛋白','蛋白质\\(PRO\\)','蛋白','蛋白质\\s*PRO']\n",
    "urine_dict['亚硝酸盐'] = ['亚硝酸盐','尿亚硝酸盐','亚硝酸盐\\(NIT\\)','亚硝酸\\s*NIT']\n",
    "urine_dict['葡萄糖'] = ['葡萄糖','尿糖','尿葡萄糖','尿糖\\(GLU\\)','葡萄糖\\s*GLU']\n",
    "urine_dict['比重'] = ['比重','尿比重','比重 \\(SG\\)','比 重','比重\\(SG\\)']\n",
    "urine_dict['酸碱度'] = ['酸碱度','尿PH值','尿酸碱度','PH','酸碱度\\(PH\\)','尿PH','pH值\\(PH\\)','酸碱度\\(pH\\)','酸碱度\\s*PH']\n",
    "urine_dict['颜色'] = ['颜色','颜色 \\(Color\\)','尿液外观']\n",
    "urine_dict['浑浊度'] = ['浊度','浑浊度','透明度\\(TMD\\)','透明度','尿透明度','外观','清晰度']\n",
    "urine_dict['电导率'] = ['电导率','电导率\\s*Cond']\n",
    "urine_dict['电导率信息'] = ['电导率分级','电导率信息']\n",
    "urine_dict['结晶'] = ['结晶','结晶数量','结晶标记']\n",
    "urine_dict['类酵母菌'] = ['类酵母菌','类酵母细胞数量','类酵母细胞标记','酵母样菌','类酵母细胞数量\\s*YLC']\n",
    "urine_dict['粘液丝'] = ['粘液丝','粘液丝数量','粘液','粘液丝数量\\s*MCLS']\n",
    "urine_dict['细菌'] = ['细菌计数','细菌','细菌\\s*BACT']\n",
    "urine_dict['维生素C'] = ['VC','维生素C','维生素C\\s*VC']\n",
    "urine_dict['完整红细胞比率'] = ['完整红细胞比率','完整红细胞百分比','完整红细胞百分比\\s*NL-RBC%']\n",
    "urine_dict['尿路感染信息'] = ['尿路感染信息']\n",
    "urine_dict['尿钙'] = ['尿钙']\n",
    "urine_dict['精子'] = ['精子']\n",
    "urine_dict['完整红细胞绝对值'] = ['完整红细胞绝对值','完整红细胞绝对值\\s*NL-RBC#']\n",
    "urine_dict['其他有形成份'] = ['其他有形成份']\n",
    "urine_dict['70%红细胞平均体积'] = ['70%红细胞平均体积','70%红细胞平均体积\\s*RBC-P70']\n",
    "urine_dict['白细胞(高倍视野)'] = ['白细胞\\(HPF\\)','每高倍视野白细胞数','白细胞\\(高倍视野\\)']\n",
    "urine_dict['红细胞(高倍视野)'] = ['红细胞\\(高倍\\)','每高倍视野白细胞数','红细胞\\(高倍视野\\)']\n",
    "urine_dict['上皮细胞(高倍视野)'] = ['上皮细胞\\(高倍视野\\)','上皮细胞\\(高倍\\)','每高倍视野上皮细胞数']\n",
    "urine_dict['红细胞信息'] = ['红细胞信息','红细胞形态信息','红细胞形态变异信息','红细胞信息\\s*info']\n",
    "urine_dict['红细胞镜检'] = ['直接镜检-红细胞','镜检红细胞','红细胞\\(镜检\\)','镜检：红细胞\\(RBC\\)','红细胞镜检']\n",
    "urine_dict['白细胞镜检'] = ['直接镜检-白细胞','镜检白细胞','白细胞\\(镜检\\)','镜检：白细胞','白细胞镜检']\n",
    "urine_dict['上皮细胞镜检'] = ['上皮细胞\\(镜检\\)','上皮细胞镜检']\n",
    "urine_dict['小圆上皮细胞'] = ['小圆上皮','小圆上皮细胞','小圆上皮细胞标记','小圆上皮细胞数量','小圆细胞']\n",
    "urine_dict['管型'] = ['管型','管型计数','管型计数\\(CAST\\)','管型\\s*\\(LPF\\)']\n",
    "urine_dict['白细胞'] = ['白细胞']\n",
    "urine_dict['白细胞\\(UF\\)'] = ['白细胞\\(UF\\)']\n",
    "# sort the names according to their length, longest name first\n",
    "for k, names in urine_dict.items():\n",
    "    names.sort(key = lambda s: -len(s))\n",
    "    \n",
    "# result is the dict where we store test names and values\n",
    "result = {}\n",
    "for test in urine_tests:\n",
    "    result.setdefault(test, '')"
   ]
  },
  {
   "cell_type": "code",
   "execution_count": 19,
   "metadata": {},
   "outputs": [],
   "source": [
    "# find the perfect match for test names\n",
    "for k, names in urine_dict.items():\n",
    "    for name in names:\n",
    "        value = re.findall(''.join([name, '(\\s*)(\\S{1,4})']), text)\n",
    "        if value:\n",
    "            result[k] = value[0][1]\n",
    "            break"
   ]
  },
  {
   "cell_type": "code",
   "execution_count": 20,
   "metadata": {},
   "outputs": [
    {
     "data": {
      "text/plain": [
       "{'70%红细胞平均体积': '',\n",
       " '上皮细胞镜检': '',\n",
       " '上皮细胞（高倍视野）': '',\n",
       " '亚硝酸盐': '',\n",
       " '其他有形成份': '',\n",
       " '完整红细胞比率': '66.0',\n",
       " '完整红细胞绝对值': '',\n",
       " '小圆上皮细胞': '0.00',\n",
       " '尿胆原': 'F常-',\n",
       " '尿蛋白': '',\n",
       " '尿路感染信息': '',\n",
       " '尿钙': '',\n",
       " '比重': '1.01',\n",
       " '浑浊度': '',\n",
       " '电导率': '53',\n",
       " '电导率信息': '',\n",
       " '白细胞(高倍视野)': '0.88',\n",
       " '白细胞镜检': '',\n",
       " '管型': 'ull管',\n",
       " '类酵母菌': '0.00',\n",
       " '粘液丝': '',\n",
       " '精子': '',\n",
       " '红细胞(高倍视野)': '1.24',\n",
       " '红细胞信息': '未提示',\n",
       " '红细胞镜检': '',\n",
       " '细菌': '31.9',\n",
       " '结晶': '',\n",
       " '维生素C': '阴性',\n",
       " '胆红素': '明性-',\n",
       " '葡萄糖': '',\n",
       " '酮体': '阴性',\n",
       " '酸碱度': '7.00',\n",
       " '隐血': '阴性',\n",
       " '颜色': ''}"
      ]
     },
     "execution_count": 20,
     "metadata": {},
     "output_type": "execute_result"
    }
   ],
   "source": [
    "result"
   ]
  },
  {
   "cell_type": "code",
   "execution_count": 21,
   "metadata": {},
   "outputs": [
    {
     "name": "stdout",
     "output_type": "stream",
     "text": [
      "尿蛋白 [('尿导', 45)]\n",
      "亚硝酸盐 [('酸碱度', 29)]\n",
      "葡萄糖 [('萄糖', 90)]\n",
      "颜色 [('间jtz重霉霉未fL阴滴尿检理镜结果比损管单', 0)]\n",
      "浑浊度 [('每浊', 45)]\n",
      "电导率信息 [('电导率', 90)]\n",
      "粘液丝 [('5-38mSy/ct液丝', 60)]\n",
      "尿路感染信息 [('尿导', 45)]\n",
      "尿钙 [('尿导', 50)]\n",
      "精子 [('间jtz重霉霉未fL阴滴尿检理镜结果比损管单', 0)]\n",
      "完整红细胞绝对值 [('完整红细胞数量4.50/ul', 56)]\n",
      "其他有形成份 [('间jtz重霉霉未fL阴滴尿检理镜结果比损管单', 0)]\n",
      "70%红细胞平均体积 [('708红细胞平均体明-----.一ch', 72)]\n",
      "上皮细胞（高倍视野） [('900-30/UL白细胞(高倍视野)0.880-5.4/HPF白细胞', 86)]\n",
      "红细胞镜检 [('红细胞计数', 60)]\n",
      "白细胞镜检 [('白细胞计数', 60)]\n",
      "上皮细胞镜检 [('小圆上皮细胞0.00l', 62)]\n",
      "结晶 [('结数量', 45)]\n"
     ]
    }
   ],
   "source": [
    "for k, v in result.items():\n",
    "    if not v:\n",
    "        fuzzy = process.extract(k, text_split, limit=1)\n",
    "        print(k, fuzzy)\n",
    "        if fuzzy[0][1] >= 60:\n",
    "            name = fuzzy[0][0]\n",
    "            if '(' in name:\n",
    "                    index = name.find('(')\n",
    "                    name = name[:index] + '\\\\' + name[index:]\n",
    "            if ')' in name:\n",
    "                    index = name.find(')')\n",
    "                    name = name[:index] + '\\\\' + name[index:]\n",
    "            value = re.findall(''.join([name, '(\\s*)(\\S{1,4})']), text)\n",
    "            if value:\n",
    "                result[k] = value[0][1]"
   ]
  },
  {
   "cell_type": "code",
   "execution_count": 22,
   "metadata": {},
   "outputs": [
    {
     "data": {
      "text/plain": [
       "{'70%红细胞平均体积': '酸碱度',\n",
       " '上皮细胞镜检': '尿胆原',\n",
       " '上皮细胞（高倍视野）': '阴性0-',\n",
       " '亚硝酸盐': '',\n",
       " '其他有形成份': '',\n",
       " '完整红细胞比率': '66.0',\n",
       " '完整红细胞绝对值': '',\n",
       " '小圆上皮细胞': '0.00',\n",
       " '尿胆原': 'F常-',\n",
       " '尿蛋白': '',\n",
       " '尿路感染信息': '',\n",
       " '尿钙': '',\n",
       " '比重': '1.01',\n",
       " '浑浊度': '',\n",
       " '电导率': '53',\n",
       " '电导率信息': '53',\n",
       " '白细胞(高倍视野)': '0.88',\n",
       " '白细胞镜检': '900-',\n",
       " '管型': 'ull管',\n",
       " '类酵母菌': '0.00',\n",
       " '粘液丝': '0.00',\n",
       " '精子': '',\n",
       " '红细胞(高倍视野)': '1.24',\n",
       " '红细胞信息': '未提示',\n",
       " '红细胞镜检': '6.90',\n",
       " '细菌': '31.9',\n",
       " '结晶': '',\n",
       " '维生素C': '阴性',\n",
       " '胆红素': '明性-',\n",
       " '葡萄糖': '明性-',\n",
       " '酮体': '阴性',\n",
       " '酸碱度': '7.00',\n",
       " '隐血': '阴性',\n",
       " '颜色': ''}"
      ]
     },
     "execution_count": 22,
     "metadata": {},
     "output_type": "execute_result"
    }
   ],
   "source": [
    "result"
   ]
  },
  {
   "cell_type": "code",
   "execution_count": null,
   "metadata": {},
   "outputs": [],
   "source": []
  }
 ],
 "metadata": {
  "kernelspec": {
   "display_name": "Python 3",
   "language": "python",
   "name": "python3"
  },
  "language_info": {
   "codemirror_mode": {
    "name": "ipython",
    "version": 3
   },
   "file_extension": ".py",
   "mimetype": "text/x-python",
   "name": "python",
   "nbconvert_exporter": "python",
   "pygments_lexer": "ipython3",
   "version": "3.6.8"
  }
 },
 "nbformat": 4,
 "nbformat_minor": 2
}
