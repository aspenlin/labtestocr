{
 "cells": [
  {
   "cell_type": "code",
   "execution_count": 1,
   "metadata": {},
   "outputs": [],
   "source": [
    "import cv2"
   ]
  },
  {
   "cell_type": "code",
   "execution_count": 22,
   "metadata": {},
   "outputs": [
    {
     "data": {
      "text/plain": [
       "True"
      ]
     },
     "execution_count": 22,
     "metadata": {},
     "output_type": "execute_result"
    }
   ],
   "source": [
    "filename = 'bloodtest8.jpg'\n",
    "img = cv2.imread(filename, 0)\n",
    "# resize\n",
    "img_resize = cv2.resize(img, (3840, 2160))\n",
    "# blur\n",
    "img_blur = cv2.medianBlur(img_resize,7)\n",
    "# threshold\n",
    "img_thres = cv2.adaptiveThreshold(img_blur, 255, cv2.ADAPTIVE_THRESH_MEAN_C, cv2.THRESH_BINARY,9,4)\n",
    "# invert\n",
    "# img_thres = cv2.bitwise_not(img_thres)\n",
    "# save\n",
    "cv2.imwrite('bloodtest8_cv2_mean_noinv_3840_7_9.jpg', img_thres)"
   ]
  },
  {
   "cell_type": "code",
   "execution_count": 27,
   "metadata": {},
   "outputs": [
    {
     "data": {
      "text/plain": [
       "True"
      ]
     },
     "execution_count": 27,
     "metadata": {},
     "output_type": "execute_result"
    }
   ],
   "source": [
    "img_border=cv2.copyMakeBorder(img_thres, 10,10,10,10, borderType= cv2.BORDER_REFLECT)\n",
    "cv2.imwrite('bloodtest8_cv2_mean_noinv_3840_7_9_border_reflect_10.jpg', img_border)\n",
    "\n"
   ]
  },
  {
   "cell_type": "code",
   "execution_count": 37,
   "metadata": {},
   "outputs": [
    {
     "data": {
      "text/plain": [
       "True"
      ]
     },
     "execution_count": 37,
     "metadata": {},
     "output_type": "execute_result"
    }
   ],
   "source": [
    "filename = 'bloodtest5.jpg'\n",
    "img = cv2.imread(filename, 0)\n",
    "# resize\n",
    "img_resize = cv2.resize(img, (3240, 5760))\n",
    "# blur\n",
    "img_blur = cv2.medianBlur(img_resize,9)\n",
    "# threshold\n",
    "img_thres = cv2.adaptiveThreshold(img_blur, 255, cv2.ADAPTIVE_THRESH_MEAN_C, cv2.THRESH_BINARY,15,4)\n",
    "# invert\n",
    "# img_thres = cv2.bitwise_not(img_thres)\n",
    "# save\n",
    "cv2.imwrite('bloodtest5_cv2_mean_noinv_3240_9_15.jpg', img_thres)"
   ]
  },
  {
   "cell_type": "code",
   "execution_count": null,
   "metadata": {},
   "outputs": [],
   "source": []
  }
 ],
 "metadata": {
  "kernelspec": {
   "display_name": "Python 3",
   "language": "python",
   "name": "python3"
  },
  "language_info": {
   "codemirror_mode": {
    "name": "ipython",
    "version": 3
   },
   "file_extension": ".py",
   "mimetype": "text/x-python",
   "name": "python",
   "nbconvert_exporter": "python",
   "pygments_lexer": "ipython3",
   "version": "3.5.2"
  }
 },
 "nbformat": 4,
 "nbformat_minor": 2
}
