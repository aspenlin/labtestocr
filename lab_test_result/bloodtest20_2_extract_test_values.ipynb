{
 "cells": [
  {
   "cell_type": "code",
   "execution_count": 1,
   "metadata": {},
   "outputs": [],
   "source": [
    "import re"
   ]
  },
  {
   "cell_type": "code",
   "execution_count": 2,
   "metadata": {},
   "outputs": [],
   "source": [
    "#read in tesseract result with whitelist.txt as configs\n",
    "with open('bloodtest20_2.txt', 'r') as f:\n",
    "    text = f.read()"
   ]
  },
  {
   "cell_type": "code",
   "execution_count": 3,
   "metadata": {},
   "outputs": [
    {
     "data": {
      "text/plain": [
       "'葡                                 9\\n-              s   R        P           E     g\\n醇        三大标碳\\n甘                                              移总               标FT5482\\na          f\\n1       量-      氢氧钠 量变nug    标积糖血   标同  葡\\n1          22          e   肌移       板 二 170327Z6191 中性三布标\\nF       ss\\n白细胞计数     15.29中3.69--9.16x1G/L血红球白     140   113-1Sle/L\\n中性粒细胞%     89.2三50.0%6--70.0%红细胞t     0384   0335--0450\\n淋巴细胞%      54小20.0%6--40.0%平均红细胞体积   885    826-.992f\\nE      E     3.09%6--10.0%6   1平均血红蛋白量   323    269--333pg\\n酸性粒细胞%    0.30.596--5.0%6   1平白红量白浓度365322--362g/.\\n碱性粒细胞%     0.1       <10%        红细胞分布宽度    120     1L6%--140%\\n中性粒细胞计数   13.65三2.00--7.00x10/L血i数    193    To1--320XMOAL\\n淋巴细胞计数    0.82    0.80--4.00x1O/L血小板平均体积   112   65-.120f\\n单核细胞计数    077    0.12--100xl/L1\\n酸性粒细胞计数0.04    0.02--0.50x1O/L1\\nf   计        434     3168--5.13x102/L\\n草蛋素二蛋素氢7-03-Z7 1624       J17-03271630     H同0-03-27 酶氧草    丁51703201636\\ne 嗜J\\nL准Z0I宽布酸直蛋糖  f系接脂尿葡葡系氧<嗜                        总体\\n草B蛋素蛋                 化单1      总\\nnnnm\\n\\x0c'"
      ]
     },
     "execution_count": 3,
     "metadata": {},
     "output_type": "execute_result"
    }
   ],
   "source": [
    "text"
   ]
  },
  {
   "cell_type": "code",
   "execution_count": 4,
   "metadata": {},
   "outputs": [],
   "source": [
    "#convert to a list\n",
    "text = text.split()"
   ]
  },
  {
   "cell_type": "code",
   "execution_count": 5,
   "metadata": {},
   "outputs": [],
   "source": [
    "test_names = ['白细胞计数','红细胞计数','中性粒细胞%','淋巴细胞%','中性粒细胞计数','单核细胞计数','嗜酸性粒细胞计数',\n",
    "             '淋巴细胞计数','平均血红蛋白浓度','平均红细胞体积','嗜碱性粒细胞%','嗜碱性粒细胞计数',\n",
    "             '平均血红蛋白量','血小板计数','单核细胞%','嗜酸性粒细胞%',\n",
    "             '红细胞分布宽度','血红蛋白','血小板平均体积','红细胞比容']\n"
   ]
  },
  {
   "cell_type": "code",
   "execution_count": 6,
   "metadata": {},
   "outputs": [
    {
     "name": "stdout",
     "output_type": "stream",
     "text": [
      "{'白细胞计数': 0, '红细胞计数': 0, '中性粒细胞%': 0, '淋巴细胞%': 0, '中性粒细胞计数': 0, '单核细胞计数': 0, '嗜酸性粒细胞计数': 0, '淋巴细胞计数': 0, '平均血红蛋白浓度': 0, '平均红细胞体积': 0, '嗜碱性粒细胞%': 0, '嗜碱性粒细胞计数': 0, '平均血红蛋白量': 0, '血小板计数': 0, '单核细胞%': 0, '嗜酸性粒细胞%': 0, '红细胞分布宽度': 0, '血红蛋白': 0, '血小板平均体积': 0, '红细胞比容': 0}\n"
     ]
    }
   ],
   "source": [
    "#make a dict of test_names and set default value to 0\n",
    "dic_names = {}\n",
    "[dic_names.setdefault(name, 0) for name in test_names]\n",
    "print(dic_names)"
   ]
  },
  {
   "cell_type": "code",
   "execution_count": 7,
   "metadata": {},
   "outputs": [],
   "source": [
    "#map dict_names with not necessarily correct names from tesseract\n",
    "for i in range(len(test_names)):\n",
    "    found = False\n",
    "    max_count, index = 0, 0\n",
    "    for j in range(len(text)):\n",
    "        count = 0\n",
    "        if test_names[i] in text[j]:\n",
    "            dic_names[test_names[i]] = text[j]\n",
    "            found = True\n",
    "            break\n",
    "        else:\n",
    "            for c in test_names[i]:\n",
    "                if c in text[j]:\n",
    "                    count += 1\n",
    "            if count > max_count:\n",
    "                max_count, index = count, j\n",
    "    if not found:\n",
    "        dic_names[test_names[i]] = text[index]     "
   ]
  },
  {
   "cell_type": "code",
   "execution_count": 8,
   "metadata": {},
   "outputs": [
    {
     "data": {
      "text/plain": [
       "{'中性粒细胞%': '中性粒细胞%',\n",
       " '中性粒细胞计数': '中性粒细胞计数',\n",
       " '单核细胞%': '单核细胞计数',\n",
       " '单核细胞计数': '单核细胞计数',\n",
       " '嗜碱性粒细胞%': '碱性粒细胞%',\n",
       " '嗜碱性粒细胞计数': '中性粒细胞计数',\n",
       " '嗜酸性粒细胞%': '酸性粒细胞%',\n",
       " '嗜酸性粒细胞计数': '酸性粒细胞计数0.04',\n",
       " '平均红细胞体积': '54小20.0%6--40.0%平均红细胞体积',\n",
       " '平均血红蛋白浓度': '1平均血红蛋白量',\n",
       " '平均血红蛋白量': '1平均血红蛋白量',\n",
       " '淋巴细胞%': '淋巴细胞%',\n",
       " '淋巴细胞计数': '淋巴细胞计数',\n",
       " '白细胞计数': '白细胞计数',\n",
       " '红细胞分布宽度': '红细胞分布宽度',\n",
       " '红细胞比容': '89.2三50.0%6--70.0%红细胞t',\n",
       " '红细胞计数': '白细胞计数',\n",
       " '血小板平均体积': '0.80--4.00x1O/L血小板平均体积',\n",
       " '血小板计数': '0.80--4.00x1O/L血小板平均体积',\n",
       " '血红蛋白': '1平均血红蛋白量'}"
      ]
     },
     "execution_count": 8,
     "metadata": {},
     "output_type": "execute_result"
    }
   ],
   "source": [
    "dic_names"
   ]
  },
  {
   "cell_type": "code",
   "execution_count": 9,
   "metadata": {},
   "outputs": [],
   "source": [
    "#convert text (list) back to a string with space\n",
    "text_string = ' '.join(text)"
   ]
  },
  {
   "cell_type": "code",
   "execution_count": 10,
   "metadata": {},
   "outputs": [
    {
     "data": {
      "text/plain": [
       "'葡 9 - s R P E g 醇 三大标碳 甘 移总 标FT5482 a f 1 量- 氢氧钠 量变nug 标积糖血 标同 葡 1 22 e 肌移 板 二 170327Z6191 中性三布标 F ss 白细胞计数 15.29中3.69--9.16x1G/L血红球白 140 113-1Sle/L 中性粒细胞% 89.2三50.0%6--70.0%红细胞t 0384 0335--0450 淋巴细胞% 54小20.0%6--40.0%平均红细胞体积 885 826-.992f E E 3.09%6--10.0%6 1平均血红蛋白量 323 269--333pg 酸性粒细胞% 0.30.596--5.0%6 1平白红量白浓度365322--362g/. 碱性粒细胞% 0.1 <10% 红细胞分布宽度 120 1L6%--140% 中性粒细胞计数 13.65三2.00--7.00x10/L血i数 193 To1--320XMOAL 淋巴细胞计数 0.82 0.80--4.00x1O/L血小板平均体积 112 65-.120f 单核细胞计数 077 0.12--100xl/L1 酸性粒细胞计数0.04 0.02--0.50x1O/L1 f 计 434 3168--5.13x102/L 草蛋素二蛋素氢7-03-Z7 1624 J17-03271630 H同0-03-27 酶氧草 丁51703201636 e 嗜J L准Z0I宽布酸直蛋糖 f系接脂尿葡葡系氧<嗜 总体 草B蛋素蛋 化单1 总 nnnm'"
      ]
     },
     "execution_count": 10,
     "metadata": {},
     "output_type": "execute_result"
    }
   ],
   "source": [
    "text_string"
   ]
  },
  {
   "cell_type": "code",
   "execution_count": 11,
   "metadata": {},
   "outputs": [
    {
     "name": "stdout",
     "output_type": "stream",
     "text": [
      "{'白细胞计数': 0, '红细胞计数': 0, '中性粒细胞%': 0, '淋巴细胞%': 0, '中性粒细胞计数': 0, '单核细胞计数': 0, '嗜酸性粒细胞计数': 0, '淋巴细胞计数': 0, '平均血红蛋白浓度': 0, '平均红细胞体积': 0, '嗜碱性粒细胞%': 0, '嗜碱性粒细胞计数': 0, '平均血红蛋白量': 0, '血小板计数': 0, '单核细胞%': 0, '嗜酸性粒细胞%': 0, '红细胞分布宽度': 0, '血红蛋白': 0, '血小板平均体积': 0, '红细胞比容': 0}\n"
     ]
    }
   ],
   "source": [
    "#initialize a dict for values with test_names as keys\n",
    "dic_values = {}\n",
    "[dic_values.setdefault(name, 0) for name in test_names]\n",
    "print(dic_values)"
   ]
  },
  {
   "cell_type": "code",
   "execution_count": 12,
   "metadata": {},
   "outputs": [],
   "source": [
    "#find the values for test_names, here suppose the values are all float\n",
    "for k, v in dic_names.items():\n",
    "    value = re.findall('\\d+\\.?\\d{0,3}', text_string[text_string.find(re.findall(r'[\\u4e00-\\u9fff]+', v)[0]):text_string.find(re.findall(r'[\\u4e00-\\u9fff]+', v)[0])+30])\n",
    "    if value:\n",
    "        dic_values[k] = value[0]"
   ]
  },
  {
   "cell_type": "code",
   "execution_count": 13,
   "metadata": {},
   "outputs": [
    {
     "data": {
      "text/plain": [
       "{'中性粒细胞%': '89.2',\n",
       " '中性粒细胞计数': '13.65',\n",
       " '单核细胞%': '077',\n",
       " '单核细胞计数': '077',\n",
       " '嗜碱性粒细胞%': '0.1',\n",
       " '嗜碱性粒细胞计数': '13.65',\n",
       " '嗜酸性粒细胞%': '0.30',\n",
       " '嗜酸性粒细胞计数': '0.04',\n",
       " '平均红细胞体积': '20.0',\n",
       " '平均血红蛋白浓度': '323',\n",
       " '平均血红蛋白量': '323',\n",
       " '淋巴细胞%': '54',\n",
       " '淋巴细胞计数': '0.82',\n",
       " '白细胞计数': '15.29',\n",
       " '红细胞分布宽度': '120',\n",
       " '红细胞比容': '5482',\n",
       " '红细胞计数': '15.29',\n",
       " '血小板平均体积': '112',\n",
       " '血小板计数': '112',\n",
       " '血红蛋白': '323'}"
      ]
     },
     "execution_count": 13,
     "metadata": {},
     "output_type": "execute_result"
    }
   ],
   "source": [
    "dic_values"
   ]
  },
  {
   "cell_type": "code",
   "execution_count": null,
   "metadata": {},
   "outputs": [],
   "source": []
  }
 ],
 "metadata": {
  "kernelspec": {
   "display_name": "Python 3",
   "language": "python",
   "name": "python3"
  },
  "language_info": {
   "codemirror_mode": {
    "name": "ipython",
    "version": 3
   },
   "file_extension": ".py",
   "mimetype": "text/x-python",
   "name": "python",
   "nbconvert_exporter": "python",
   "pygments_lexer": "ipython3",
   "version": "3.6.8"
  }
 },
 "nbformat": 4,
 "nbformat_minor": 2
}
