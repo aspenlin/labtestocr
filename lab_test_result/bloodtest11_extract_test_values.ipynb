{
 "cells": [
  {
   "cell_type": "code",
   "execution_count": 1,
   "metadata": {},
   "outputs": [],
   "source": [
    "import re"
   ]
  },
  {
   "cell_type": "code",
   "execution_count": 10,
   "metadata": {},
   "outputs": [],
   "source": [
    "from fuzzywuzzy import fuzz\n",
    "from fuzzywuzzy import process"
   ]
  },
  {
   "cell_type": "code",
   "execution_count": 20,
   "metadata": {},
   "outputs": [],
   "source": [
    "#read in tesseract result with whitelist.txt as configs\n",
    "with open('bloodtest11.txt', 'r') as f:\n",
    "    text = f.read()"
   ]
  },
  {
   "cell_type": "code",
   "execution_count": 21,
   "metadata": {},
   "outputs": [
    {
     "data": {
      "text/plain": [
       "'布丁\\n萄        600848139     标\\n素               移丙            标\\n20            对                 中\\n中         细碳      单性值\\n白细胞数            3.79       分079/L3.2-9.7\\n淋巴细胞比值           0.361                   0.20-0.40\\n单细胞比值          0.142           0.03-0.08\\n嗜中性粒细胞比值0.494             0.50-0.70\\n酸性粒细胞比值0.003               0.005-0.05\\n碱性粒细胞比值0.000       0-0.01\\n淋巴细胞数          1.37      标0-9/L0.64-3.88\\n单核细胞数            0.54        079/L0.096-0.776\\n中性粒细胞数1.87     标1079/L1.6-6.8\\nRt0.01      079/L0.002-0.485\\n嗜碱性粒细数      0.00      A1079/L0-0.097\\n红细           5.54A0712/L4.0-5.5\\n\\x0c'"
      ]
     },
     "execution_count": 21,
     "metadata": {},
     "output_type": "execute_result"
    }
   ],
   "source": [
    "text"
   ]
  },
  {
   "cell_type": "code",
   "execution_count": 22,
   "metadata": {},
   "outputs": [],
   "source": [
    "#convert to a list\n",
    "text = text.split()"
   ]
  },
  {
   "cell_type": "code",
   "execution_count": 23,
   "metadata": {},
   "outputs": [],
   "source": [
    "test_names = ['白细胞数','嗜中性粒细胞比值','淋巴细胞比值','单核细胞比值','嗜酸性粒细胞比值','碱性粒细胞比值',\n",
    "             '单核细胞数','淋巴细胞数','嗜中性粒细胞数','嗜酸性粒细胞数','嗜碱性粒细胞数','红细胞']"
   ]
  },
  {
   "cell_type": "code",
   "execution_count": 24,
   "metadata": {},
   "outputs": [
    {
     "name": "stdout",
     "output_type": "stream",
     "text": [
      "{'白细胞数': 0, '中性粒细胞比值': 0, '淋巴细胞比值': 0, '单核细胞比值': 0, '酸性粒细胞比值': 0, '碱性粒细胞比值': 0, '单核细胞数': 0, '淋巴细胞数': 0, '中性粒细胞数': 0, '酸性粒细胞数': 0, '碱性粒细胞数': 0, '红细胞': 0}\n"
     ]
    }
   ],
   "source": [
    "#make a dict of test_names and set default value to 0\n",
    "dic_names = {}\n",
    "[dic_names.setdefault(name, 0) for name in test_names]\n",
    "print(dic_names)"
   ]
  },
  {
   "cell_type": "code",
   "execution_count": 25,
   "metadata": {},
   "outputs": [],
   "source": [
    "#map dict_names with not necessarily correct names from tesseract\n",
    "for i in range(len(test_names)):\n",
    "    found = False\n",
    "    max_count, index = 0, 0\n",
    "    for j in range(len(text)):\n",
    "        count = 0\n",
    "        if test_names[i] in text[j]:\n",
    "            dic_names[test_names[i]] = text[j]\n",
    "            found = True\n",
    "            break\n",
    "        else:\n",
    "            for c in test_names[i]:\n",
    "                if c in text[j]:\n",
    "                    count += 1\n",
    "            if count > max_count:\n",
    "                max_count, index = count, j\n",
    "    if not found:\n",
    "        dic_names[test_names[i]] = text[index]     "
   ]
  },
  {
   "cell_type": "code",
   "execution_count": 26,
   "metadata": {
    "scrolled": true
   },
   "outputs": [
    {
     "data": {
      "text/plain": [
       "{'中性粒细胞数': '中性粒细胞数1.87',\n",
       " '中性粒细胞比值': '嗜中性粒细胞比值0.494',\n",
       " '单核细胞数': '单核细胞数',\n",
       " '单核细胞比值': '单细胞比值',\n",
       " '淋巴细胞数': '淋巴细胞数',\n",
       " '淋巴细胞比值': '淋巴细胞比值',\n",
       " '白细胞数': '白细胞数',\n",
       " '碱性粒细胞数': '碱性粒细胞比值0.000',\n",
       " '碱性粒细胞比值': '碱性粒细胞比值0.000',\n",
       " '红细胞': '白细胞数',\n",
       " '酸性粒细胞数': '酸性粒细胞比值0.003',\n",
       " '酸性粒细胞比值': '酸性粒细胞比值0.003'}"
      ]
     },
     "execution_count": 26,
     "metadata": {},
     "output_type": "execute_result"
    }
   ],
   "source": [
    "dic_names"
   ]
  },
  {
   "cell_type": "code",
   "execution_count": 11,
   "metadata": {},
   "outputs": [
    {
     "name": "stdout",
     "output_type": "stream",
     "text": [
      "{'白细胞数': 0, '嗜中性粒细胞比值': 0, '淋巴细胞比值': 0, '单核细胞比值': 0, '嗜酸性粒细胞比值': 0, '嗜碱性粒细胞比值': 0, '单核细胞数': 0, '淋巴细胞数': 0, '嗜中性粒细胞数': 0, '嗜酸性粒细胞数': 0, '嗜碱性粒细胞数': 0, '红细胞': 0}\n"
     ]
    }
   ],
   "source": [
    "dic_fuzz = {}\n",
    "[dic_fuzz.setdefault(name, 0) for name in test_names]\n",
    "print(dic_fuzz)"
   ]
  },
  {
   "cell_type": "code",
   "execution_count": 16,
   "metadata": {
    "scrolled": true
   },
   "outputs": [
    {
     "name": "stdout",
     "output_type": "stream",
     "text": [
      "白细胞数 [('白细胞数', 100), ('中性粒细胞数1.87', 68), ('淋巴细胞数', 67)]\n",
      "嗜中性粒细胞比值 [('中', 90), ('中', 90), ('嗜中性粒细胞比值0.494', 90)]\n",
      "淋巴细胞比值 [('淋巴细胞比值', 100), ('单细胞比值', 73), ('淋巴细胞数', 73)]\n",
      "单核细胞比值 [('单细胞比值', 91), ('单核细胞数', 73), ('淋巴细胞比值', 67)]\n",
      "嗜酸性粒细胞比值 [('嗜中性粒细胞比值0.494', 79), ('酸性粒细胞比值0.003', 79), ('单细胞比值', 72)]\n",
      "嗜碱性粒细胞比值 [('嗜中性粒细胞比值0.494', 79), ('碱性粒细胞比值0.000', 79), ('单细胞比值', 72)]\n",
      "单核细胞数 [('单核细胞数', 100), ('白细胞数', 67), ('单细胞比值', 60)]\n",
      "淋巴细胞数 [('淋巴细胞数', 100), ('淋巴细胞比值', 73), ('白细胞数', 67)]\n",
      "嗜中性粒细胞数 [('中', 90), ('中', 90), ('嗜中性粒细胞比值0.494', 77)]\n",
      "嗜酸性粒细胞数 [('嗜碱性粒细数', 77), ('白细胞数', 68), ('嗜中性粒细胞比值0.494', 64)]\n",
      "嗜碱性粒细胞数 [('嗜碱性粒细数', 92), ('白细胞数', 68), ('嗜中性粒细胞比值0.494', 64)]\n",
      "红细胞 [('红细', 90), ('淋巴细胞比值', 60), ('单细胞比值', 60)]\n"
     ]
    }
   ],
   "source": [
    "choices = text\n",
    "for k in dic_fuzz:\n",
    "    print(k, process.extract(k, choices, limit=3))"
   ]
  },
  {
   "cell_type": "code",
   "execution_count": 19,
   "metadata": {},
   "outputs": [
    {
     "data": {
      "text/plain": [
       "[('白细胞1.0', 90), ('白', 90)]"
      ]
     },
     "execution_count": 19,
     "metadata": {},
     "output_type": "execute_result"
    }
   ],
   "source": [
    "test = ['白细胞1.0','白']\n",
    "process.extract('白细胞', test, limit=2)"
   ]
  },
  {
   "cell_type": "code",
   "execution_count": 27,
   "metadata": {},
   "outputs": [],
   "source": [
    "#convert text (list) back to a string with space\n",
    "text_string = ' '.join(text)"
   ]
  },
  {
   "cell_type": "code",
   "execution_count": 28,
   "metadata": {},
   "outputs": [
    {
     "data": {
      "text/plain": [
       "'布丁 萄 600848139 标 素 移丙 标 20 对 中 中 细碳 单性值 白细胞数 3.79 分079/L3.2-9.7 淋巴细胞比值 0.361 0.20-0.40 单细胞比值 0.142 0.03-0.08 嗜中性粒细胞比值0.494 0.50-0.70 酸性粒细胞比值0.003 0.005-0.05 碱性粒细胞比值0.000 0-0.01 淋巴细胞数 1.37 标0-9/L0.64-3.88 单核细胞数 0.54 079/L0.096-0.776 中性粒细胞数1.87 标1079/L1.6-6.8 Rt0.01 079/L0.002-0.485 嗜碱性粒细数 0.00 A1079/L0-0.097 红细 5.54A0712/L4.0-5.5'"
      ]
     },
     "execution_count": 28,
     "metadata": {},
     "output_type": "execute_result"
    }
   ],
   "source": [
    "text_string"
   ]
  },
  {
   "cell_type": "code",
   "execution_count": 29,
   "metadata": {},
   "outputs": [
    {
     "name": "stdout",
     "output_type": "stream",
     "text": [
      "{'白细胞数': 0, '中性粒细胞比值': 0, '淋巴细胞比值': 0, '单核细胞比值': 0, '酸性粒细胞比值': 0, '碱性粒细胞比值': 0, '单核细胞数': 0, '淋巴细胞数': 0, '中性粒细胞数': 0, '酸性粒细胞数': 0, '碱性粒细胞数': 0, '红细胞': 0}\n"
     ]
    }
   ],
   "source": [
    "#initialize a dict for values with test_names as keys\n",
    "dic_values = {}\n",
    "[dic_values.setdefault(name, 0) for name in test_names]\n",
    "print(dic_values)"
   ]
  },
  {
   "cell_type": "code",
   "execution_count": 30,
   "metadata": {},
   "outputs": [],
   "source": [
    "#find the values for test_names, here suppose the values are all float\n",
    "for k, v in dic_names.items():\n",
    "    value = re.findall('\\d+\\.\\s?\\d+', text_string[text_string.find(v):text_string.find(v)+20])\n",
    "    if value:\n",
    "        dic_values[k] = value[0]"
   ]
  },
  {
   "cell_type": "code",
   "execution_count": 31,
   "metadata": {},
   "outputs": [
    {
     "data": {
      "text/plain": [
       "{'中性粒细胞数': '1.87',\n",
       " '中性粒细胞比值': '0.494',\n",
       " '单核细胞数': '0.54',\n",
       " '单核细胞比值': '0.142',\n",
       " '淋巴细胞数': '1.37',\n",
       " '淋巴细胞比值': '0.361',\n",
       " '白细胞数': '3.79',\n",
       " '碱性粒细胞数': '0.000',\n",
       " '碱性粒细胞比值': '0.000',\n",
       " '红细胞': '3.79',\n",
       " '酸性粒细胞数': '0.003',\n",
       " '酸性粒细胞比值': '0.003'}"
      ]
     },
     "execution_count": 31,
     "metadata": {},
     "output_type": "execute_result"
    }
   ],
   "source": [
    "dic_values"
   ]
  },
  {
   "cell_type": "code",
   "execution_count": 32,
   "metadata": {},
   "outputs": [
    {
     "data": {
      "text/plain": [
       "0.75"
      ]
     },
     "execution_count": 32,
     "metadata": {},
     "output_type": "execute_result"
    }
   ],
   "source": [
    "9/len(test_names)"
   ]
  },
  {
   "cell_type": "code",
   "execution_count": null,
   "metadata": {},
   "outputs": [],
   "source": []
  }
 ],
 "metadata": {
  "kernelspec": {
   "display_name": "Python 3",
   "language": "python",
   "name": "python3"
  },
  "language_info": {
   "codemirror_mode": {
    "name": "ipython",
    "version": 3
   },
   "file_extension": ".py",
   "mimetype": "text/x-python",
   "name": "python",
   "nbconvert_exporter": "python",
   "pygments_lexer": "ipython3",
   "version": "3.6.8"
  }
 },
 "nbformat": 4,
 "nbformat_minor": 2
}
