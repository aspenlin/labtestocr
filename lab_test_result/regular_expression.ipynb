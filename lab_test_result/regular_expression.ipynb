{
 "cells": [
  {
   "cell_type": "code",
   "execution_count": 2,
   "metadata": {},
   "outputs": [],
   "source": [
    "import pandas as pd\n",
    "import re"
   ]
  },
  {
   "cell_type": "code",
   "execution_count": 103,
   "metadata": {},
   "outputs": [],
   "source": [
    "#read result from tesseract\n",
    "with open('labtest1.txt', 'r') as f:\n",
    "    result = f.read()"
   ]
  },
  {
   "cell_type": "code",
   "execution_count": 76,
   "metadata": {},
   "outputs": [
    {
     "name": "stdout",
     "output_type": "stream",
     "text": [
      "/Users/jingjinglin/Machine_Learning/Siuvo2019SummerIntern/Tesseract-OCR/lab_test_result\n"
     ]
    }
   ],
   "source": [
    "import os\n",
    "print(os.getcwd())"
   ]
  },
  {
   "cell_type": "code",
   "execution_count": 104,
   "metadata": {
    "collapsed": true
   },
   "outputs": [
    {
     "data": {
      "text/plain": [
       "' \\n\\n \\n\\n \\n\\n \\n\\n \\n\\n \\n\\n \\n\\n \\n\\n县医院生化检验报告单\\n\\n样本号.\\n\\n \\n\\n \\n\\n \\n\\n \\n\\n姓 名              科 室: 急诊组         标本种类: 血清          卡 号: 1000027797\\n性 别: 男              住院号:                    备 “注:                    申请日期: 2014-08-11 16.\\n年 _龄: 31 “罗        床 号:                 临床诊断: 待查           接收日期: 2014-08-12 09:ˇ\\n代码 “项目名称            检验结果        参考区间                    代码         项目名称          检验结果         参考区间\\n1 TBIL “ 总胆红素        30.80 + 5.10一19.00 umolyL 〖21 CL “氮             100.80 96. 00一108. 00 mmoi\\n2 _DBIL “直接胥红素      7.90 ˇ 0一7.00 umol/L       22 C4 锈             2.45      2.00一2.80 吴\\n_3 BIL ˇ 间接胆红素      22.90 1 0一15.00 umol/L      23 C02 二氧化碳       26.62    20.00~“\\n4 “TP。 “ 总蛋白      71.50   60. 00一82.00 g/L   24 TG 甘油三醌     0.60   0李\\n5 ALB ˇ白蛋白          42.00     35.00一55.00 g/L     25 TCHO “ 总胆固醇        4.60     吴3\\n<6 6     球蛋白          29.50     20. 00一35.00 g/L      26 HDLC “ 高密度脂蛋白     1.60      1 10一bo、\\n7 A/G ˇ白球比        山 42     1. 20一2.30         27 LDLC “ 低密度脂蛋白    8 2     2. 70一3.60 mmoly .\\n8 ALT “谷丙转氨酶    46.40 0一40. 00 U/L     28 AP0A 载脂蛇白Al    1.20   1.20~1.60 g儿\\n9 AST ˇ谷草转氨酶    16. 10   0一40. 00 U/L     29 AP0B “载脂蛇白B    0. 58   0.80一1.05 g/L\\n10 AST/ALT谷草/谷丙    0.35               30 TB& 总胆汁酸     3.43   0一15.00 umol/L\\n11 ALP ˇ 碱性磷酸酶      54. 30     40.00一150.00 U/L     31 HCY ˇ同型半脏氨酸     8.80     0一10.00 umol/L\\n12 GGT “谷氨酰氨基转移酶 8. 20   0一50.00 U/L     32 HBDH a 羟丁酸脱氡酶 “99. 60   72.00一182.00 U/L\\n13 LDH “乳酸脱氡酶       131.80 ˇ 109.00一245.00 U/L\\n14 CK “ 肌酸激酶        91.30     24. 00一195.00 U/L\\n15 GLU “葡萄糖          5.30      3.80一6.10 mmol儿\\n16 CREA “ 肌酐 ,          107.50 ˇ “40. 00一133.00 umol/L\\n17 UA 尿酸           301.00 ˇ “142.00一420.00 umolyL\\n18 BUN ˇ尿素            6.70      2.80一8.20 mmolyL\\n19 E     钾             4. 40      3.50一5.30 mmolyL\\n20 NMA 钳             142.20 ˇ 136.00一144. 00 mmol/L\\n送检医生:林振钦      报告日期: 2014-08-12 11:16              检验者: 李建梅            审核者: ˇ 黄富亮\\n\\n仪器:ADVIA1800生化分析仪 “此结果仅对送检标本负责, 供临床参考, 如有疑问, 请在三日内和检验科联系!\\n\\x0c'"
      ]
     },
     "execution_count": 104,
     "metadata": {},
     "output_type": "execute_result"
    }
   ],
   "source": [
    "result"
   ]
  },
  {
   "cell_type": "code",
   "execution_count": 62,
   "metadata": {},
   "outputs": [],
   "source": [
    "test_names = ['总胆红素','直接胥红素','间接胆红素','总蛋白','白蛋白','球蛋白','谷丙转氨酶','谷草转氨酶',\n",
    "             '谷草/谷丙','碱性磷酸酶','谷氨酰氨基转移酶','乳酸脱氢酶','肌酸激酶','葡萄糖','肌酐','尿酸',\n",
    "             '尿素','钾','钠','氯','钙','二氧化碳','甘油三酯','总胆固醇','高密度脂蛋白','低密度脂蛋白',\n",
    "             '载脂蛋白Al','载脂蛋白B','总胆汁酸','同型半胱氨酸','羟丁酸脱氢酶']"
   ]
  },
  {
   "cell_type": "code",
   "execution_count": 92,
   "metadata": {},
   "outputs": [
    {
     "name": "stdout",
     "output_type": "stream",
     "text": [
      "{'总胆红素': 0, '直接胥红素': 0, '间接胆红素': 0, '总蛋白': 0, '白蛋白': 0, '球蛋白': 0, '谷丙转氨酶': 0, '谷草转氨酶': 0, '谷草/谷丙': 0, '碱性磷酸酶': 0, '谷氨酰氨基转移酶': 0, '乳酸脱氢酶': 0, '肌酸激酶': 0, '葡萄糖': 0, '肌酐': 0, '尿酸': 0, '尿素': 0, '钾': 0, '钠': 0, '氯': 0, '钙': 0, '二氧化碳': 0, '甘油三酯': 0, '总胆固醇': 0, '高密度脂蛋白': 0, '低密度脂蛋白': 0, '载脂蛋白Al': 0, '载脂蛋白B': 0, '总胆汁酸': 0, '同型半胱氨酸': 0, '羟丁酸脱氢酶': 0}\n"
     ]
    }
   ],
   "source": [
    "dic = {}\n",
    "[dic.setdefault(name, 0) for name in test_names]\n",
    "print(dic)"
   ]
  },
  {
   "cell_type": "code",
   "execution_count": 105,
   "metadata": {},
   "outputs": [],
   "source": [
    "for i in range(len(test_names)-1):\n",
    "    test_result = result[result.find(test_names[i]):result.find(test_names[i+1])]\n",
    "    regex = re.compile(''.join([test_names[i], \"(\\D+)(\\d+.\\d+)\"]))\n",
    "    if regex.match(test_result):\n",
    "        dic[test_names[i]] = regex.match(test_result).groups()[1]"
   ]
  },
  {
   "cell_type": "code",
   "execution_count": 106,
   "metadata": {},
   "outputs": [
    {
     "data": {
      "text/plain": [
       "{'乳酸脱氢酶': 0,\n",
       " '二氧化碳': '26.62',\n",
       " '低密度脂蛋白': '8 2',\n",
       " '同型半胱氨酸': 0,\n",
       " '尿素': '6.70',\n",
       " '尿酸': '301.00',\n",
       " '总胆固醇': '4.60',\n",
       " '总胆汁酸': '3.43',\n",
       " '总胆红素': '30.80',\n",
       " '总蛋白': '71.50',\n",
       " '氯': 0,\n",
       " '球蛋白': '29.50',\n",
       " '甘油三酯': 0,\n",
       " '白蛋白': '42.00',\n",
       " '直接胥红素': '7.90',\n",
       " '碱性磷酸酶': 0,\n",
       " '羟丁酸脱氢酶': 0,\n",
       " '肌酐': '107.50',\n",
       " '肌酸激酶': '91.30',\n",
       " '葡萄糖': '5.30',\n",
       " '谷丙转氨酶': '46.40',\n",
       " '谷氨酰氨基转移酶': 0,\n",
       " '谷草/谷丙': '0.35',\n",
       " '谷草转氨酶': 0,\n",
       " '载脂蛋白Al': 0,\n",
       " '载脂蛋白B': 0,\n",
       " '钙': 0,\n",
       " '钠': 0,\n",
       " '钾': 0,\n",
       " '间接胆红素': '22.90',\n",
       " '高密度脂蛋白': '1.60'}"
      ]
     },
     "execution_count": 106,
     "metadata": {},
     "output_type": "execute_result"
    }
   ],
   "source": [
    "dic"
   ]
  },
  {
   "cell_type": "code",
   "execution_count": 79,
   "metadata": {
    "scrolled": true
   },
   "outputs": [
    {
     "name": "stdout",
     "output_type": "stream",
     "text": [
      "7.90\n"
     ]
    }
   ],
   "source": [
    "text_直接胥红素 = text[text.find('直接胥红素'):text.find('锈')]\n",
    "regex = re.compile(''.join(['直接胥红素', '(\\D+)(\\d+.\\d+)']))\n",
    "print(regex.match(text_直接胥红素).groups()[1])"
   ]
  },
  {
   "cell_type": "code",
   "execution_count": 13,
   "metadata": {},
   "outputs": [],
   "source": [
    "test_str = 'abc \" 汉字123中文'"
   ]
  },
  {
   "cell_type": "code",
   "execution_count": 14,
   "metadata": {},
   "outputs": [
    {
     "name": "stdout",
     "output_type": "stream",
     "text": [
      "('abc', ' \" 汉字', '123', '中文')\n"
     ]
    }
   ],
   "source": [
    "regex = re.compile(''.join(['(abc+)', '(\\D+)','(\\d+)','(\\D+)']))\n",
    "print(regex.match(test_str).groups())"
   ]
  },
  {
   "cell_type": "code",
   "execution_count": 52,
   "metadata": {},
   "outputs": [],
   "source": [
    "with open('bloodtest_psm6.txt', 'r') as f:\n",
    "    bloodtest1 = f.read()"
   ]
  },
  {
   "cell_type": "code",
   "execution_count": 53,
   "metadata": {
    "collapsed": true
   },
   "outputs": [
    {
     "data": {
      "text/plain": [
       "'3     、                  〖                              1才月伟伟宏y 中史3友\\n上海交通大学医学院附属新华医院检验科报告单 013446116500 门诊\\n姓 名: 高语翔    病 员 号: 75588961    林      样札编号: 20190528G0103113\\n性。 刘男      科 别: “儿内科     采样日期: 2019-05-28   临床诊断; 急性上呼吸道感染,腹;\\n绍怀坂吴口沥        吊            送检医生: 吕患英       父 注:\\nNo 项     一    结林     参考值  单位   No 项     目   结果     参考值   单病\\n1 CRP          〈8      “8     mg/上   13 红细胞计数     4. 43     城吊    圭扬州\\n2 白细胞计数      5. 26     4-10     1079/L ‖ 14 血红蛋白       120      120-160 g/L\\n3 中性粒细胞%     53.4     50-70    %    15 红细胞序积     3纳5沥 85    %\\n4 淋巴绍胞%      32.90    20-40    明    16 平均约细胞体积 “77.9 1 82-95    吴\\n5 单核细胞%     0300 f      观     17 平均血红蛎白量 , 27.1     27-31    pg\\n6 暖酸粒细胞%      1.50     0. 5-5    %     18 平均血红蛋白浇度 348      320-360 ˇ g/L\\n7 暖碱粒细胞%    0. 20    0-1    %    19 红细胞分布宽度 13.7    0-15:4 %\\n8 中怖粒细胞绝对值 2. 81     玟沥6吊        20 血小板计数     233.00    100-300 1079儿\\n9 单核细胞绝对值   0.63    0-0.7        21 血小板压稀    0.24    0.1-0.27 %\\n10 淋巴细胞绝对值     78       1. 2-3.4           22 平均血小板体积 10. 40      E\\nLL 暧酸粒细胞绝对值 “0. 08     0-0.7    10 9/L ‖ 23 血小板分布宽度 10.6     9-17    玲\\n12 暧碱粒细胞绝对值 0. 01    0\\n检验日期; 2019-05-28      报告月期: 2019-05 -28 10:35      检验者; 张敏华     ,审核者; 费海霾 , ,\\n注:此拳验报告仁本次招本负资.仁供临床参考                  刑“ 0 0\\n,\\n\\x0c'"
      ]
     },
     "execution_count": 53,
     "metadata": {},
     "output_type": "execute_result"
    }
   ],
   "source": [
    "bloodtest1"
   ]
  },
  {
   "cell_type": "code",
   "execution_count": 54,
   "metadata": {},
   "outputs": [],
   "source": [
    "bloodtest_names = ['CRP','白细胞','中性粒细胞','巴细胞','单核细胞','酸粒细胞','碱粒细胞','中性粒细胞绝',\n",
    "             '单核细胞绝','巴细胞绝对值','酸粒细胞绝','碱粒细胞绝','红细胞计数','血红蛋白','红细胞积压','平均红细胞体积',\n",
    "             '平均血红','平均血红','红细胞分','小板计','小板压','平均血小','小板分']"
   ]
  },
  {
   "cell_type": "code",
   "execution_count": 55,
   "metadata": {},
   "outputs": [
    {
     "name": "stdout",
     "output_type": "stream",
     "text": [
      "{'CRP': 0, '白细胞': 0, '中性粒细胞': 0, '巴细胞': 0, '单核细胞': 0, '酸粒细胞': 0, '碱粒细胞': 0, '中性粒细胞绝': 0, '单核细胞绝': 0, '巴细胞绝对值': 0, '酸粒细胞绝': 0, '碱粒细胞绝': 0, '红细胞计数': 0, '血红蛋白': 0, '红细胞积压': 0, '平均红细胞体积': 0, '平均血红': 0, '红细胞分': 0, '小板计': 0, '小板压': 0, '平均血小': 0, '小板分': 0}\n"
     ]
    }
   ],
   "source": [
    "dic_bloodtest = {}\n",
    "[dic_bloodtest.setdefault(name, 0) for name in bloodtest_names]\n",
    "print(dic_bloodtest)"
   ]
  },
  {
   "cell_type": "code",
   "execution_count": 56,
   "metadata": {
    "collapsed": true
   },
   "outputs": [
    {
     "name": "stdout",
     "output_type": "stream",
     "text": [
      "('计数      ', '5. 26')\n",
      "('%     ', '53.4')\n",
      "('%     ', '0300')\n",
      "('%      ', '1.50')\n",
      "('%    ', '0. 20')\n",
      "('对值   ', '0.63')\n",
      "('对值 “', '0. 08')\n",
      "('     ', '4. 43')\n",
      "('       ', '120')\n",
      "('蛎白量 , ', '27.1')\n",
      "('布宽度 ', '13.7')\n",
      "('数     ', '233.00')\n",
      "('稀    ', '0.24')\n",
      "('板体积 ', '10. 40')\n"
     ]
    }
   ],
   "source": [
    "for i in range(len(bloodtest_names)-1):\n",
    "    test_result = bloodtest1[bloodtest1.find(bloodtest_names[i]):bloodtest1.find(bloodtest_names[i+1])]\n",
    "    regex = re.compile(''.join([bloodtest_names[i], \"(\\D+)(\\d+.\\s?\\d+)\"]))\n",
    "    if regex.match(test_result):\n",
    "#         print(regex.match(test_result).groups())\n",
    "        dic_bloodtest[bloodtest_names[i]] = regex.match(test_result).groups()[1]"
   ]
  },
  {
   "cell_type": "code",
   "execution_count": 57,
   "metadata": {
    "collapsed": true
   },
   "outputs": [
    {
     "data": {
      "text/plain": [
       "{'CRP': 0,\n",
       " '中性粒细胞': '53.4',\n",
       " '中性粒细胞绝': 0,\n",
       " '单核细胞': '0300',\n",
       " '单核细胞绝': '0.63',\n",
       " '小板分': 0,\n",
       " '小板压': '0.24',\n",
       " '小板计': '233.00',\n",
       " '巴细胞': 0,\n",
       " '巴细胞绝对值': 0,\n",
       " '平均红细胞体积': 0,\n",
       " '平均血小': '10. 40',\n",
       " '平均血红': '27.1',\n",
       " '白细胞': '5. 26',\n",
       " '碱粒细胞': '0. 20',\n",
       " '碱粒细胞绝': 0,\n",
       " '红细胞分': '13.7',\n",
       " '红细胞积压': 0,\n",
       " '红细胞计数': '4. 43',\n",
       " '血红蛋白': '120',\n",
       " '酸粒细胞': '1.50',\n",
       " '酸粒细胞绝': '0. 08'}"
      ]
     },
     "execution_count": 57,
     "metadata": {},
     "output_type": "execute_result"
    }
   ],
   "source": [
    "dic_bloodtest"
   ]
  },
  {
   "cell_type": "code",
   "execution_count": 66,
   "metadata": {},
   "outputs": [
    {
     "data": {
      "text/plain": [
       "0.5909090909090909"
      ]
     },
     "execution_count": 66,
     "metadata": {},
     "output_type": "execute_result"
    }
   ],
   "source": [
    "13/len(dic_bloodtest)"
   ]
  },
  {
   "cell_type": "code",
   "execution_count": 58,
   "metadata": {},
   "outputs": [],
   "source": [
    "with open('bloodtest2_psm6.txt', 'r') as f:\n",
    "    bloodtest2 = f.read()"
   ]
  },
  {
   "cell_type": "code",
   "execution_count": 67,
   "metadata": {},
   "outputs": [],
   "source": [
    "#order matters\n",
    "bloodtest2_names = ['粉','反应','支原体','白细胞','巴细胞%','核细胞%','中性粒细胞%','中性粒细胞%','酸性粒细胞%','碱性粒细胞%',\n",
    "                    '巴细胞#','核细胞#','中性粒细胞#','酸性粒细胞#','碱性粒细胞#','红细胞计','血红','比容','细胞体积','含量',\n",
    "                     '浓度','细胞体积分布','小板计','小板体积','小板体积分布']"
   ]
  },
  {
   "cell_type": "code",
   "execution_count": 68,
   "metadata": {},
   "outputs": [
    {
     "name": "stdout",
     "output_type": "stream",
     "text": [
      "{'粉': 0, '反应': 0, '支原体': 0, '白细胞': 0, '巴细胞%': 0, '核细胞%': 0, '中性粒细胞%': 0, '酸性粒细胞%': 0, '碱性粒细胞%': 0, '巴细胞#': 0, '核细胞#': 0, '中性粒细胞#': 0, '酸性粒细胞#': 0, '碱性粒细胞#': 0, '红细胞计': 0, '血红': 0, '比容': 0, '细胞体积': 0, '含量': 0, '浓度': 0, '细胞体积分布': 0, '小板计': 0, '小板体积': 0, '小板体积分布': 0}\n"
     ]
    }
   ],
   "source": [
    "dic_bloodtest2 = {}\n",
    "[dic_bloodtest2.setdefault(name, 0) for name in bloodtest2_names]\n",
    "print(dic_bloodtest2)"
   ]
  },
  {
   "cell_type": "code",
   "execution_count": 72,
   "metadata": {},
   "outputs": [],
   "source": [
    "for i in range(len(bloodtest2_names)-1):\n",
    "    test_result = bloodtest2[bloodtest2.find(bloodtest2_names[i]):bloodtest2.find(bloodtest2_names[i+1])]\n",
    "    regex = re.compile(''.join([bloodtest2_names[i], \"(\\D*)(\\d+.\\s?\\d+)\"]))\n",
    "    if regex.match(test_result):\n",
    "#         print(regex.match(test_result).groups())\n",
    "        dic_bloodtest2[bloodtest2_names[i]] = regex.match(test_result).groups()[1]"
   ]
  },
  {
   "cell_type": "code",
   "execution_count": 73,
   "metadata": {},
   "outputs": [
    {
     "data": {
      "text/plain": [
       "{'中性粒细胞#': '1. 58',\n",
       " '中性粒细胞%': '39.5',\n",
       " '反应': 0,\n",
       " '含量': '27. 4',\n",
       " '小板体积': '10. 4',\n",
       " '小板体积分布': 0,\n",
       " '小板计': '187',\n",
       " '巴细胞#': '2.08',\n",
       " '巴细胞%': '52.0',\n",
       " '支原体': 0,\n",
       " '核细胞#': '0.30',\n",
       " '核细胞%': 0,\n",
       " '比容': '35.9',\n",
       " '浓度': '329',\n",
       " '白细胞': '4 00',\n",
       " '碱性粒细胞#': 0,\n",
       " '碱性粒细胞%': '0.0',\n",
       " '粉': 0,\n",
       " '红细胞计': '3 7',\n",
       " '细胞体积': 0,\n",
       " '细胞体积分布': 0,\n",
       " '血红': 0,\n",
       " '酸性粒细胞#': 0,\n",
       " '酸性粒细胞%': 0}"
      ]
     },
     "execution_count": 73,
     "metadata": {},
     "output_type": "execute_result"
    }
   ],
   "source": [
    "dic_bloodtest2"
   ]
  },
  {
   "cell_type": "code",
   "execution_count": 74,
   "metadata": {},
   "outputs": [
    {
     "data": {
      "text/plain": [
       "0.4583333333333333"
      ]
     },
     "execution_count": 74,
     "metadata": {},
     "output_type": "execute_result"
    }
   ],
   "source": [
    "11/len(dic_bloodtest2)"
   ]
  },
  {
   "cell_type": "code",
   "execution_count": null,
   "metadata": {},
   "outputs": [],
   "source": []
  }
 ],
 "metadata": {
  "kernelspec": {
   "display_name": "Python 3",
   "language": "python",
   "name": "python3"
  },
  "language_info": {
   "codemirror_mode": {
    "name": "ipython",
    "version": 3
   },
   "file_extension": ".py",
   "mimetype": "text/x-python",
   "name": "python",
   "nbconvert_exporter": "python",
   "pygments_lexer": "ipython3",
   "version": "3.6.8"
  }
 },
 "nbformat": 4,
 "nbformat_minor": 2
}
