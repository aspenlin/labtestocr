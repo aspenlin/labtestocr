{
 "cells": [
  {
   "cell_type": "code",
   "execution_count": 1,
   "metadata": {},
   "outputs": [],
   "source": [
    "import re"
   ]
  },
  {
   "cell_type": "code",
   "execution_count": 2,
   "metadata": {},
   "outputs": [],
   "source": [
    "#read in tesseract result with whitelist.txt as configs\n",
    "with open('bloodtest16_border.txt', 'r') as f:\n",
    "    text = f.read()"
   ]
  },
  {
   "cell_type": "code",
   "execution_count": 3,
   "metadata": {},
   "outputs": [
    {
     "data": {
      "text/plain": [
       "'P               c\\ncummn三单          性\\n大    4   沉血1C蛋白胆大体体IeWl血             l1核\\n -甘4-                             No201712\\n三固         性半9                移型血\\n计    积n     中同标\\n1酶白J葡糖碳目     标单网      标单\\nWBC    白细胞        6.52    半00-10.00109/LLi    淋巴细胞绝对值   0   0.925.3109/\\nRBC    红细胞          60     3.505.5010-12/LMOW    单核细胞绝对值   0.4     0.16--1.00109/\\nHGB    血红蛋白        128       110160    g/L80S8/酸性标细胞绝对值0.000.050.501079/1\\nHCT    红细胞压积      37.1     35.055.0    %   BNS8     酶素碱钠 粒细胞绝对值0.01     0.00--0.20109/1\\nMCW   红细胞平均体积  80.7   80.0100.0红REU8   中性粒细胞百分比80.2  35.065.0  A\\nMCH   平均血红白量27.8   27.434.0  P8   淋巴细胞百分比  12.1  23.0-53.0  氨\\nMCHC平均血红蛋白浓度345    320-380g/LMOW单核细胞百分比7.5    3.0-10.0\\nRDWCY红细胞体积分布度13.1    0.015.0%%E0Sg酸性标细胞百分比0.010.5-5.0\\nRDWSD红细胞体积分布度38     35-50   BMS8   碳性粒细胞百分比0.2    0.0--L.0   5\\nPLT    血小板         183      100-400   109/LP-LCR   大血小板比率     19.3     17.542.3\\nMPY   血小板平均体积9.46.8-11.5flCgp   C度量6            0--10   ng/i\\nPDW血小板体积分布密度9.815.518.1%8up-hb  l葡钠x\\nPCT     血小板压积        0.17    10.190.36    %\\nMEU中性细胞绝对值5.2       1.4--6.5109/\\nRBC                  WBC                   PLT                    DIF\\nt   5   1    1   1   a量嗜  \\n-\\n目\\n标小二红             粒转酸差二糖 酶变蛋             核\\n板直间2017-12-240908     接直间2017-12-240912      直间2017-12-24093\\n\\x0c'"
      ]
     },
     "execution_count": 3,
     "metadata": {},
     "output_type": "execute_result"
    }
   ],
   "source": [
    "text"
   ]
  },
  {
   "cell_type": "code",
   "execution_count": 4,
   "metadata": {},
   "outputs": [],
   "source": [
    "#convert to a list\n",
    "text = text.split()"
   ]
  },
  {
   "cell_type": "code",
   "execution_count": 5,
   "metadata": {},
   "outputs": [],
   "source": [
    "test_names = ['白细胞','红细胞','血红蛋白','红细胞压积','红细胞平均体积',\n",
    "             '平均血红蛋白含量','平均血红蛋白浓度','红细胞体积分布宽度','血小板','血小板平均体积',\n",
    "             '血小板分布宽度','血小板压积','中性粒细胞绝对值','淋巴细胞绝对值','单核细胞绝对值',\n",
    "              '嗜酸性粒细胞绝对值','嗜碱性粒细胞绝对值','中性粒细胞百分比',\n",
    "             '淋巴细胞百分比','单核细胞百分比','嗜酸性粒细胞百分比','嗜碱性粒细胞百分比','大血小板比率','C反应蛋白','肺炎支原体抗体IgM']\n"
   ]
  },
  {
   "cell_type": "code",
   "execution_count": 6,
   "metadata": {},
   "outputs": [
    {
     "name": "stdout",
     "output_type": "stream",
     "text": [
      "{'白细胞': 0, '红细胞': 0, '血红蛋白': 0, '红细胞压积': 0, '红细胞平均体积': 0, '平均血红蛋白含量': 0, '平均血红蛋白浓度': 0, '红细胞体积分布宽度': 0, '血小板': 0, '血小板平均体积': 0, '血小板分布宽度': 0, '血小板压积': 0, '中性粒细胞绝对值': 0, '淋巴细胞绝对值': 0, '单核细胞绝对值': 0, '嗜酸性粒细胞绝对值': 0, '嗜碱性粒细胞绝对值': 0, '中性粒细胞百分比': 0, '淋巴细胞百分比': 0, '单核细胞百分比': 0, '嗜酸性粒细胞百分比': 0, '嗜碱性粒细胞百分比': 0, '大血小板比率': 0, 'C反应蛋白': 0, '肺炎支原体抗体IgM': 0}\n"
     ]
    }
   ],
   "source": [
    "#make a dict of test_names and set default value to 0\n",
    "dic_names = {}\n",
    "[dic_names.setdefault(name, 0) for name in test_names]\n",
    "print(dic_names)"
   ]
  },
  {
   "cell_type": "code",
   "execution_count": 7,
   "metadata": {},
   "outputs": [],
   "source": [
    "#map dict_names with not necessarily correct names from tesseract\n",
    "for i in range(len(test_names)):\n",
    "    found = False\n",
    "    max_count, index = 0, 0\n",
    "    for j in range(len(text)):\n",
    "        count = 0\n",
    "        if test_names[i] in text[j]:\n",
    "            dic_names[test_names[i]] = text[j]\n",
    "            found = True\n",
    "            break\n",
    "        else:\n",
    "            for c in test_names[i]:\n",
    "                if c in text[j]:\n",
    "                    count += 1\n",
    "            if count > max_count:\n",
    "                max_count, index = count, j\n",
    "    if not found:\n",
    "        dic_names[test_names[i]] = text[index]     "
   ]
  },
  {
   "cell_type": "code",
   "execution_count": 8,
   "metadata": {},
   "outputs": [
    {
     "data": {
      "text/plain": [
       "{'C反应蛋白': '沉血1C蛋白胆大体体IeWl血',\n",
       " '中性粒细胞百分比': '中性粒细胞百分比80.2',\n",
       " '中性粒细胞绝对值': 'MEU中性细胞绝对值5.2',\n",
       " '单核细胞百分比': '320-380g/LMOW单核细胞百分比7.5',\n",
       " '单核细胞绝对值': '单核细胞绝对值',\n",
       " '嗜碱性粒细胞百分比': '中性粒细胞百分比80.2',\n",
       " '嗜碱性粒细胞绝对值': 'g/L80S8/酸性标细胞绝对值0.000.050.501079/1',\n",
       " '嗜酸性粒细胞百分比': '中性粒细胞百分比80.2',\n",
       " '嗜酸性粒细胞绝对值': 'g/L80S8/酸性标细胞绝对值0.000.050.501079/1',\n",
       " '大血小板比率': '大血小板比率',\n",
       " '平均血红蛋白含量': '平均血红白量27.8',\n",
       " '平均血红蛋白浓度': 'MCHC平均血红蛋白浓度345',\n",
       " '淋巴细胞百分比': '淋巴细胞百分比',\n",
       " '淋巴细胞绝对值': '淋巴细胞绝对值',\n",
       " '白细胞': '白细胞',\n",
       " '红细胞': '红细胞',\n",
       " '红细胞体积分布宽度': 'RDWCY红细胞体积分布度13.1',\n",
       " '红细胞压积': '红细胞压积',\n",
       " '红细胞平均体积': '红细胞平均体积',\n",
       " '肺炎支原体抗体IgM': '沉血1C蛋白胆大体体IeWl血',\n",
       " '血小板': '血小板',\n",
       " '血小板分布宽度': 'PDW血小板体积分布密度9.815.518.1%8up-hb',\n",
       " '血小板压积': '血小板压积',\n",
       " '血小板平均体积': '血小板平均体积9.46.8-11.5flCgp',\n",
       " '血红蛋白': '血红蛋白'}"
      ]
     },
     "execution_count": 8,
     "metadata": {},
     "output_type": "execute_result"
    }
   ],
   "source": [
    "dic_names"
   ]
  },
  {
   "cell_type": "code",
   "execution_count": 9,
   "metadata": {},
   "outputs": [],
   "source": [
    "#convert text (list) back to a string with space\n",
    "text_string = ' '.join(text)"
   ]
  },
  {
   "cell_type": "code",
   "execution_count": 10,
   "metadata": {},
   "outputs": [
    {
     "data": {
      "text/plain": [
       "'P c cummn三单 性 大 4 沉血1C蛋白胆大体体IeWl血 l1核 -甘4- No201712 三固 性半9 移型血 计 积n 中同标 1酶白J葡糖碳目 标单网 标单 WBC 白细胞 6.52 半00-10.00109/LLi 淋巴细胞绝对值 0 0.925.3109/ RBC 红细胞 60 3.505.5010-12/LMOW 单核细胞绝对值 0.4 0.16--1.00109/ HGB 血红蛋白 128 110160 g/L80S8/酸性标细胞绝对值0.000.050.501079/1 HCT 红细胞压积 37.1 35.055.0 % BNS8 酶素碱钠 粒细胞绝对值0.01 0.00--0.20109/1 MCW 红细胞平均体积 80.7 80.0100.0红REU8 中性粒细胞百分比80.2 35.065.0 A MCH 平均血红白量27.8 27.434.0 P8 淋巴细胞百分比 12.1 23.0-53.0 氨 MCHC平均血红蛋白浓度345 320-380g/LMOW单核细胞百分比7.5 3.0-10.0 RDWCY红细胞体积分布度13.1 0.015.0%%E0Sg酸性标细胞百分比0.010.5-5.0 RDWSD红细胞体积分布度38 35-50 BMS8 碳性粒细胞百分比0.2 0.0--L.0 5 PLT 血小板 183 100-400 109/LP-LCR 大血小板比率 19.3 17.542.3 MPY 血小板平均体积9.46.8-11.5flCgp C度量6 0--10 ng/i PDW血小板体积分布密度9.815.518.1%8up-hb l葡钠x PCT 血小板压积 0.17 10.190.36 % MEU中性细胞绝对值5.2 1.4--6.5109/ RBC WBC PLT DIF t 5 1 1 1 a量嗜 - 目 标小二红 粒转酸差二糖 酶变蛋 核 板直间2017-12-240908 接直间2017-12-240912 直间2017-12-24093'"
      ]
     },
     "execution_count": 10,
     "metadata": {},
     "output_type": "execute_result"
    }
   ],
   "source": [
    "text_string"
   ]
  },
  {
   "cell_type": "code",
   "execution_count": 11,
   "metadata": {},
   "outputs": [
    {
     "name": "stdout",
     "output_type": "stream",
     "text": [
      "{'白细胞': 0, '红细胞': 0, '血红蛋白': 0, '红细胞压积': 0, '红细胞平均体积': 0, '平均血红蛋白含量': 0, '平均血红蛋白浓度': 0, '红细胞体积分布宽度': 0, '血小板': 0, '血小板平均体积': 0, '血小板分布宽度': 0, '血小板压积': 0, '中性粒细胞绝对值': 0, '淋巴细胞绝对值': 0, '单核细胞绝对值': 0, '嗜酸性粒细胞绝对值': 0, '嗜碱性粒细胞绝对值': 0, '中性粒细胞百分比': 0, '淋巴细胞百分比': 0, '单核细胞百分比': 0, '嗜酸性粒细胞百分比': 0, '嗜碱性粒细胞百分比': 0, '大血小板比率': 0, 'C反应蛋白': 0, '肺炎支原体抗体IgM': 0}\n"
     ]
    }
   ],
   "source": [
    "#initialize a dict for values with test_names as keys\n",
    "dic_values = {}\n",
    "[dic_values.setdefault(name, 0) for name in test_names]\n",
    "print(dic_values)"
   ]
  },
  {
   "cell_type": "code",
   "execution_count": 12,
   "metadata": {},
   "outputs": [],
   "source": [
    "#find the values for test_names, here suppose the values are all float\n",
    "for k, v in dic_names.items():\n",
    "    value = re.findall('\\d+\\.?\\d+', text_string[text_string.find(re.findall(r'[\\u4e00-\\u9fff]+', v)[0]):text_string.find(re.findall(r'[\\u4e00-\\u9fff]+', v)[0])+30])\n",
    "    if value:\n",
    "        dic_values[k] = value[0]"
   ]
  },
  {
   "cell_type": "code",
   "execution_count": 13,
   "metadata": {},
   "outputs": [
    {
     "data": {
      "text/plain": [
       "{'C反应蛋白': '201',\n",
       " '中性粒细胞百分比': '80.2',\n",
       " '中性粒细胞绝对值': '5.2',\n",
       " '单核细胞百分比': '7.5',\n",
       " '单核细胞绝对值': '0.4',\n",
       " '嗜碱性粒细胞百分比': '80.2',\n",
       " '嗜碱性粒细胞绝对值': '0.000',\n",
       " '嗜酸性粒细胞百分比': '80.2',\n",
       " '嗜酸性粒细胞绝对值': '0.000',\n",
       " '大血小板比率': '19.3',\n",
       " '平均血红蛋白含量': '27.8',\n",
       " '平均血红蛋白浓度': '345',\n",
       " '淋巴细胞百分比': '12.1',\n",
       " '淋巴细胞绝对值': '0.925',\n",
       " '白细胞': '6.52',\n",
       " '红细胞': '60',\n",
       " '红细胞体积分布宽度': '13.1',\n",
       " '红细胞压积': '37.1',\n",
       " '红细胞平均体积': '80.7',\n",
       " '肺炎支原体抗体IgM': '201',\n",
       " '血小板': '183',\n",
       " '血小板分布宽度': '9.815',\n",
       " '血小板压积': '0.17',\n",
       " '血小板平均体积': '9.46',\n",
       " '血红蛋白': '128'}"
      ]
     },
     "execution_count": 13,
     "metadata": {},
     "output_type": "execute_result"
    }
   ],
   "source": [
    "dic_values"
   ]
  },
  {
   "cell_type": "code",
   "execution_count": 14,
   "metadata": {},
   "outputs": [
    {
     "data": {
      "text/plain": [
       "0.68"
      ]
     },
     "execution_count": 14,
     "metadata": {},
     "output_type": "execute_result"
    }
   ],
   "source": [
    "17/len(test_names)"
   ]
  },
  {
   "cell_type": "code",
   "execution_count": null,
   "metadata": {},
   "outputs": [],
   "source": []
  }
 ],
 "metadata": {
  "kernelspec": {
   "display_name": "Python 3",
   "language": "python",
   "name": "python3"
  },
  "language_info": {
   "codemirror_mode": {
    "name": "ipython",
    "version": 3
   },
   "file_extension": ".py",
   "mimetype": "text/x-python",
   "name": "python",
   "nbconvert_exporter": "python",
   "pygments_lexer": "ipython3",
   "version": "3.6.8"
  }
 },
 "nbformat": 4,
 "nbformat_minor": 2
}
