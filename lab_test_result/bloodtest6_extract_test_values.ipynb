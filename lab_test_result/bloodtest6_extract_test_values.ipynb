{
 "cells": [
  {
   "cell_type": "code",
   "execution_count": 1,
   "metadata": {},
   "outputs": [],
   "source": [
    "import re"
   ]
  },
  {
   "cell_type": "code",
   "execution_count": 16,
   "metadata": {},
   "outputs": [],
   "source": [
    "from fuzzywuzzy import fuzz\n",
    "from fuzzywuzzy import process"
   ]
  },
  {
   "cell_type": "code",
   "execution_count": 17,
   "metadata": {},
   "outputs": [
    {
     "name": "stdout",
     "output_type": "stream",
     "text": [
      "{'白细胞计数': 0, '中性粒细胞百分比': 0, '淋巴细胞百分比': 0, '单核细胞百分比': 0, '嗜酸性粒细胞百分比': 0, '嗜碱粒细胞百分比': 0, '中性粒细胞计数': 0, '单核细胞计数': 0, '淋巴细胞计数': 0, '嗜酸性粒细胞计数': 0, '嗜碱性细胞计数': 0, '红细胞计数': 0, '血红蛋白': 0, '红细胞压积': 0, '平均红细胞体积': 0, '平均红细胞血红蛋白量': 0, '平均红细胞血红蛋白浓度': 0, '红细胞分布宽度': 0, '血小板计数': 0, '血小板压积': 0, '平均血小板体积': 0, '血小板平均分布宽度': 0, '网织红细胞计数': 0}\n"
     ]
    }
   ],
   "source": [
    "dic_fuzz = {}\n",
    "[dic_fuzz.setdefault(name, 0) for name in test_names]\n",
    "print(dic_fuzz)"
   ]
  },
  {
   "cell_type": "code",
   "execution_count": 18,
   "metadata": {},
   "outputs": [
    {
     "name": "stdout",
     "output_type": "stream",
     "text": [
      "白细胞计数 [('1白细胞计数WECJ', 90), ('7.中性粒细胞计数NE', 72), ('8淋巴细胞计数LY半', 72)]\n",
      "中性粒细胞百分比 [('性', 90), ('2中性粒细胞百分比NE%', 84), ('5.嗜酸性粒细胞百分比EO%', 79)]\n",
      "淋巴细胞百分比 [('3.淋巴细胞百分比LY%', 90), ('2中性粒细胞百分比NE%', 64), ('4单核细胞百分比GMio%8', 64)]\n",
      "单核细胞百分比 [('4单核细胞百分比GMio%8', 90), ('2中性粒细胞百分比NE%', 64), ('3.淋巴细胞百分比LY%', 64)]\n",
      "嗜酸性粒细胞百分比 [('5.嗜酸性粒细胞百分比EO%', 82), ('6.嗜碱性粒细胞百分比BAM%J', 80), ('2中性粒细胞百分比NE%', 70)]\n",
      "嗜碱粒细胞百分比 [('6.嗜碱性粒细胞百分比BAM%J', 79), ('5.嗜酸性粒细胞百分比EO%', 68), ('2中性粒细胞百分比NE%', 63)]\n",
      "中性粒细胞计数 [('性', 90), ('7.中性粒细胞计数NE', 90), ('10.嗜酸性粒细胞计数E0H', 77)]\n",
      "单核细胞计数 [('9.单核细胞计数MO', 90), ('1白细胞计数WECJ', 60), ('4单核细胞百分比GMio%8', 60)]\n",
      "淋巴细胞计数 [('8淋巴细胞计数LY半', 90), ('1白细胞计数WECJ', 60), ('3.淋巴细胞百分比LY%', 60)]\n",
      "嗜酸性粒细胞计数 [('性', 90), ('10.嗜酸性粒细胞计数E0H', 90), ('5.嗜酸性粒细胞百分比EO%', 68)]\n",
      "嗜碱性细胞计数 [('性', 90), ('11.嗜碱性细胞计数BAH', 90), ('6.嗜碱性粒细胞百分比BAM%J', 64)]\n",
      "红细胞计数 [('12.红细胞计数CRBC', 90), ('23.网织红细胞计数RET', 90), ('1白细胞计数WECJ', 72)]\n",
      "血红蛋白 [('13.血红蛋白HGBJ', 90), ('16.平均红细胞血红蛋白量MCHJ', 90), ('17平均红细胞血红蛋白浓度MCHCJ357.0', 90)]\n",
      "红细胞压积 [('14.红细胞压积HCT', 90), ('15.平均红细胞体积GMCV', 72), ('12.红细胞计数CRBC', 54)]\n",
      "平均红细胞体积 [('15.平均红细胞体积GMCV', 90), ('16.平均红细胞血红蛋白量MCHJ', 64), ('17平均红细胞血红蛋白浓度MCHCJ357.0', 64)]\n",
      "平均红细胞血红蛋白量 [('16.平均红细胞血红蛋白量MCHJ', 90), ('17平均红细胞血红蛋白浓度MCHCJ357.0', 81), ('15.平均红细胞体积GMCV', 42)]\n",
      "平均红细胞血红蛋白浓度 [('17平均红细胞血红蛋白浓度MCHCJ357.0', 90), ('16.平均红细胞血红蛋白量MCHJ', 74), ('15.平均红细胞体积GMCV', 40)]\n",
      "红细胞分布宽度 [('18.红细胞分布宽度RDIP', 90), ('22.血小板平均分布宽度PD', 51), ('宽0', 45)]\n",
      "血小板计数 [('19.血小板计数CPLT', 90), ('21.血小板压积P', 54), ('22.血小板平均分布宽度PD', 54)]\n",
      "血小板压积 [('21.血小板压积P', 90), ('19.血小板计数CPLT', 54), ('22.血小板平均分布宽度PD', 54)]\n",
      "平均血小板体积 [('15.平均红细胞体积GMCV', 51), ('21.血小板压积P', 50), ('16.平均红细胞血红蛋白量MCHJ', 39)]\n",
      "血小板平均分布宽度 [('22.血小板平均分布宽度PD', 90), ('宽0', 45), ('18.红细胞分布宽度RDIP', 40)]\n",
      "网织红细胞计数 [('23.网织红细胞计数RET', 90), ('12.红细胞计数CRBC', 64), ('7.中性粒细胞计数NE', 51)]\n"
     ]
    }
   ],
   "source": [
    "choices = text\n",
    "for k in dic_fuzz:\n",
    "    print(k, process.extract(k, choices, limit=3))"
   ]
  },
  {
   "cell_type": "code",
   "execution_count": 2,
   "metadata": {},
   "outputs": [],
   "source": [
    "#read in tesseract result with whitelist.txt as configs\n",
    "with open('bloodtest6.txt', 'r') as f:\n",
    "    text = f.read()"
   ]
  },
  {
   "cell_type": "code",
   "execution_count": 5,
   "metadata": {
    "collapsed": true
   },
   "outputs": [
    {
     "data": {
      "text/plain": [
       "['E',\n",
       " 'G',\n",
       " '醇',\n",
       " '性',\n",
       " 'r',\n",
       " '2',\n",
       " '钾r/酶r氧Z',\n",
       " '性二',\n",
       " 'a红ss单',\n",
       " '1白细胞计数WECJ',\n",
       " '6.31',\n",
       " '00-1006107gT',\n",
       " '2中性粒细胞百分比NE%',\n",
       " '6',\n",
       " '50.0-70.05%',\n",
       " '3.淋巴细胞百分比LY%',\n",
       " '35.8',\n",
       " '20.0-40.0',\n",
       " '4单核细胞百分比GMio%8',\n",
       " '5.7',\n",
       " '10',\n",
       " '5.嗜酸性粒细胞百分比EO%',\n",
       " '1',\n",
       " '0.550',\n",
       " '6.嗜碱性粒细胞百分比BAM%J',\n",
       " '0.50',\n",
       " '0.00-1.50%',\n",
       " '7.中性粒细胞计数NE',\n",
       " '3.58',\n",
       " '2001.000at',\n",
       " '8淋巴细胞计数LY半',\n",
       " '2.26',\n",
       " '0.80-4001079/L',\n",
       " '9.单核细胞计数MO',\n",
       " '0.36',\n",
       " '0.10-1.00L0r9/E',\n",
       " '10.嗜酸性粒细胞计数E0H',\n",
       " '0.08',\n",
       " '0.02-0.5010-9/L',\n",
       " '11.嗜碱性细胞计数BAH',\n",
       " '0.03',\n",
       " '0.00-0.051079/L',\n",
       " '12.红细胞计数CRBC',\n",
       " '440',\n",
       " '4.00-5.50s',\n",
       " '13.血红蛋白HGBJ',\n",
       " '139',\n",
       " 'l0-l50',\n",
       " '14.红细胞压积HCT',\n",
       " '0.39',\n",
       " '0.35-0.5LfE',\n",
       " '15.平均红细胞体积GMCV',\n",
       " '88.4',\n",
       " 's6.0-la',\n",
       " '16.平均红细胞血红蛋白量MCHJ',\n",
       " 'a',\n",
       " '00',\n",
       " '17平均红细胞血红蛋白浓度MCHCJ357.0',\n",
       " '320.0-38010',\n",
       " '1',\n",
       " '18.红细胞分布宽度RDIP',\n",
       " '0',\n",
       " 'migg-30b二',\n",
       " '19.血小板计数CPLT',\n",
       " '223',\n",
       " '6.50-13.',\n",
       " '20.',\n",
       " '平j量蛋碳差直葡1接醇蛋MPW',\n",
       " 'g.',\n",
       " '宽0',\n",
       " '-',\n",
       " '21.血小板压积P',\n",
       " '.',\n",
       " '-',\n",
       " '22.血小板平均分布宽度PD',\n",
       " '10.20',\n",
       " '3',\n",
       " 'g8',\n",
       " '密',\n",
       " '23.网织红细胞计数RET',\n",
       " '0.56',\n",
       " '-']"
      ]
     },
     "execution_count": 5,
     "metadata": {},
     "output_type": "execute_result"
    }
   ],
   "source": [
    "text"
   ]
  },
  {
   "cell_type": "code",
   "execution_count": 4,
   "metadata": {},
   "outputs": [],
   "source": [
    "#convert to a list\n",
    "text = text.split()"
   ]
  },
  {
   "cell_type": "code",
   "execution_count": 6,
   "metadata": {},
   "outputs": [],
   "source": [
    "test_names = ['白细胞计数','中性粒细胞百分比','淋巴细胞百分比','单核细胞百分比','嗜酸性粒细胞百分比','嗜碱粒细胞百分比','中性粒细胞计数',\n",
    "             '单核细胞计数','淋巴细胞计数','嗜酸性粒细胞计数','嗜碱性细胞计数','红细胞计数','血红蛋白','红细胞压积','平均红细胞体积',\n",
    "             '平均红细胞血红蛋白量','平均红细胞血红蛋白浓度','红细胞分布宽度','血小板计数','血小板压积','平均血小板体积',\n",
    "             '血小板平均分布宽度','网织红细胞计数']\n"
   ]
  },
  {
   "cell_type": "code",
   "execution_count": 7,
   "metadata": {},
   "outputs": [
    {
     "name": "stdout",
     "output_type": "stream",
     "text": [
      "{'白细胞计数': 0, '中性粒细胞百分比': 0, '淋巴细胞百分比': 0, '单核细胞百分比': 0, '嗜酸性粒细胞百分比': 0, '嗜碱粒细胞百分比': 0, '中性粒细胞计数': 0, '单核细胞计数': 0, '淋巴细胞计数': 0, '嗜酸性粒细胞计数': 0, '嗜碱性细胞计数': 0, '红细胞计数': 0, '血红蛋白': 0, '红细胞压积': 0, '平均红细胞体积': 0, '平均红细胞血红蛋白量': 0, '平均红细胞血红蛋白浓度': 0, '红细胞分布宽度': 0, '血小板计数': 0, '血小板压积': 0, '平均血小板体积': 0, '血小板平均分布宽度': 0, '网织红细胞计数': 0}\n"
     ]
    }
   ],
   "source": [
    "#make a dict of test_names and set default value to 0\n",
    "dic_names = {}\n",
    "[dic_names.setdefault(name, 0) for name in test_names]\n",
    "print(dic_names)"
   ]
  },
  {
   "cell_type": "code",
   "execution_count": 8,
   "metadata": {},
   "outputs": [],
   "source": [
    "#map dict_names with not necessarily correct names from tesseract\n",
    "for i in range(len(test_names)):\n",
    "    found = False\n",
    "    max_count, index = 0, 0\n",
    "    for j in range(len(text)):\n",
    "        count = 0\n",
    "        if test_names[i] in text[j]:\n",
    "            dic_names[test_names[i]] = text[j]\n",
    "            found = True\n",
    "            break\n",
    "        else:\n",
    "            for c in test_names[i]:\n",
    "                if c in text[j]:\n",
    "                    count += 1\n",
    "            if count > max_count:\n",
    "                max_count, index = count, j\n",
    "    if not found:\n",
    "        dic_names[test_names[i]] = text[index]     "
   ]
  },
  {
   "cell_type": "code",
   "execution_count": 9,
   "metadata": {},
   "outputs": [
    {
     "data": {
      "text/plain": [
       "{'中性粒细胞百分比': '2中性粒细胞百分比NE%',\n",
       " '中性粒细胞计数': '7.中性粒细胞计数NE',\n",
       " '单核细胞百分比': '4单核细胞百分比GMio%8',\n",
       " '单核细胞计数': '9.单核细胞计数MO',\n",
       " '嗜碱性细胞计数': '11.嗜碱性细胞计数BAH',\n",
       " '嗜碱粒细胞百分比': '6.嗜碱性粒细胞百分比BAM%J',\n",
       " '嗜酸性粒细胞百分比': '5.嗜酸性粒细胞百分比EO%',\n",
       " '嗜酸性粒细胞计数': '10.嗜酸性粒细胞计数E0H',\n",
       " '平均红细胞体积': '15.平均红细胞体积GMCV',\n",
       " '平均红细胞血红蛋白浓度': '17平均红细胞血红蛋白浓度MCHCJ357.0',\n",
       " '平均红细胞血红蛋白量': '16.平均红细胞血红蛋白量MCHJ',\n",
       " '平均血小板体积': '22.血小板平均分布宽度PD',\n",
       " '淋巴细胞百分比': '3.淋巴细胞百分比LY%',\n",
       " '淋巴细胞计数': '8淋巴细胞计数LY半',\n",
       " '白细胞计数': '1白细胞计数WECJ',\n",
       " '红细胞分布宽度': '18.红细胞分布宽度RDIP',\n",
       " '红细胞压积': '14.红细胞压积HCT',\n",
       " '红细胞计数': '12.红细胞计数CRBC',\n",
       " '网织红细胞计数': '23.网织红细胞计数RET',\n",
       " '血小板压积': '21.血小板压积P',\n",
       " '血小板平均分布宽度': '22.血小板平均分布宽度PD',\n",
       " '血小板计数': '19.血小板计数CPLT',\n",
       " '血红蛋白': '13.血红蛋白HGBJ'}"
      ]
     },
     "execution_count": 9,
     "metadata": {},
     "output_type": "execute_result"
    }
   ],
   "source": [
    "dic_names"
   ]
  },
  {
   "cell_type": "code",
   "execution_count": 10,
   "metadata": {},
   "outputs": [],
   "source": [
    "#convert text (list) back to a string with space\n",
    "text_string = ' '.join(text)"
   ]
  },
  {
   "cell_type": "code",
   "execution_count": 11,
   "metadata": {},
   "outputs": [
    {
     "data": {
      "text/plain": [
       "'E G 醇 性 r 2 钾r/酶r氧Z 性二 a红ss单 1白细胞计数WECJ 6.31 00-1006107gT 2中性粒细胞百分比NE% 6 50.0-70.05% 3.淋巴细胞百分比LY% 35.8 20.0-40.0 4单核细胞百分比GMio%8 5.7 10 5.嗜酸性粒细胞百分比EO% 1 0.550 6.嗜碱性粒细胞百分比BAM%J 0.50 0.00-1.50% 7.中性粒细胞计数NE 3.58 2001.000at 8淋巴细胞计数LY半 2.26 0.80-4001079/L 9.单核细胞计数MO 0.36 0.10-1.00L0r9/E 10.嗜酸性粒细胞计数E0H 0.08 0.02-0.5010-9/L 11.嗜碱性细胞计数BAH 0.03 0.00-0.051079/L 12.红细胞计数CRBC 440 4.00-5.50s 13.血红蛋白HGBJ 139 l0-l50 14.红细胞压积HCT 0.39 0.35-0.5LfE 15.平均红细胞体积GMCV 88.4 s6.0-la 16.平均红细胞血红蛋白量MCHJ a 00 17平均红细胞血红蛋白浓度MCHCJ357.0 320.0-38010 1 18.红细胞分布宽度RDIP 0 migg-30b二 19.血小板计数CPLT 223 6.50-13. 20. 平j量蛋碳差直葡1接醇蛋MPW g. 宽0 - 21.血小板压积P . - 22.血小板平均分布宽度PD 10.20 3 g8 密 23.网织红细胞计数RET 0.56 -'"
      ]
     },
     "execution_count": 11,
     "metadata": {},
     "output_type": "execute_result"
    }
   ],
   "source": [
    "text_string"
   ]
  },
  {
   "cell_type": "code",
   "execution_count": 12,
   "metadata": {},
   "outputs": [
    {
     "name": "stdout",
     "output_type": "stream",
     "text": [
      "{'白细胞计数': 0, '中性粒细胞百分比': 0, '淋巴细胞百分比': 0, '单核细胞百分比': 0, '嗜酸性粒细胞百分比': 0, '嗜碱粒细胞百分比': 0, '中性粒细胞计数': 0, '单核细胞计数': 0, '淋巴细胞计数': 0, '嗜酸性粒细胞计数': 0, '嗜碱性细胞计数': 0, '红细胞计数': 0, '血红蛋白': 0, '红细胞压积': 0, '平均红细胞体积': 0, '平均红细胞血红蛋白量': 0, '平均红细胞血红蛋白浓度': 0, '红细胞分布宽度': 0, '血小板计数': 0, '血小板压积': 0, '平均血小板体积': 0, '血小板平均分布宽度': 0, '网织红细胞计数': 0}\n"
     ]
    }
   ],
   "source": [
    "#initialize a dict for values with test_names as keys\n",
    "dic_values = {}\n",
    "[dic_values.setdefault(name, 0) for name in test_names]\n",
    "print(dic_values)"
   ]
  },
  {
   "cell_type": "code",
   "execution_count": 61,
   "metadata": {},
   "outputs": [],
   "source": [
    "#find the values for test_names, here suppose the values are all float\n",
    "for k, v in dic_names.items():\n",
    "    value = re.findall('\\d+\\.?\\d+', text_string[text_string.find(re.findall(r'[\\u4e00-\\u9fff]+', v)[0]):text_string.find(re.findall(r'[\\u4e00-\\u9fff]+', v)[0])+30])\n",
    "    if value:\n",
    "        dic_values[k] = value[0]"
   ]
  },
  {
   "cell_type": "code",
   "execution_count": 62,
   "metadata": {},
   "outputs": [
    {
     "data": {
      "text/plain": [
       "{'中性粒细胞百分比': '50.0',\n",
       " '中性粒细胞计数': '3.58',\n",
       " '单核细胞百分比': '5.7',\n",
       " '单核细胞计数': '0.36',\n",
       " '嗜碱性细胞计数': '0.03',\n",
       " '嗜碱粒细胞百分比': '0.50',\n",
       " '嗜酸性粒细胞百分比': '0.550',\n",
       " '嗜酸性粒细胞计数': '0.08',\n",
       " '平均红细胞体积': '88.4',\n",
       " '平均红细胞血红蛋白浓度': '357.0',\n",
       " '平均红细胞血红蛋白量': '00',\n",
       " '平均血小板体积': '10.20',\n",
       " '淋巴细胞百分比': '35.8',\n",
       " '淋巴细胞计数': '2.26',\n",
       " '白细胞计数': '6.31',\n",
       " '红细胞分布宽度': '30',\n",
       " '红细胞压积': '0.39',\n",
       " '红细胞计数': '440',\n",
       " '网织红细胞计数': '0.56',\n",
       " '血小板压积': '22',\n",
       " '血小板平均分布宽度': '10.20',\n",
       " '血小板计数': '223',\n",
       " '血红蛋白': '139'}"
      ]
     },
     "execution_count": 62,
     "metadata": {},
     "output_type": "execute_result"
    }
   ],
   "source": [
    "dic_values"
   ]
  },
  {
   "cell_type": "code",
   "execution_count": 63,
   "metadata": {},
   "outputs": [
    {
     "data": {
      "text/plain": [
       "0.6956521739130435"
      ]
     },
     "execution_count": 63,
     "metadata": {},
     "output_type": "execute_result"
    }
   ],
   "source": [
    "16/len(test_names)"
   ]
  },
  {
   "cell_type": "code",
   "execution_count": null,
   "metadata": {},
   "outputs": [],
   "source": []
  }
 ],
 "metadata": {
  "kernelspec": {
   "display_name": "Python 3",
   "language": "python",
   "name": "python3"
  },
  "language_info": {
   "codemirror_mode": {
    "name": "ipython",
    "version": 3
   },
   "file_extension": ".py",
   "mimetype": "text/x-python",
   "name": "python",
   "nbconvert_exporter": "python",
   "pygments_lexer": "ipython3",
   "version": "3.5.2"
  }
 },
 "nbformat": 4,
 "nbformat_minor": 2
}
