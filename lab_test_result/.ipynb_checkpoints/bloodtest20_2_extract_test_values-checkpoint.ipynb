{
 "cells": [
  {
   "cell_type": "code",
   "execution_count": 1,
   "metadata": {},
   "outputs": [],
   "source": [
    "import re"
   ]
  },
  {
   "cell_type": "code",
   "execution_count": 2,
   "metadata": {},
   "outputs": [],
   "source": [
    "#read in tesseract result with whitelist.txt as configs\n",
    "with open('bloodtest20_1_resize1000.txt', 'r') as f:\n",
    "    text = f.read()"
   ]
  },
  {
   "cell_type": "code",
   "execution_count": 3,
   "metadata": {},
   "outputs": [
    {
     "data": {
      "text/plain": [
       "'J二素酶变i度大 度载L 胞糖  直胞葡尿素  酰中 \\n核移单        标.LA7609            宽二\\n性       计T10071129     标积.血     标                       --\\nb性分          积化       17083015210性            目\\n2                      单糖E蛋二宽激醇E    目2017-08-30\\n葡      -\\n7 目    绝素       素嗜葡血   目    标       数t嗜葡固\\n丁白脂计数8.00       3.69--9.16x10p/L血红白   144       113--151g/L       氯\\n中性粒细胞%70.1     50.09%6--70.0%  0.418      0.335--0.450        l\\n白淋巴细胞%20.6       20.0%--40.0%平均红细体积93.3       82.6--99.1f       1\\n单核细胞%7.3         3.0%--10.0%平均血红蛋白量321        26.9--33.3pg\\nE酸性粒细%1.4         0.5%--5.0%    平均血红蛋白浓度344         322--362g/L\\n小碱性积细胞%0.6           <1.0%       红细胞分布宽度12.7          11.6%--140%\\n中性粒细胞计数5.60         2.00--7.00x108/L血小板计数192         101--320x108/L\\n淋巴计数1.60         0.80--4.00x10/L血小板平均体积9.7         6.5--120f        度\\n单核细脂计数0.60          Ql2--Loox1 3g /Li\\n酸性积细计数0.10              0.02--0.50x108/L\\n磷性粒细计数0.00              <1.00x105L                                                 目\\n红细脂计数4.48        3.68--5.13x10L2/L                        - \\n直间17-08-3014.21 17-08-301424间17-08-30 1L4二3l碳 8间.17-08-301514\\n20红             PD/ 核对e\\n细 激                   化单1          碳糖  素\\n\\x0c'"
      ]
     },
     "execution_count": 3,
     "metadata": {},
     "output_type": "execute_result"
    }
   ],
   "source": [
    "text"
   ]
  },
  {
   "cell_type": "code",
   "execution_count": 4,
   "metadata": {},
   "outputs": [],
   "source": [
    "#convert to a list\n",
    "text = text.split()"
   ]
  },
  {
   "cell_type": "code",
   "execution_count": 5,
   "metadata": {},
   "outputs": [],
   "source": [
    "test_names = ['白细胞计数','红细胞计数','中性粒细胞%','淋巴细胞%','中性粒细胞计数','单核细胞计数','嗜酸性粒细胞计数',\n",
    "             '淋巴细胞计数','平均血红蛋白浓度','平均红细胞体积','嗜碱性粒细胞%','嗜碱性粒细胞计数',\n",
    "             '平均血红蛋白量','血小板计数','单核细胞%','嗜酸性粒细胞%',\n",
    "             '红细胞分布宽度','血红蛋白','血小板平均体积','红细胞比容']\n"
   ]
  },
  {
   "cell_type": "code",
   "execution_count": 6,
   "metadata": {},
   "outputs": [
    {
     "name": "stdout",
     "output_type": "stream",
     "text": [
      "{'白细胞计数': 0, '红细胞计数': 0, '中性粒细胞%': 0, '淋巴细胞%': 0, '中性粒细胞计数': 0, '单核细胞计数': 0, '嗜酸性粒细胞计数': 0, '淋巴细胞计数': 0, '平均血红蛋白浓度': 0, '平均红细胞体积': 0, '嗜碱性粒细胞%': 0, '嗜碱性粒细胞计数': 0, '平均血红蛋白量': 0, '血小板计数': 0, '单核细胞%': 0, '嗜酸性粒细胞%': 0, '红细胞分布宽度': 0, '血红蛋白': 0, '血小板平均体积': 0, '红细胞比容': 0}\n"
     ]
    }
   ],
   "source": [
    "#make a dict of test_names and set default value to 0\n",
    "dic_names = {}\n",
    "[dic_names.setdefault(name, 0) for name in test_names]\n",
    "print(dic_names)"
   ]
  },
  {
   "cell_type": "code",
   "execution_count": 7,
   "metadata": {},
   "outputs": [],
   "source": [
    "#map dict_names with not necessarily correct names from tesseract\n",
    "for i in range(len(test_names)):\n",
    "    found = False\n",
    "    max_count, index = 0, 0\n",
    "    for j in range(len(text)):\n",
    "        count = 0\n",
    "        if test_names[i] in text[j]:\n",
    "            dic_names[test_names[i]] = text[j]\n",
    "            found = True\n",
    "            break\n",
    "        else:\n",
    "            for c in test_names[i]:\n",
    "                if c in text[j]:\n",
    "                    count += 1\n",
    "            if count > max_count:\n",
    "                max_count, index = count, j\n",
    "    if not found:\n",
    "        dic_names[test_names[i]] = text[index]     "
   ]
  },
  {
   "cell_type": "code",
   "execution_count": 8,
   "metadata": {},
   "outputs": [
    {
     "data": {
      "text/plain": [
       "{'中性粒细胞%': '中性粒细胞%70.1',\n",
       " '中性粒细胞计数': '中性粒细胞计数5.60',\n",
       " '单核细胞%': '单核细胞%7.3',\n",
       " '单核细胞计数': '单核细脂计数0.60',\n",
       " '嗜碱性粒细胞%': '中性粒细胞%70.1',\n",
       " '嗜碱性粒细胞计数': '中性粒细胞计数5.60',\n",
       " '嗜酸性粒细胞%': '中性粒细胞%70.1',\n",
       " '嗜酸性粒细胞计数': '中性粒细胞计数5.60',\n",
       " '平均红细胞体积': '20.0%--40.0%平均红细体积93.3',\n",
       " '平均血红蛋白浓度': '平均血红蛋白浓度344',\n",
       " '平均血红蛋白量': '3.0%--10.0%平均血红蛋白量321',\n",
       " '淋巴细胞%': '白淋巴细胞%20.6',\n",
       " '淋巴细胞计数': '白淋巴细胞%20.6',\n",
       " '白细胞计数': '中性粒细胞计数5.60',\n",
       " '红细胞分布宽度': '红细胞分布宽度12.7',\n",
       " '红细胞比容': '红细胞分布宽度12.7',\n",
       " '红细胞计数': '中性粒细胞计数5.60',\n",
       " '血小板平均体积': '0.80--4.00x10/L血小板平均体积9.7',\n",
       " '血小板计数': '2.00--7.00x108/L血小板计数192',\n",
       " '血红蛋白': '3.0%--10.0%平均血红蛋白量321'}"
      ]
     },
     "execution_count": 8,
     "metadata": {},
     "output_type": "execute_result"
    }
   ],
   "source": [
    "dic_names"
   ]
  },
  {
   "cell_type": "code",
   "execution_count": 9,
   "metadata": {},
   "outputs": [],
   "source": [
    "#convert text (list) back to a string with space\n",
    "text_string = ' '.join(text)"
   ]
  },
  {
   "cell_type": "code",
   "execution_count": 10,
   "metadata": {},
   "outputs": [
    {
     "data": {
      "text/plain": [
       "'J二素酶变i度大 度载L 胞糖 直胞葡尿素 酰中 核移单 标.LA7609 宽二 性 计T10071129 标积.血 标 -- b性分 积化 17083015210性 目 2 单糖E蛋二宽激醇E 目2017-08-30 葡 - 7 目 绝素 素嗜葡血 目 标 数t嗜葡固 丁白脂计数8.00 3.69--9.16x10p/L血红白 144 113--151g/L 氯 中性粒细胞%70.1 50.09%6--70.0% 0.418 0.335--0.450 l 白淋巴细胞%20.6 20.0%--40.0%平均红细体积93.3 82.6--99.1f 1 单核细胞%7.3 3.0%--10.0%平均血红蛋白量321 26.9--33.3pg E酸性粒细%1.4 0.5%--5.0% 平均血红蛋白浓度344 322--362g/L 小碱性积细胞%0.6 <1.0% 红细胞分布宽度12.7 11.6%--140% 中性粒细胞计数5.60 2.00--7.00x108/L血小板计数192 101--320x108/L 淋巴计数1.60 0.80--4.00x10/L血小板平均体积9.7 6.5--120f 度 单核细脂计数0.60 Ql2--Loox1 3g /Li 酸性积细计数0.10 0.02--0.50x108/L 磷性粒细计数0.00 <1.00x105L 目 红细脂计数4.48 3.68--5.13x10L2/L - 直间17-08-3014.21 17-08-301424间17-08-30 1L4二3l碳 8间.17-08-301514 20红 PD/ 核对e 细 激 化单1 碳糖 素'"
      ]
     },
     "execution_count": 10,
     "metadata": {},
     "output_type": "execute_result"
    }
   ],
   "source": [
    "text_string"
   ]
  },
  {
   "cell_type": "code",
   "execution_count": 11,
   "metadata": {},
   "outputs": [
    {
     "name": "stdout",
     "output_type": "stream",
     "text": [
      "{'白细胞计数': 0, '红细胞计数': 0, '中性粒细胞%': 0, '淋巴细胞%': 0, '中性粒细胞计数': 0, '单核细胞计数': 0, '嗜酸性粒细胞计数': 0, '淋巴细胞计数': 0, '平均血红蛋白浓度': 0, '平均红细胞体积': 0, '嗜碱性粒细胞%': 0, '嗜碱性粒细胞计数': 0, '平均血红蛋白量': 0, '血小板计数': 0, '单核细胞%': 0, '嗜酸性粒细胞%': 0, '红细胞分布宽度': 0, '血红蛋白': 0, '血小板平均体积': 0, '红细胞比容': 0}\n"
     ]
    }
   ],
   "source": [
    "#initialize a dict for values with test_names as keys\n",
    "dic_values = {}\n",
    "[dic_values.setdefault(name, 0) for name in test_names]\n",
    "print(dic_values)"
   ]
  },
  {
   "cell_type": "code",
   "execution_count": 12,
   "metadata": {},
   "outputs": [],
   "source": [
    "#find the values for test_names, here suppose the values are all float\n",
    "for k, v in dic_names.items():\n",
    "    value = re.findall('\\d+\\.?\\d{0,3}', text_string[text_string.find(re.findall(r'[\\u4e00-\\u9fff]+', v)[0]):text_string.find(re.findall(r'[\\u4e00-\\u9fff]+', v)[0])+30])\n",
    "    if value:\n",
    "        dic_values[k] = value[0]"
   ]
  },
  {
   "cell_type": "code",
   "execution_count": 13,
   "metadata": {},
   "outputs": [
    {
     "data": {
      "text/plain": [
       "{'中性粒细胞%': '70.1',\n",
       " '中性粒细胞计数': '5.60',\n",
       " '单核细胞%': '7.3',\n",
       " '单核细胞计数': '0.60',\n",
       " '嗜碱性粒细胞%': '70.1',\n",
       " '嗜碱性粒细胞计数': '5.60',\n",
       " '嗜酸性粒细胞%': '70.1',\n",
       " '嗜酸性粒细胞计数': '5.60',\n",
       " '平均红细胞体积': '93.3',\n",
       " '平均血红蛋白浓度': '344',\n",
       " '平均血红蛋白量': '321',\n",
       " '淋巴细胞%': '20.6',\n",
       " '淋巴细胞计数': '20.6',\n",
       " '白细胞计数': '5.60',\n",
       " '红细胞分布宽度': '12.7',\n",
       " '红细胞比容': '12.7',\n",
       " '红细胞计数': '5.60',\n",
       " '血小板平均体积': '9.7',\n",
       " '血小板计数': '192',\n",
       " '血红蛋白': '321'}"
      ]
     },
     "execution_count": 13,
     "metadata": {},
     "output_type": "execute_result"
    }
   ],
   "source": [
    "dic_values"
   ]
  },
  {
   "cell_type": "code",
   "execution_count": 14,
   "metadata": {},
   "outputs": [
    {
     "data": {
      "text/plain": [
       "0.55"
      ]
     },
     "execution_count": 14,
     "metadata": {},
     "output_type": "execute_result"
    }
   ],
   "source": [
    "11/len(test_names)"
   ]
  },
  {
   "cell_type": "code",
   "execution_count": null,
   "metadata": {},
   "outputs": [],
   "source": []
  }
 ],
 "metadata": {
  "kernelspec": {
   "display_name": "Python 3",
   "language": "python",
   "name": "python3"
  },
  "language_info": {
   "codemirror_mode": {
    "name": "ipython",
    "version": 3
   },
   "file_extension": ".py",
   "mimetype": "text/x-python",
   "name": "python",
   "nbconvert_exporter": "python",
   "pygments_lexer": "ipython3",
   "version": "3.6.8"
  }
 },
 "nbformat": 4,
 "nbformat_minor": 2
}
