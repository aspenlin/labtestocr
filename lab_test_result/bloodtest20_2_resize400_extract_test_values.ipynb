{
 "cells": [
  {
   "cell_type": "code",
   "execution_count": 1,
   "metadata": {},
   "outputs": [],
   "source": [
    "import re"
   ]
  },
  {
   "cell_type": "code",
   "execution_count": 2,
   "metadata": {},
   "outputs": [],
   "source": [
    "#read in tesseract result with whitelist.txt as configs\n",
    "with open('bloodtest20_2_resize400.txt', 'r') as f:\n",
    "    text = f.read()"
   ]
  },
  {
   "cell_type": "code",
   "execution_count": 3,
   "metadata": {},
   "outputs": [
    {
     "data": {
      "text/plain": [
       "'网                     a\\n-                253   性    二   wys      1k5\\nJ二醇3 L直葡谷量醇葡g直蛋B1甘j差酶 I蛋Bj宽 准j 丙接直萄量zi核 度差异中 总      t\\n数差          移单总     标FT5482\\nl 酶 性       氢 嗜 s          L                                 -\\n5       标      8smoortodoe0o标au标\\n22        总积总肌      板17032726191总性三\\n       目标标丙S固标-量\\n白细胞计数     15.293.69--9.16x10P/L血红蛋白      140    113--151g/L         1\\n中性粒细胞%     89.250.0%--70.09%6红细胞比     0.384   0.335--0.450\\n淋巴细胞%      5.4小20.09%--40.0%平均红细胞体积   88.5    82.6--99.1f         -\\n单核细胞%    5.0    3.096--10.0%6  平均血红蛋白量  32.326.9--33.3p9\\n酸性粒细胞%     0.3小0.5%--5.0%    平均血红蛋白浓度365小322--3629/            1\\n碱性粒细胞%          0.1             <1.0%                红细胞分布宽度         12.0          11.696--14.0%                        -\\n中性粒细胞计数   13.652.00--7.00x10/L 血小板计数    193   101--320x1C      -\\n淋巴细胞计数    0.82    0.80--4.00x10/L血小板平均体积   11.2   6.5--12.0f\\n单核细胞计数    0.77    0.12--1.00x10P/L El \\n酸性粒细胞计数0.04    0.02--0.50x10P/L1                        -\\nf   i         4.34     3.68--5.13x1012/L1\\n氨- I量jl草醇F蛋量7-03-27 16-24   间17-03-2716.30  直间17-03-27 16草直  异间17-03-2716.36\\ns丁积标-M/\\n20板二                         二二\\n-.1\\n量3蛋油                  化单 1       总 核\\n\\x0c'"
      ]
     },
     "execution_count": 3,
     "metadata": {},
     "output_type": "execute_result"
    }
   ],
   "source": [
    "text"
   ]
  },
  {
   "cell_type": "code",
   "execution_count": 4,
   "metadata": {},
   "outputs": [],
   "source": [
    "#convert to a list\n",
    "text = text.split()"
   ]
  },
  {
   "cell_type": "code",
   "execution_count": 5,
   "metadata": {},
   "outputs": [],
   "source": [
    "test_names = ['白细胞计数','红细胞计数','中性粒细胞%','淋巴细胞%','中性粒细胞计数','单核细胞计数','嗜酸性粒细胞计数',\n",
    "             '淋巴细胞计数','平均血红蛋白浓度','平均红细胞体积','嗜碱性粒细胞%','嗜碱性粒细胞计数',\n",
    "             '平均血红蛋白量','血小板计数','单核细胞%','嗜酸性粒细胞%',\n",
    "             '红细胞分布宽度','血红蛋白','血小板平均体积','红细胞比容']\n"
   ]
  },
  {
   "cell_type": "code",
   "execution_count": 6,
   "metadata": {},
   "outputs": [
    {
     "name": "stdout",
     "output_type": "stream",
     "text": [
      "{'白细胞计数': 0, '红细胞计数': 0, '中性粒细胞%': 0, '淋巴细胞%': 0, '中性粒细胞计数': 0, '单核细胞计数': 0, '嗜酸性粒细胞计数': 0, '淋巴细胞计数': 0, '平均血红蛋白浓度': 0, '平均红细胞体积': 0, '嗜碱性粒细胞%': 0, '嗜碱性粒细胞计数': 0, '平均血红蛋白量': 0, '血小板计数': 0, '单核细胞%': 0, '嗜酸性粒细胞%': 0, '红细胞分布宽度': 0, '血红蛋白': 0, '血小板平均体积': 0, '红细胞比容': 0}\n"
     ]
    }
   ],
   "source": [
    "#make a dict of test_names and set default value to 0\n",
    "dic_names = {}\n",
    "[dic_names.setdefault(name, 0) for name in test_names]\n",
    "print(dic_names)"
   ]
  },
  {
   "cell_type": "code",
   "execution_count": 7,
   "metadata": {},
   "outputs": [],
   "source": [
    "#map dict_names with not necessarily correct names from tesseract\n",
    "for i in range(len(test_names)):\n",
    "    found = False\n",
    "    max_count, index = 0, 0\n",
    "    for j in range(len(text)):\n",
    "        count = 0\n",
    "        if test_names[i] in text[j]:\n",
    "            dic_names[test_names[i]] = text[j]\n",
    "            found = True\n",
    "            break\n",
    "        else:\n",
    "            for c in test_names[i]:\n",
    "                if c in text[j]:\n",
    "                    count += 1\n",
    "            if count > max_count:\n",
    "                max_count, index = count, j\n",
    "    if not found:\n",
    "        dic_names[test_names[i]] = text[index]     "
   ]
  },
  {
   "cell_type": "code",
   "execution_count": 8,
   "metadata": {},
   "outputs": [
    {
     "data": {
      "text/plain": [
       "{'中性粒细胞%': '中性粒细胞%',\n",
       " '中性粒细胞计数': '中性粒细胞计数',\n",
       " '单核细胞%': '单核细胞%',\n",
       " '单核细胞计数': '单核细胞计数',\n",
       " '嗜碱性粒细胞%': '碱性粒细胞%',\n",
       " '嗜碱性粒细胞计数': '中性粒细胞计数',\n",
       " '嗜酸性粒细胞%': '酸性粒细胞%',\n",
       " '嗜酸性粒细胞计数': '酸性粒细胞计数0.04',\n",
       " '平均红细胞体积': '5.4小20.09%--40.0%平均红细胞体积',\n",
       " '平均血红蛋白浓度': '平均血红蛋白浓度365小322--3629/',\n",
       " '平均血红蛋白量': '平均血红蛋白量',\n",
       " '淋巴细胞%': '淋巴细胞%',\n",
       " '淋巴细胞计数': '淋巴细胞计数',\n",
       " '白细胞计数': '白细胞计数',\n",
       " '红细胞分布宽度': '红细胞分布宽度',\n",
       " '红细胞比容': '89.250.0%--70.09%6红细胞比',\n",
       " '红细胞计数': '白细胞计数',\n",
       " '血小板平均体积': '0.80--4.00x10/L血小板平均体积',\n",
       " '血小板计数': '血小板计数',\n",
       " '血红蛋白': '15.293.69--9.16x10P/L血红蛋白'}"
      ]
     },
     "execution_count": 8,
     "metadata": {},
     "output_type": "execute_result"
    }
   ],
   "source": [
    "dic_names"
   ]
  },
  {
   "cell_type": "code",
   "execution_count": 9,
   "metadata": {},
   "outputs": [],
   "source": [
    "#convert text (list) back to a string with space\n",
    "text_string = ' '.join(text)"
   ]
  },
  {
   "cell_type": "code",
   "execution_count": 10,
   "metadata": {},
   "outputs": [
    {
     "data": {
      "text/plain": [
       "'网 a - 253 性 二 wys 1k5 J二醇3 L直葡谷量醇葡g直蛋B1甘j差酶 I蛋Bj宽 准j 丙接直萄量zi核 度差异中 总 t 数差 移单总 标FT5482 l 酶 性 氢 嗜 s L - 5 标 8smoortodoe0o标au标 22 总积总肌 板17032726191总性三 目标标丙S固标-量 白细胞计数 15.293.69--9.16x10P/L血红蛋白 140 113--151g/L 1 中性粒细胞% 89.250.0%--70.09%6红细胞比 0.384 0.335--0.450 淋巴细胞% 5.4小20.09%--40.0%平均红细胞体积 88.5 82.6--99.1f - 单核细胞% 5.0 3.096--10.0%6 平均血红蛋白量 32.326.9--33.3p9 酸性粒细胞% 0.3小0.5%--5.0% 平均血红蛋白浓度365小322--3629/ 1 碱性粒细胞% 0.1 <1.0% 红细胞分布宽度 12.0 11.696--14.0% - 中性粒细胞计数 13.652.00--7.00x10/L 血小板计数 193 101--320x1C - 淋巴细胞计数 0.82 0.80--4.00x10/L血小板平均体积 11.2 6.5--12.0f 单核细胞计数 0.77 0.12--1.00x10P/L El 酸性粒细胞计数0.04 0.02--0.50x10P/L1 - f i 4.34 3.68--5.13x1012/L1 氨- I量jl草醇F蛋量7-03-27 16-24 间17-03-2716.30 直间17-03-27 16草直 异间17-03-2716.36 s丁积标-M/ 20板二 二二 -.1 量3蛋油 化单 1 总 核'"
      ]
     },
     "execution_count": 10,
     "metadata": {},
     "output_type": "execute_result"
    }
   ],
   "source": [
    "text_string"
   ]
  },
  {
   "cell_type": "code",
   "execution_count": 11,
   "metadata": {},
   "outputs": [
    {
     "name": "stdout",
     "output_type": "stream",
     "text": [
      "{'白细胞计数': 0, '红细胞计数': 0, '中性粒细胞%': 0, '淋巴细胞%': 0, '中性粒细胞计数': 0, '单核细胞计数': 0, '嗜酸性粒细胞计数': 0, '淋巴细胞计数': 0, '平均血红蛋白浓度': 0, '平均红细胞体积': 0, '嗜碱性粒细胞%': 0, '嗜碱性粒细胞计数': 0, '平均血红蛋白量': 0, '血小板计数': 0, '单核细胞%': 0, '嗜酸性粒细胞%': 0, '红细胞分布宽度': 0, '血红蛋白': 0, '血小板平均体积': 0, '红细胞比容': 0}\n"
     ]
    }
   ],
   "source": [
    "#initialize a dict for values with test_names as keys\n",
    "dic_values = {}\n",
    "[dic_values.setdefault(name, 0) for name in test_names]\n",
    "print(dic_values)"
   ]
  },
  {
   "cell_type": "code",
   "execution_count": 12,
   "metadata": {},
   "outputs": [],
   "source": [
    "#find the values for test_names, here suppose the values are all float\n",
    "for k, v in dic_names.items():\n",
    "    value = re.findall('\\d+\\.?\\d{0,3}', text_string[text_string.find(re.findall(r'[\\u4e00-\\u9fff]+', v)[0]):text_string.find(re.findall(r'[\\u4e00-\\u9fff]+', v)[0])+30])\n",
    "    if value:\n",
    "        dic_values[k] = value[0]"
   ]
  },
  {
   "cell_type": "code",
   "execution_count": 13,
   "metadata": {},
   "outputs": [
    {
     "data": {
      "text/plain": [
       "{'中性粒细胞%': '89.250',\n",
       " '中性粒细胞计数': '13.652',\n",
       " '单核细胞%': '5.0',\n",
       " '单核细胞计数': '0.77',\n",
       " '嗜碱性粒细胞%': '0.1',\n",
       " '嗜碱性粒细胞计数': '13.652',\n",
       " '嗜酸性粒细胞%': '0.3',\n",
       " '嗜酸性粒细胞计数': '0.04',\n",
       " '平均红细胞体积': '20.09',\n",
       " '平均血红蛋白浓度': '365',\n",
       " '平均血红蛋白量': '32.326',\n",
       " '淋巴细胞%': '5.4',\n",
       " '淋巴细胞计数': '0.82',\n",
       " '白细胞计数': '15.293',\n",
       " '红细胞分布宽度': '12.0',\n",
       " '红细胞比容': '0.384',\n",
       " '红细胞计数': '15.293',\n",
       " '血小板平均体积': '11.2',\n",
       " '血小板计数': '193',\n",
       " '血红蛋白': '140'}"
      ]
     },
     "execution_count": 13,
     "metadata": {},
     "output_type": "execute_result"
    }
   ],
   "source": [
    "dic_values"
   ]
  },
  {
   "cell_type": "code",
   "execution_count": 14,
   "metadata": {},
   "outputs": [
    {
     "data": {
      "text/plain": [
       "0.85"
      ]
     },
     "execution_count": 14,
     "metadata": {},
     "output_type": "execute_result"
    }
   ],
   "source": [
    "17/len(test_names)"
   ]
  },
  {
   "cell_type": "code",
   "execution_count": null,
   "metadata": {},
   "outputs": [],
   "source": []
  }
 ],
 "metadata": {
  "kernelspec": {
   "display_name": "Python 3",
   "language": "python",
   "name": "python3"
  },
  "language_info": {
   "codemirror_mode": {
    "name": "ipython",
    "version": 3
   },
   "file_extension": ".py",
   "mimetype": "text/x-python",
   "name": "python",
   "nbconvert_exporter": "python",
   "pygments_lexer": "ipython3",
   "version": "3.6.8"
  }
 },
 "nbformat": 4,
 "nbformat_minor": 2
}
