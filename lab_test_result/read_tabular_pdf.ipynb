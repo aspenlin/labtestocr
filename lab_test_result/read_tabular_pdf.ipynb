{
 "cells": [
  {
   "cell_type": "code",
   "execution_count": 1,
   "metadata": {},
   "outputs": [
    {
     "name": "stdout",
     "output_type": "stream",
     "text": [
      "/Users/jingjinglin/Machine_Learning/Siuvo2019SummerIntern/Tesseract-OCR/lab_test_result\n"
     ]
    }
   ],
   "source": [
    "import os\n",
    "print(os.getcwd())"
   ]
  },
  {
   "cell_type": "code",
   "execution_count": 2,
   "metadata": {},
   "outputs": [],
   "source": [
    "import img2pdf"
   ]
  },
  {
   "cell_type": "code",
   "execution_count": 4,
   "metadata": {},
   "outputs": [],
   "source": [
    "with open(\"labtest1.pdf\",\"wb\") as f:\n",
    "    f.write(img2pdf.convert('labtest1_alphaoff.png'))"
   ]
  },
  {
   "cell_type": "code",
   "execution_count": 1,
   "metadata": {},
   "outputs": [],
   "source": [
    "import camelot"
   ]
  },
  {
   "cell_type": "code",
   "execution_count": 4,
   "metadata": {},
   "outputs": [],
   "source": [
    "tables = camelot.read_pdf('bloodtest11_pdf.pdf', flavor='stream')"
   ]
  },
  {
   "cell_type": "code",
   "execution_count": 8,
   "metadata": {},
   "outputs": [],
   "source": [
    "tables.export('foo.csv', f='csv', compress=False)"
   ]
  },
  {
   "cell_type": "code",
   "execution_count": 9,
   "metadata": {},
   "outputs": [
    {
     "data": {
      "text/plain": [
       "<TableList n=1>"
      ]
     },
     "execution_count": 9,
     "metadata": {},
     "output_type": "execute_result"
    }
   ],
   "source": [
    "tables"
   ]
  },
  {
   "cell_type": "code",
   "execution_count": 10,
   "metadata": {},
   "outputs": [
    {
     "data": {
      "text/plain": [
       "1"
      ]
     },
     "execution_count": 10,
     "metadata": {},
     "output_type": "execute_result"
    }
   ],
   "source": [
    "len(tables)"
   ]
  },
  {
   "cell_type": "code",
   "execution_count": 12,
   "metadata": {},
   "outputs": [],
   "source": [
    "import pandas as pd"
   ]
  },
  {
   "cell_type": "code",
   "execution_count": 19,
   "metadata": {},
   "outputs": [],
   "source": [
    "df = pd.read_csv('foo-page-1-table-1.csv', header=5)"
   ]
  },
  {
   "cell_type": "code",
   "execution_count": 20,
   "metadata": {},
   "outputs": [
    {
     "data": {
      "text/html": [
       "<div>\n",
       "<style scoped>\n",
       "    .dataframe tbody tr th:only-of-type {\n",
       "        vertical-align: middle;\n",
       "    }\n",
       "\n",
       "    .dataframe tbody tr th {\n",
       "        vertical-align: top;\n",
       "    }\n",
       "\n",
       "    .dataframe thead th {\n",
       "        text-align: right;\n",
       "    }\n",
       "</style>\n",
       "<table border=\"1\" class=\"dataframe\">\n",
       "  <thead>\n",
       "    <tr style=\"text-align: right;\">\n",
       "      <th></th>\n",
       "      <th>分  079/L3.2-9.7 \n",
       "3.79</th>\n",
       "      <th>Unnamed: 1</th>\n",
       "    </tr>\n",
       "  </thead>\n",
       "  <tbody>\n",
       "    <tr>\n",
       "      <th>0</th>\n",
       "      <td>白  细  胞 数</td>\n",
       "      <td>NaN</td>\n",
       "    </tr>\n",
       "    <tr>\n",
       "      <th>1</th>\n",
       "      <td>0.20-0.40 \\n0.361 \\n淋  巴  细  胞  比 值</td>\n",
       "      <td>NaN</td>\n",
       "    </tr>\n",
       "    <tr>\n",
       "      <th>2</th>\n",
       "      <td>0.03-0.08 \\n0.142 \\n单 细  胞  比 值</td>\n",
       "      <td>NaN</td>\n",
       "    </tr>\n",
       "    <tr>\n",
       "      <th>3</th>\n",
       "      <td>嗜 中  性 粒  细  胞  比 值  0.494 \\n0.50-0.70</td>\n",
       "      <td>NaN</td>\n",
       "    </tr>\n",
       "    <tr>\n",
       "      <th>4</th>\n",
       "      <td>酸 性 粒 细 胞 比 值  0.003 \\n0.005-0.05</td>\n",
       "      <td>NaN</td>\n",
       "    </tr>\n",
       "    <tr>\n",
       "      <th>5</th>\n",
       "      <td>碱 性 粒 细 胞 比 值  0.000 \\n0-0.01</td>\n",
       "      <td>NaN</td>\n",
       "    </tr>\n",
       "    <tr>\n",
       "      <th>6</th>\n",
       "      <td>淋  巴  细  胞 数 \\n1.37 \\n标 0-9/L0.64-3.88</td>\n",
       "      <td>NaN</td>\n",
       "    </tr>\n",
       "    <tr>\n",
       "      <th>7</th>\n",
       "      <td>单 核 细  胞 数 \\n0.54 \\n079/L0.096-0.776</td>\n",
       "      <td>NaN</td>\n",
       "    </tr>\n",
       "    <tr>\n",
       "      <th>8</th>\n",
       "      <td>中  性 粒 细 胞 \\n数 \\n1.87 \\n标 1079/L1.6-6.8</td>\n",
       "      <td>NaN</td>\n",
       "    </tr>\n",
       "    <tr>\n",
       "      <th>9</th>\n",
       "      <td>Rt0.01 \\n079/L0.002-0.485</td>\n",
       "      <td>NaN</td>\n",
       "    </tr>\n",
       "    <tr>\n",
       "      <th>10</th>\n",
       "      <td>A1079/L0-0.097 \\n0.00</td>\n",
       "      <td>NaN</td>\n",
       "    </tr>\n",
       "    <tr>\n",
       "      <th>11</th>\n",
       "      <td>嗜  碱 性 粒  细 数</td>\n",
       "      <td>NaN</td>\n",
       "    </tr>\n",
       "    <tr>\n",
       "      <th>12</th>\n",
       "      <td>红  细 \\n5.54A0712/L4.0-5.5</td>\n",
       "      <td>NaN</td>\n",
       "    </tr>\n",
       "  </tbody>\n",
       "</table>\n",
       "</div>"
      ],
      "text/plain": [
       "                     分  079/L3.2-9.7 \\n3.79  Unnamed: 1\n",
       "0                                 白  细  胞 数         NaN\n",
       "1       0.20-0.40 \\n0.361 \\n淋  巴  细  胞  比 值         NaN\n",
       "2           0.03-0.08 \\n0.142 \\n单 细  胞  比 值         NaN\n",
       "3    嗜 中  性 粒  细  胞  比 值  0.494 \\n0.50-0.70         NaN\n",
       "4         酸 性 粒 细 胞 比 值  0.003 \\n0.005-0.05         NaN\n",
       "5             碱 性 粒 细 胞 比 值  0.000 \\n0-0.01         NaN\n",
       "6    淋  巴  细  胞 数 \\n1.37 \\n标 0-9/L0.64-3.88         NaN\n",
       "7      单 核 细  胞 数 \\n0.54 \\n079/L0.096-0.776         NaN\n",
       "8   中  性 粒 细 胞 \\n数 \\n1.87 \\n标 1079/L1.6-6.8         NaN\n",
       "9                 Rt0.01 \\n079/L0.002-0.485         NaN\n",
       "10                    A1079/L0-0.097 \\n0.00         NaN\n",
       "11                            嗜  碱 性 粒  细 数         NaN\n",
       "12                红  细 \\n5.54A0712/L4.0-5.5         NaN"
      ]
     },
     "execution_count": 20,
     "metadata": {},
     "output_type": "execute_result"
    }
   ],
   "source": [
    "df"
   ]
  },
  {
   "cell_type": "code",
   "execution_count": null,
   "metadata": {},
   "outputs": [],
   "source": []
  }
 ],
 "metadata": {
  "kernelspec": {
   "display_name": "Python 3",
   "language": "python",
   "name": "python3"
  }
 },
 "nbformat": 4,
 "nbformat_minor": 2
}
